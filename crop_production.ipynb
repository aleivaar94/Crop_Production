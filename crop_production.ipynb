{
 "cells": [
  {
   "cell_type": "code",
   "execution_count": 11,
   "metadata": {},
   "outputs": [],
   "source": [
    "import pandas as pd\n",
    "import plotly.express as px\n",
    "import plotly.graph_objects as go\n",
    "from plotly.subplots import make_subplots\n",
    "import matplotlib.pyplot as plt\n",
    "\n",
    "pd.set_option('display.max_columns', None)"
   ]
  },
  {
   "cell_type": "code",
   "execution_count": 2,
   "metadata": {},
   "outputs": [
    {
     "data": {
      "application/vnd.microsoft.datawrangler.viewer.v0+json": {
       "columns": [
        {
         "name": "index",
         "rawType": "int64",
         "type": "integer"
        },
        {
         "name": "Crop",
         "rawType": "object",
         "type": "string"
        },
        {
         "name": "2018",
         "rawType": "float64",
         "type": "float"
        },
        {
         "name": "2018",
         "rawType": "float64",
         "type": "float"
        },
        {
         "name": "2018",
         "rawType": "float64",
         "type": "float"
        },
        {
         "name": "2019",
         "rawType": "float64",
         "type": "float"
        },
        {
         "name": "2019",
         "rawType": "float64",
         "type": "float"
        },
        {
         "name": "2019",
         "rawType": "float64",
         "type": "float"
        },
        {
         "name": "2020",
         "rawType": "float64",
         "type": "float"
        },
        {
         "name": "2020",
         "rawType": "float64",
         "type": "float"
        },
        {
         "name": "2020",
         "rawType": "float64",
         "type": "float"
        },
        {
         "name": "2021",
         "rawType": "float64",
         "type": "float"
        },
        {
         "name": "2021",
         "rawType": "float64",
         "type": "float"
        },
        {
         "name": "2021",
         "rawType": "float64",
         "type": "float"
        },
        {
         "name": "2022",
         "rawType": "float64",
         "type": "float"
        },
        {
         "name": "2022",
         "rawType": "float64",
         "type": "float"
        },
        {
         "name": "2022",
         "rawType": "float64",
         "type": "float"
        },
        {
         "name": "2023",
         "rawType": "float64",
         "type": "float"
        },
        {
         "name": "2023",
         "rawType": "float64",
         "type": "float"
        },
        {
         "name": "2023",
         "rawType": "float64",
         "type": "float"
        }
       ],
       "conversionMethod": "pd.DataFrame",
       "ref": "0c2bd82b-93bc-4c7a-9e64-138e4746382b",
       "rows": [
        [
         "2",
         "Durum wheat",
         "4962.0",
         "4962.0",
         "5785.0",
         "5785.0",
         "5785.0",
         "5017.0",
         "5017.0",
         "5017.0",
         "6571.0",
         "6571.0",
         "6571.0",
         "3032.0",
         "3032.0",
         "3032.0",
         "5790.0",
         "5790.0",
         "5790.0",
         "4045.0"
        ],
        [
         "3",
         "Wheat excluding durum",
         "25415.0",
         "25415.0",
         "26567.0",
         "26567.0",
         "26567.0",
         "27653.0",
         "27653.0",
         "27653.0",
         "28866.0",
         "28866.0",
         "28866.0",
         "19390.0",
         "19390.0",
         "19390.0",
         "28545.0",
         "28545.0",
         "28545.0",
         "27909.0"
        ],
        [
         "4",
         "Oats",
         "3733.0",
         "3733.0",
         "3436.0",
         "3436.0",
         "3436.0",
         "4227.0",
         "4227.0",
         "4227.0",
         "4576.0",
         "4576.0",
         "4576.0",
         "2899.0",
         "2899.0",
         "2899.0",
         "5226.0",
         "5226.0",
         "5226.0",
         "2636.0"
        ],
        [
         "5",
         "Barley",
         "7891.0",
         "7891.0",
         "8380.0",
         "8380.0",
         "8380.0",
         "10383.0",
         "10383.0",
         "10383.0",
         "10741.0",
         "10741.0",
         "10741.0",
         "6984.0",
         "6984.0",
         "6984.0",
         "9987.0",
         "9987.0",
         "9987.0",
         "8896.0"
        ],
        [
         "6",
         "Rye",
         "341.0",
         "341.0",
         "236.0",
         "236.0",
         "236.0",
         "333.0",
         "333.0",
         "333.0",
         "488.0",
         "488.0",
         "488.0",
         "372.0",
         "372.0",
         "372.0",
         "520.0",
         "520.0",
         "520.0",
         "358.0"
        ]
       ],
       "shape": {
        "columns": 19,
        "rows": 5
       }
      },
      "text/html": [
       "<div>\n",
       "<style scoped>\n",
       "    .dataframe tbody tr th:only-of-type {\n",
       "        vertical-align: middle;\n",
       "    }\n",
       "\n",
       "    .dataframe tbody tr th {\n",
       "        vertical-align: top;\n",
       "    }\n",
       "\n",
       "    .dataframe thead th {\n",
       "        text-align: right;\n",
       "    }\n",
       "</style>\n",
       "<table border=\"1\" class=\"dataframe\">\n",
       "  <thead>\n",
       "    <tr style=\"text-align: right;\">\n",
       "      <th></th>\n",
       "      <th>Crop</th>\n",
       "      <th>2018</th>\n",
       "      <th>2018</th>\n",
       "      <th>2018</th>\n",
       "      <th>2019</th>\n",
       "      <th>2019</th>\n",
       "      <th>2019</th>\n",
       "      <th>2020</th>\n",
       "      <th>2020</th>\n",
       "      <th>2020</th>\n",
       "      <th>2021</th>\n",
       "      <th>2021</th>\n",
       "      <th>2021</th>\n",
       "      <th>2022</th>\n",
       "      <th>2022</th>\n",
       "      <th>2022</th>\n",
       "      <th>2023</th>\n",
       "      <th>2023</th>\n",
       "      <th>2023</th>\n",
       "    </tr>\n",
       "  </thead>\n",
       "  <tbody>\n",
       "    <tr>\n",
       "      <th>2</th>\n",
       "      <td>Durum wheat</td>\n",
       "      <td>4962.0</td>\n",
       "      <td>4962.0</td>\n",
       "      <td>5785.0</td>\n",
       "      <td>5785.0</td>\n",
       "      <td>5785.0</td>\n",
       "      <td>5017.0</td>\n",
       "      <td>5017.0</td>\n",
       "      <td>5017.0</td>\n",
       "      <td>6571.0</td>\n",
       "      <td>6571.0</td>\n",
       "      <td>6571.0</td>\n",
       "      <td>3032.0</td>\n",
       "      <td>3032.0</td>\n",
       "      <td>3032.0</td>\n",
       "      <td>5790.0</td>\n",
       "      <td>5790.0</td>\n",
       "      <td>5790.0</td>\n",
       "      <td>4045.0</td>\n",
       "    </tr>\n",
       "    <tr>\n",
       "      <th>3</th>\n",
       "      <td>Wheat excluding durum</td>\n",
       "      <td>25415.0</td>\n",
       "      <td>25415.0</td>\n",
       "      <td>26567.0</td>\n",
       "      <td>26567.0</td>\n",
       "      <td>26567.0</td>\n",
       "      <td>27653.0</td>\n",
       "      <td>27653.0</td>\n",
       "      <td>27653.0</td>\n",
       "      <td>28866.0</td>\n",
       "      <td>28866.0</td>\n",
       "      <td>28866.0</td>\n",
       "      <td>19390.0</td>\n",
       "      <td>19390.0</td>\n",
       "      <td>19390.0</td>\n",
       "      <td>28545.0</td>\n",
       "      <td>28545.0</td>\n",
       "      <td>28545.0</td>\n",
       "      <td>27909.0</td>\n",
       "    </tr>\n",
       "    <tr>\n",
       "      <th>4</th>\n",
       "      <td>Oats</td>\n",
       "      <td>3733.0</td>\n",
       "      <td>3733.0</td>\n",
       "      <td>3436.0</td>\n",
       "      <td>3436.0</td>\n",
       "      <td>3436.0</td>\n",
       "      <td>4227.0</td>\n",
       "      <td>4227.0</td>\n",
       "      <td>4227.0</td>\n",
       "      <td>4576.0</td>\n",
       "      <td>4576.0</td>\n",
       "      <td>4576.0</td>\n",
       "      <td>2899.0</td>\n",
       "      <td>2899.0</td>\n",
       "      <td>2899.0</td>\n",
       "      <td>5226.0</td>\n",
       "      <td>5226.0</td>\n",
       "      <td>5226.0</td>\n",
       "      <td>2636.0</td>\n",
       "    </tr>\n",
       "    <tr>\n",
       "      <th>5</th>\n",
       "      <td>Barley</td>\n",
       "      <td>7891.0</td>\n",
       "      <td>7891.0</td>\n",
       "      <td>8380.0</td>\n",
       "      <td>8380.0</td>\n",
       "      <td>8380.0</td>\n",
       "      <td>10383.0</td>\n",
       "      <td>10383.0</td>\n",
       "      <td>10383.0</td>\n",
       "      <td>10741.0</td>\n",
       "      <td>10741.0</td>\n",
       "      <td>10741.0</td>\n",
       "      <td>6984.0</td>\n",
       "      <td>6984.0</td>\n",
       "      <td>6984.0</td>\n",
       "      <td>9987.0</td>\n",
       "      <td>9987.0</td>\n",
       "      <td>9987.0</td>\n",
       "      <td>8896.0</td>\n",
       "    </tr>\n",
       "    <tr>\n",
       "      <th>6</th>\n",
       "      <td>Rye</td>\n",
       "      <td>341.0</td>\n",
       "      <td>341.0</td>\n",
       "      <td>236.0</td>\n",
       "      <td>236.0</td>\n",
       "      <td>236.0</td>\n",
       "      <td>333.0</td>\n",
       "      <td>333.0</td>\n",
       "      <td>333.0</td>\n",
       "      <td>488.0</td>\n",
       "      <td>488.0</td>\n",
       "      <td>488.0</td>\n",
       "      <td>372.0</td>\n",
       "      <td>372.0</td>\n",
       "      <td>372.0</td>\n",
       "      <td>520.0</td>\n",
       "      <td>520.0</td>\n",
       "      <td>520.0</td>\n",
       "      <td>358.0</td>\n",
       "    </tr>\n",
       "  </tbody>\n",
       "</table>\n",
       "</div>"
      ],
      "text/plain": [
       "                    Crop     2018     2018     2018     2019     2019  \\\n",
       "2            Durum wheat   4962.0   4962.0   5785.0   5785.0   5785.0   \n",
       "3  Wheat excluding durum  25415.0  25415.0  26567.0  26567.0  26567.0   \n",
       "4                   Oats   3733.0   3733.0   3436.0   3436.0   3436.0   \n",
       "5                 Barley   7891.0   7891.0   8380.0   8380.0   8380.0   \n",
       "6                    Rye    341.0    341.0    236.0    236.0    236.0   \n",
       "\n",
       "      2019     2020     2020     2020     2021     2021     2021     2022  \\\n",
       "2   5017.0   5017.0   5017.0   6571.0   6571.0   6571.0   3032.0   3032.0   \n",
       "3  27653.0  27653.0  27653.0  28866.0  28866.0  28866.0  19390.0  19390.0   \n",
       "4   4227.0   4227.0   4227.0   4576.0   4576.0   4576.0   2899.0   2899.0   \n",
       "5  10383.0  10383.0  10383.0  10741.0  10741.0  10741.0   6984.0   6984.0   \n",
       "6    333.0    333.0    333.0    488.0    488.0    488.0    372.0    372.0   \n",
       "\n",
       "      2022     2022     2023     2023     2023  \n",
       "2   3032.0   5790.0   5790.0   5790.0   4045.0  \n",
       "3  19390.0  28545.0  28545.0  28545.0  27909.0  \n",
       "4   2899.0   5226.0   5226.0   5226.0   2636.0  \n",
       "5   6984.0   9987.0   9987.0   9987.0   8896.0  \n",
       "6    372.0    520.0    520.0    520.0    358.0  "
      ]
     },
     "execution_count": 2,
     "metadata": {},
     "output_type": "execute_result"
    }
   ],
   "source": [
    "start_row = 10  # starting from row 10\n",
    "number_of_rows = 16  # reading from row 10 to 26\n",
    "\n",
    "df = pd.read_csv('3210001301-eng.csv', skiprows=range(start_row - 1), nrows=number_of_rows)\n",
    "df.drop(['Supply and disposition of grains', 'March 2024'] , axis=1, inplace=True)\n",
    "\n",
    "# replace all commas in the dataframe\n",
    "df = df.apply(lambda x: x.str.replace(',', ''))\n",
    "\n",
    "# Transform all columns with \"20**\" to numeric\n",
    "for col in df.columns:\n",
    "    if '20' in col:\n",
    "        df[col] = pd.to_numeric(df[col], errors='coerce')\n",
    "\n",
    "# Rename the columns\n",
    "df.columns = [name.split(' ')[1] for name in df.columns]\n",
    "\n",
    "# drop the first two rows\n",
    "df = df.iloc[2:]\n",
    "\n",
    "# Replace the name of the first column\n",
    "df.rename(columns={df.columns[0]: 'Crop'}, inplace=True)\n",
    "\n",
    "# Remove digits in the Crop column\n",
    "df['Crop'] = df['Crop'].str.replace(r'\\d+', '', regex=True)\n",
    "\n",
    "# Remove leading and trailing spaces in the Crop column\n",
    "df['Crop'] = df['Crop'].str.strip()\n",
    "\n",
    "# Round all numeric values\n",
    "df = df.round(0)\n",
    "\n",
    "df.head()"
   ]
  },
  {
   "cell_type": "code",
   "execution_count": 3,
   "metadata": {},
   "outputs": [
    {
     "data": {
      "application/vnd.microsoft.datawrangler.viewer.v0+json": {
       "columns": [
        {
         "name": "index",
         "rawType": "int64",
         "type": "integer"
        },
        {
         "name": "Crop",
         "rawType": "object",
         "type": "string"
        },
        {
         "name": "Year",
         "rawType": "object",
         "type": "string"
        },
        {
         "name": "Metric_Tonnes",
         "rawType": "float64",
         "type": "float"
        }
       ],
       "conversionMethod": "pd.DataFrame",
       "ref": "4e645923-2992-4a57-8917-1aedbd168572",
       "rows": [
        [
         "0",
         "Barley",
         "2018",
         "24162.0"
        ],
        [
         "1",
         "Barley",
         "2019",
         "27143.0"
        ],
        [
         "2",
         "Barley",
         "2020",
         "31507.0"
        ],
        [
         "3",
         "Barley",
         "2021",
         "28466.0"
        ],
        [
         "4",
         "Barley",
         "2022",
         "23955.0"
        ],
        [
         "5",
         "Barley",
         "2023",
         "28870.0"
        ],
        [
         "6",
         "Canary seed",
         "2018",
         "158.0"
        ],
        [
         "7",
         "Canary seed",
         "2019",
         "491.0"
        ],
        [
         "8",
         "Canary seed",
         "2020",
         "575.0"
        ],
        [
         "9",
         "Canary seed",
         "2021",
         "577.0"
        ],
        [
         "10",
         "Canary seed",
         "2022",
         "413.0"
        ],
        [
         "11",
         "Canary seed",
         "2023",
         "430.0"
        ],
        [
         "12",
         "Canola",
         "2018",
         "63640.0"
        ],
        [
         "13",
         "Canola",
         "2019",
         "61360.0"
        ],
        [
         "14",
         "Canola",
         "2020",
         "59309.0"
        ],
        [
         "15",
         "Canola",
         "2021",
         "53218.0"
        ],
        [
         "16",
         "Canola",
         "2022",
         "47191.0"
        ],
        [
         "17",
         "Canola",
         "2023",
         "55718.0"
        ],
        [
         "18",
         "Chickpeas",
         "2018",
         "311.0"
        ],
        [
         "19",
         "Chickpeas",
         "2019",
         "874.0"
        ],
        [
         "20",
         "Chickpeas",
         "2020",
         "718.0"
        ],
        [
         "21",
         "Chickpeas",
         "2021",
         "519.0"
        ],
        [
         "22",
         "Chickpeas",
         "2022",
         "310.0"
        ],
        [
         "23",
         "Chickpeas",
         "2023",
         "398.0"
        ],
        [
         "24",
         "Dry peas",
         "2018",
         "11805.0"
        ],
        [
         "25",
         "Dry peas",
         "2019",
         "11398.0"
        ],
        [
         "26",
         "Dry peas",
         "2020",
         "13066.0"
        ],
        [
         "27",
         "Dry peas",
         "2021",
         "11432.0"
        ],
        [
         "28",
         "Dry peas",
         "2022",
         "7911.0"
        ],
        [
         "29",
         "Dry peas",
         "2023",
         "9455.0"
        ],
        [
         "30",
         "Durum wheat",
         "2018",
         "15709.0"
        ],
        [
         "31",
         "Durum wheat",
         "2019",
         "16587.0"
        ],
        [
         "32",
         "Durum wheat",
         "2020",
         "16605.0"
        ],
        [
         "33",
         "Durum wheat",
         "2021",
         "16174.0"
        ],
        [
         "34",
         "Durum wheat",
         "2022",
         "11854.0"
        ],
        [
         "35",
         "Durum wheat",
         "2023",
         "15625.0"
        ],
        [
         "36",
         "Flaxseed",
         "2018",
         "1602.0"
        ],
        [
         "37",
         "Flaxseed",
         "2019",
         "1470.0"
        ],
        [
         "38",
         "Flaxseed",
         "2020",
         "1550.0"
        ],
        [
         "39",
         "Flaxseed",
         "2021",
         "1493.0"
        ],
        [
         "40",
         "Flaxseed",
         "2022",
         "1147.0"
        ],
        [
         "41",
         "Flaxseed",
         "2023",
         "1219.0"
        ],
        [
         "42",
         "Lentils",
         "2018",
         "7308.0"
        ],
        [
         "43",
         "Lentils",
         "2019",
         "6766.0"
        ],
        [
         "44",
         "Lentils",
         "2020",
         "7632.0"
        ],
        [
         "45",
         "Lentils",
         "2021",
         "7330.0"
        ],
        [
         "46",
         "Lentils",
         "2022",
         "5489.0"
        ],
        [
         "47",
         "Lentils",
         "2023",
         "6273.0"
        ],
        [
         "48",
         "Mustard seed",
         "2018",
         "174.0"
        ],
        [
         "49",
         "Mustard seed",
         "2019",
         "483.0"
        ]
       ],
       "shape": {
        "columns": 3,
        "rows": 84
       }
      },
      "text/html": [
       "<div>\n",
       "<style scoped>\n",
       "    .dataframe tbody tr th:only-of-type {\n",
       "        vertical-align: middle;\n",
       "    }\n",
       "\n",
       "    .dataframe tbody tr th {\n",
       "        vertical-align: top;\n",
       "    }\n",
       "\n",
       "    .dataframe thead th {\n",
       "        text-align: right;\n",
       "    }\n",
       "</style>\n",
       "<table border=\"1\" class=\"dataframe\">\n",
       "  <thead>\n",
       "    <tr style=\"text-align: right;\">\n",
       "      <th></th>\n",
       "      <th>Crop</th>\n",
       "      <th>Year</th>\n",
       "      <th>Metric_Tonnes</th>\n",
       "    </tr>\n",
       "  </thead>\n",
       "  <tbody>\n",
       "    <tr>\n",
       "      <th>0</th>\n",
       "      <td>Barley</td>\n",
       "      <td>2018</td>\n",
       "      <td>24162.0</td>\n",
       "    </tr>\n",
       "    <tr>\n",
       "      <th>1</th>\n",
       "      <td>Barley</td>\n",
       "      <td>2019</td>\n",
       "      <td>27143.0</td>\n",
       "    </tr>\n",
       "    <tr>\n",
       "      <th>2</th>\n",
       "      <td>Barley</td>\n",
       "      <td>2020</td>\n",
       "      <td>31507.0</td>\n",
       "    </tr>\n",
       "    <tr>\n",
       "      <th>3</th>\n",
       "      <td>Barley</td>\n",
       "      <td>2021</td>\n",
       "      <td>28466.0</td>\n",
       "    </tr>\n",
       "    <tr>\n",
       "      <th>4</th>\n",
       "      <td>Barley</td>\n",
       "      <td>2022</td>\n",
       "      <td>23955.0</td>\n",
       "    </tr>\n",
       "    <tr>\n",
       "      <th>...</th>\n",
       "      <td>...</td>\n",
       "      <td>...</td>\n",
       "      <td>...</td>\n",
       "    </tr>\n",
       "    <tr>\n",
       "      <th>79</th>\n",
       "      <td>Wheat excluding durum</td>\n",
       "      <td>2019</td>\n",
       "      <td>80787.0</td>\n",
       "    </tr>\n",
       "    <tr>\n",
       "      <th>80</th>\n",
       "      <td>Wheat excluding durum</td>\n",
       "      <td>2020</td>\n",
       "      <td>84172.0</td>\n",
       "    </tr>\n",
       "    <tr>\n",
       "      <th>81</th>\n",
       "      <td>Wheat excluding durum</td>\n",
       "      <td>2021</td>\n",
       "      <td>77122.0</td>\n",
       "    </tr>\n",
       "    <tr>\n",
       "      <th>82</th>\n",
       "      <td>Wheat excluding durum</td>\n",
       "      <td>2022</td>\n",
       "      <td>67325.0</td>\n",
       "    </tr>\n",
       "    <tr>\n",
       "      <th>83</th>\n",
       "      <td>Wheat excluding durum</td>\n",
       "      <td>2023</td>\n",
       "      <td>84999.0</td>\n",
       "    </tr>\n",
       "  </tbody>\n",
       "</table>\n",
       "<p>84 rows × 3 columns</p>\n",
       "</div>"
      ],
      "text/plain": [
       "                     Crop  Year  Metric_Tonnes\n",
       "0                  Barley  2018        24162.0\n",
       "1                  Barley  2019        27143.0\n",
       "2                  Barley  2020        31507.0\n",
       "3                  Barley  2021        28466.0\n",
       "4                  Barley  2022        23955.0\n",
       "..                    ...   ...            ...\n",
       "79  Wheat excluding durum  2019        80787.0\n",
       "80  Wheat excluding durum  2020        84172.0\n",
       "81  Wheat excluding durum  2021        77122.0\n",
       "82  Wheat excluding durum  2022        67325.0\n",
       "83  Wheat excluding durum  2023        84999.0\n",
       "\n",
       "[84 rows x 3 columns]"
      ]
     },
     "execution_count": 3,
     "metadata": {},
     "output_type": "execute_result"
    }
   ],
   "source": [
    "# Add crop production data for each year\n",
    "df_melted = df.melt(id_vars='Crop', var_name='Year', value_name='Metric_Tonnes')\n",
    "df_grouped = df_melted.groupby(['Crop', 'Year'], as_index=False).sum()\n",
    "df_grouped"
   ]
  },
  {
   "cell_type": "code",
   "execution_count": 5,
   "metadata": {},
   "outputs": [
    {
     "data": {
      "application/vnd.plotly.v1+json": {
       "config": {
        "plotlyServerURL": "https://plot.ly"
       },
       "data": [
        {
         "alignmentgroup": "True",
         "hovertemplate": "Crop=Barley<br>Year=%{x}<br>Metric_Tonnes=%{y}<extra></extra>",
         "legendgroup": "Barley",
         "marker": {
          "color": "#636efa",
          "pattern": {
           "shape": ""
          }
         },
         "name": "Barley",
         "offsetgroup": "Barley",
         "orientation": "v",
         "showlegend": true,
         "textposition": "auto",
         "type": "bar",
         "x": [
          "2018",
          "2019",
          "2020",
          "2021",
          "2022",
          "2023"
         ],
         "xaxis": "x",
         "y": {
          "bdata": "AAAAAICY10AAAAAAwIHaQAAAAADAxN5AAAAAAIDM20AAAAAAwGTXQAAAAACAMdxA",
          "dtype": "f8"
         },
         "yaxis": "y"
        },
        {
         "alignmentgroup": "True",
         "hovertemplate": "Crop=Canary seed<br>Year=%{x}<br>Metric_Tonnes=%{y}<extra></extra>",
         "legendgroup": "Canary seed",
         "marker": {
          "color": "#EF553B",
          "pattern": {
           "shape": ""
          }
         },
         "name": "Canary seed",
         "offsetgroup": "Canary seed",
         "orientation": "v",
         "showlegend": true,
         "textposition": "auto",
         "type": "bar",
         "x": [
          "2018",
          "2019",
          "2020",
          "2021",
          "2022",
          "2023"
         ],
         "xaxis": "x",
         "y": {
          "bdata": "AAAAAADAY0AAAAAAALB+QAAAAAAA+IFAAAAAAAAIgkAAAAAAANB5QAAAAAAA4HpA",
          "dtype": "f8"
         },
         "yaxis": "y"
        },
        {
         "alignmentgroup": "True",
         "hovertemplate": "Crop=Canola<br>Year=%{x}<br>Metric_Tonnes=%{y}<extra></extra>",
         "legendgroup": "Canola",
         "marker": {
          "color": "#00cc96",
          "pattern": {
           "shape": ""
          }
         },
         "name": "Canola",
         "offsetgroup": "Canola",
         "orientation": "v",
         "showlegend": true,
         "textposition": "auto",
         "type": "bar",
         "x": [
          "2018",
          "2019",
          "2020",
          "2021",
          "2022",
          "2023"
         ],
         "xaxis": "x",
         "y": {
          "bdata": "AAAAAAAT70AAAAAAAPbtQAAAAACg9exAAAAAAED86UAAAAAA4ArnQAAAAADANOtA",
          "dtype": "f8"
         },
         "yaxis": "y"
        },
        {
         "alignmentgroup": "True",
         "hovertemplate": "Crop=Chickpeas<br>Year=%{x}<br>Metric_Tonnes=%{y}<extra></extra>",
         "legendgroup": "Chickpeas",
         "marker": {
          "color": "#ab63fa",
          "pattern": {
           "shape": ""
          }
         },
         "name": "Chickpeas",
         "offsetgroup": "Chickpeas",
         "orientation": "v",
         "showlegend": true,
         "textposition": "auto",
         "type": "bar",
         "x": [
          "2018",
          "2019",
          "2020",
          "2021",
          "2022",
          "2023"
         ],
         "xaxis": "x",
         "y": {
          "bdata": "AAAAAABwc0AAAAAAAFCLQAAAAAAAcIZAAAAAAAA4gEAAAAAAAGBzQAAAAAAA4HhA",
          "dtype": "f8"
         },
         "yaxis": "y"
        },
        {
         "alignmentgroup": "True",
         "hovertemplate": "Crop=Dry peas<br>Year=%{x}<br>Metric_Tonnes=%{y}<extra></extra>",
         "legendgroup": "Dry peas",
         "marker": {
          "color": "#FFA15A",
          "pattern": {
           "shape": ""
          }
         },
         "name": "Dry peas",
         "offsetgroup": "Dry peas",
         "orientation": "v",
         "showlegend": true,
         "textposition": "auto",
         "type": "bar",
         "x": [
          "2018",
          "2019",
          "2020",
          "2021",
          "2022",
          "2023"
         ],
         "xaxis": "x",
         "y": {
          "bdata": "AAAAAIAOx0AAAAAAAEPGQAAAAAAAhclAAAAAAABUxkAAAAAAAOe+QAAAAACAd8JA",
          "dtype": "f8"
         },
         "yaxis": "y"
        },
        {
         "alignmentgroup": "True",
         "hovertemplate": "Crop=Durum wheat<br>Year=%{x}<br>Metric_Tonnes=%{y}<extra></extra>",
         "legendgroup": "Durum wheat",
         "marker": {
          "color": "#19d3f3",
          "pattern": {
           "shape": ""
          }
         },
         "name": "Durum wheat",
         "offsetgroup": "Durum wheat",
         "orientation": "v",
         "showlegend": true,
         "textposition": "auto",
         "type": "bar",
         "x": [
          "2018",
          "2019",
          "2020",
          "2021",
          "2022",
          "2023"
         ],
         "xaxis": "x",
         "y": {
          "bdata": "AAAAAICuzkAAAAAAwDLQQAAAAABAN9BAAAAAAACXz0AAAAAAACfHQAAAAACAhM5A",
          "dtype": "f8"
         },
         "yaxis": "y"
        },
        {
         "alignmentgroup": "True",
         "hovertemplate": "Crop=Flaxseed<br>Year=%{x}<br>Metric_Tonnes=%{y}<extra></extra>",
         "legendgroup": "Flaxseed",
         "marker": {
          "color": "#FF6692",
          "pattern": {
           "shape": ""
          }
         },
         "name": "Flaxseed",
         "offsetgroup": "Flaxseed",
         "orientation": "v",
         "showlegend": true,
         "textposition": "auto",
         "type": "bar",
         "x": [
          "2018",
          "2019",
          "2020",
          "2021",
          "2022",
          "2023"
         ],
         "xaxis": "x",
         "y": {
          "bdata": "AAAAAAAImUAAAAAAAPiWQAAAAAAAOJhAAAAAAABUl0AAAAAAAOyRQAAAAAAADJNA",
          "dtype": "f8"
         },
         "yaxis": "y"
        },
        {
         "alignmentgroup": "True",
         "hovertemplate": "Crop=Lentils<br>Year=%{x}<br>Metric_Tonnes=%{y}<extra></extra>",
         "legendgroup": "Lentils",
         "marker": {
          "color": "#B6E880",
          "pattern": {
           "shape": ""
          }
         },
         "name": "Lentils",
         "offsetgroup": "Lentils",
         "orientation": "v",
         "showlegend": true,
         "textposition": "auto",
         "type": "bar",
         "x": [
          "2018",
          "2019",
          "2020",
          "2021",
          "2022",
          "2023"
         ],
         "xaxis": "x",
         "y": {
          "bdata": "AAAAAACMvEAAAAAAAG66QAAAAAAA0L1AAAAAAACivEAAAAAAAHG1QAAAAAAAgbhA",
          "dtype": "f8"
         },
         "yaxis": "y"
        },
        {
         "alignmentgroup": "True",
         "hovertemplate": "Crop=Mustard seed<br>Year=%{x}<br>Metric_Tonnes=%{y}<extra></extra>",
         "legendgroup": "Mustard seed",
         "marker": {
          "color": "#FF97FF",
          "pattern": {
           "shape": ""
          }
         },
         "name": "Mustard seed",
         "offsetgroup": "Mustard seed",
         "orientation": "v",
         "showlegend": true,
         "textposition": "auto",
         "type": "bar",
         "x": [
          "2018",
          "2019",
          "2020",
          "2021",
          "2022",
          "2023"
         ],
         "xaxis": "x",
         "y": {
          "bdata": "AAAAAADAZUAAAAAAADB+QAAAAAAAIHdAAAAAAABAcEAAAAAAAKBxQAAAAAAA8H5A",
          "dtype": "f8"
         },
         "yaxis": "y"
        },
        {
         "alignmentgroup": "True",
         "hovertemplate": "Crop=Oats<br>Year=%{x}<br>Metric_Tonnes=%{y}<extra></extra>",
         "legendgroup": "Oats",
         "marker": {
          "color": "#FECB52",
          "pattern": {
           "shape": ""
          }
         },
         "name": "Oats",
         "offsetgroup": "Oats",
         "orientation": "v",
         "showlegend": true,
         "textposition": "auto",
         "type": "bar",
         "x": [
          "2018",
          "2019",
          "2020",
          "2021",
          "2022",
          "2023"
         ],
         "xaxis": "x",
         "y": {
          "bdata": "AAAAAABLxUAAAAAAgK3FQAAAAAAAc8lAAAAAAICJx0AAAAAAAIjFQAAAAAAAkMlA",
          "dtype": "f8"
         },
         "yaxis": "y"
        },
        {
         "alignmentgroup": "True",
         "hovertemplate": "Crop=Rye<br>Year=%{x}<br>Metric_Tonnes=%{y}<extra></extra>",
         "legendgroup": "Rye",
         "marker": {
          "color": "#636efa",
          "pattern": {
           "shape": ""
          }
         },
         "name": "Rye",
         "offsetgroup": "Rye",
         "orientation": "v",
         "showlegend": true,
         "textposition": "auto",
         "type": "bar",
         "x": [
          "2018",
          "2019",
          "2020",
          "2021",
          "2022",
          "2023"
         ],
         "xaxis": "x",
         "y": {
          "bdata": "AAAAAACwjEAAAAAAACiJQAAAAAAACJJAAAAAAAAQlUAAAAAAAMCTQAAAAAAA2JVA",
          "dtype": "f8"
         },
         "yaxis": "y"
        },
        {
         "alignmentgroup": "True",
         "hovertemplate": "Crop=Soybeans<br>Year=%{x}<br>Metric_Tonnes=%{y}<extra></extra>",
         "legendgroup": "Soybeans",
         "marker": {
          "color": "#EF553B",
          "pattern": {
           "shape": ""
          }
         },
         "name": "Soybeans",
         "offsetgroup": "Soybeans",
         "orientation": "v",
         "showlegend": true,
         "textposition": "auto",
         "type": "bar",
         "x": [
          "2018",
          "2019",
          "2020",
          "2021",
          "2022",
          "2023"
         ],
         "xaxis": "x",
         "y": {
          "bdata": "AAAAAMBQ1kAAAAAAwHzUQAAAAABANtJAAAAAAIB/0kAAAAAAwIvSQAAAAACAmNNA",
          "dtype": "f8"
         },
         "yaxis": "y"
        },
        {
         "alignmentgroup": "True",
         "hovertemplate": "Crop=Sunflower seed<br>Year=%{x}<br>Metric_Tonnes=%{y}<extra></extra>",
         "legendgroup": "Sunflower seed",
         "marker": {
          "color": "#00cc96",
          "pattern": {
           "shape": ""
          }
         },
         "name": "Sunflower seed",
         "offsetgroup": "Sunflower seed",
         "orientation": "v",
         "showlegend": true,
         "textposition": "auto",
         "type": "bar",
         "x": [
          "2018",
          "2019",
          "2020",
          "2021",
          "2022",
          "2023"
         ],
         "xaxis": "x",
         "y": {
          "bdata": "AAAAAACATEAAAAAAACBmQAAAAAAAYGxAAAAAAABQcUAAAAAAAEBtQAAAAAAAQHBA",
          "dtype": "f8"
         },
         "yaxis": "y"
        },
        {
         "alignmentgroup": "True",
         "hovertemplate": "Crop=Wheat excluding durum<br>Year=%{x}<br>Metric_Tonnes=%{y}<extra></extra>",
         "legendgroup": "Wheat excluding durum",
         "marker": {
          "color": "#ab63fa",
          "pattern": {
           "shape": ""
          }
         },
         "name": "Wheat excluding durum",
         "offsetgroup": "Wheat excluding durum",
         "orientation": "v",
         "showlegend": true,
         "textposition": "auto",
         "type": "bar",
         "x": [
          "2018",
          "2019",
          "2020",
          "2021",
          "2022",
          "2023"
         ],
         "xaxis": "x",
         "y": {
          "bdata": "AAAAAFDl8kAAAAAAMLnzQAAAAADAjPRAAAAAACDU8kAAAAAA0G/wQAAAAABwwPRA",
          "dtype": "f8"
         },
         "yaxis": "y"
        }
       ],
       "layout": {
        "barmode": "group",
        "height": 600,
        "legend": {
         "title": {
          "text": "Crop"
         },
         "tracegroupgap": 0
        },
        "margin": {
         "t": 60
        },
        "template": {
         "data": {
          "bar": [
           {
            "error_x": {
             "color": "#2a3f5f"
            },
            "error_y": {
             "color": "#2a3f5f"
            },
            "marker": {
             "line": {
              "color": "#E5ECF6",
              "width": 0.5
             },
             "pattern": {
              "fillmode": "overlay",
              "size": 10,
              "solidity": 0.2
             }
            },
            "type": "bar"
           }
          ],
          "barpolar": [
           {
            "marker": {
             "line": {
              "color": "#E5ECF6",
              "width": 0.5
             },
             "pattern": {
              "fillmode": "overlay",
              "size": 10,
              "solidity": 0.2
             }
            },
            "type": "barpolar"
           }
          ],
          "carpet": [
           {
            "aaxis": {
             "endlinecolor": "#2a3f5f",
             "gridcolor": "white",
             "linecolor": "white",
             "minorgridcolor": "white",
             "startlinecolor": "#2a3f5f"
            },
            "baxis": {
             "endlinecolor": "#2a3f5f",
             "gridcolor": "white",
             "linecolor": "white",
             "minorgridcolor": "white",
             "startlinecolor": "#2a3f5f"
            },
            "type": "carpet"
           }
          ],
          "choropleth": [
           {
            "colorbar": {
             "outlinewidth": 0,
             "ticks": ""
            },
            "type": "choropleth"
           }
          ],
          "contour": [
           {
            "colorbar": {
             "outlinewidth": 0,
             "ticks": ""
            },
            "colorscale": [
             [
              0,
              "#0d0887"
             ],
             [
              0.1111111111111111,
              "#46039f"
             ],
             [
              0.2222222222222222,
              "#7201a8"
             ],
             [
              0.3333333333333333,
              "#9c179e"
             ],
             [
              0.4444444444444444,
              "#bd3786"
             ],
             [
              0.5555555555555556,
              "#d8576b"
             ],
             [
              0.6666666666666666,
              "#ed7953"
             ],
             [
              0.7777777777777778,
              "#fb9f3a"
             ],
             [
              0.8888888888888888,
              "#fdca26"
             ],
             [
              1,
              "#f0f921"
             ]
            ],
            "type": "contour"
           }
          ],
          "contourcarpet": [
           {
            "colorbar": {
             "outlinewidth": 0,
             "ticks": ""
            },
            "type": "contourcarpet"
           }
          ],
          "heatmap": [
           {
            "colorbar": {
             "outlinewidth": 0,
             "ticks": ""
            },
            "colorscale": [
             [
              0,
              "#0d0887"
             ],
             [
              0.1111111111111111,
              "#46039f"
             ],
             [
              0.2222222222222222,
              "#7201a8"
             ],
             [
              0.3333333333333333,
              "#9c179e"
             ],
             [
              0.4444444444444444,
              "#bd3786"
             ],
             [
              0.5555555555555556,
              "#d8576b"
             ],
             [
              0.6666666666666666,
              "#ed7953"
             ],
             [
              0.7777777777777778,
              "#fb9f3a"
             ],
             [
              0.8888888888888888,
              "#fdca26"
             ],
             [
              1,
              "#f0f921"
             ]
            ],
            "type": "heatmap"
           }
          ],
          "histogram": [
           {
            "marker": {
             "pattern": {
              "fillmode": "overlay",
              "size": 10,
              "solidity": 0.2
             }
            },
            "type": "histogram"
           }
          ],
          "histogram2d": [
           {
            "colorbar": {
             "outlinewidth": 0,
             "ticks": ""
            },
            "colorscale": [
             [
              0,
              "#0d0887"
             ],
             [
              0.1111111111111111,
              "#46039f"
             ],
             [
              0.2222222222222222,
              "#7201a8"
             ],
             [
              0.3333333333333333,
              "#9c179e"
             ],
             [
              0.4444444444444444,
              "#bd3786"
             ],
             [
              0.5555555555555556,
              "#d8576b"
             ],
             [
              0.6666666666666666,
              "#ed7953"
             ],
             [
              0.7777777777777778,
              "#fb9f3a"
             ],
             [
              0.8888888888888888,
              "#fdca26"
             ],
             [
              1,
              "#f0f921"
             ]
            ],
            "type": "histogram2d"
           }
          ],
          "histogram2dcontour": [
           {
            "colorbar": {
             "outlinewidth": 0,
             "ticks": ""
            },
            "colorscale": [
             [
              0,
              "#0d0887"
             ],
             [
              0.1111111111111111,
              "#46039f"
             ],
             [
              0.2222222222222222,
              "#7201a8"
             ],
             [
              0.3333333333333333,
              "#9c179e"
             ],
             [
              0.4444444444444444,
              "#bd3786"
             ],
             [
              0.5555555555555556,
              "#d8576b"
             ],
             [
              0.6666666666666666,
              "#ed7953"
             ],
             [
              0.7777777777777778,
              "#fb9f3a"
             ],
             [
              0.8888888888888888,
              "#fdca26"
             ],
             [
              1,
              "#f0f921"
             ]
            ],
            "type": "histogram2dcontour"
           }
          ],
          "mesh3d": [
           {
            "colorbar": {
             "outlinewidth": 0,
             "ticks": ""
            },
            "type": "mesh3d"
           }
          ],
          "parcoords": [
           {
            "line": {
             "colorbar": {
              "outlinewidth": 0,
              "ticks": ""
             }
            },
            "type": "parcoords"
           }
          ],
          "pie": [
           {
            "automargin": true,
            "type": "pie"
           }
          ],
          "scatter": [
           {
            "fillpattern": {
             "fillmode": "overlay",
             "size": 10,
             "solidity": 0.2
            },
            "type": "scatter"
           }
          ],
          "scatter3d": [
           {
            "line": {
             "colorbar": {
              "outlinewidth": 0,
              "ticks": ""
             }
            },
            "marker": {
             "colorbar": {
              "outlinewidth": 0,
              "ticks": ""
             }
            },
            "type": "scatter3d"
           }
          ],
          "scattercarpet": [
           {
            "marker": {
             "colorbar": {
              "outlinewidth": 0,
              "ticks": ""
             }
            },
            "type": "scattercarpet"
           }
          ],
          "scattergeo": [
           {
            "marker": {
             "colorbar": {
              "outlinewidth": 0,
              "ticks": ""
             }
            },
            "type": "scattergeo"
           }
          ],
          "scattergl": [
           {
            "marker": {
             "colorbar": {
              "outlinewidth": 0,
              "ticks": ""
             }
            },
            "type": "scattergl"
           }
          ],
          "scattermap": [
           {
            "marker": {
             "colorbar": {
              "outlinewidth": 0,
              "ticks": ""
             }
            },
            "type": "scattermap"
           }
          ],
          "scattermapbox": [
           {
            "marker": {
             "colorbar": {
              "outlinewidth": 0,
              "ticks": ""
             }
            },
            "type": "scattermapbox"
           }
          ],
          "scatterpolar": [
           {
            "marker": {
             "colorbar": {
              "outlinewidth": 0,
              "ticks": ""
             }
            },
            "type": "scatterpolar"
           }
          ],
          "scatterpolargl": [
           {
            "marker": {
             "colorbar": {
              "outlinewidth": 0,
              "ticks": ""
             }
            },
            "type": "scatterpolargl"
           }
          ],
          "scatterternary": [
           {
            "marker": {
             "colorbar": {
              "outlinewidth": 0,
              "ticks": ""
             }
            },
            "type": "scatterternary"
           }
          ],
          "surface": [
           {
            "colorbar": {
             "outlinewidth": 0,
             "ticks": ""
            },
            "colorscale": [
             [
              0,
              "#0d0887"
             ],
             [
              0.1111111111111111,
              "#46039f"
             ],
             [
              0.2222222222222222,
              "#7201a8"
             ],
             [
              0.3333333333333333,
              "#9c179e"
             ],
             [
              0.4444444444444444,
              "#bd3786"
             ],
             [
              0.5555555555555556,
              "#d8576b"
             ],
             [
              0.6666666666666666,
              "#ed7953"
             ],
             [
              0.7777777777777778,
              "#fb9f3a"
             ],
             [
              0.8888888888888888,
              "#fdca26"
             ],
             [
              1,
              "#f0f921"
             ]
            ],
            "type": "surface"
           }
          ],
          "table": [
           {
            "cells": {
             "fill": {
              "color": "#EBF0F8"
             },
             "line": {
              "color": "white"
             }
            },
            "header": {
             "fill": {
              "color": "#C8D4E3"
             },
             "line": {
              "color": "white"
             }
            },
            "type": "table"
           }
          ]
         },
         "layout": {
          "annotationdefaults": {
           "arrowcolor": "#2a3f5f",
           "arrowhead": 0,
           "arrowwidth": 1
          },
          "autotypenumbers": "strict",
          "coloraxis": {
           "colorbar": {
            "outlinewidth": 0,
            "ticks": ""
           }
          },
          "colorscale": {
           "diverging": [
            [
             0,
             "#8e0152"
            ],
            [
             0.1,
             "#c51b7d"
            ],
            [
             0.2,
             "#de77ae"
            ],
            [
             0.3,
             "#f1b6da"
            ],
            [
             0.4,
             "#fde0ef"
            ],
            [
             0.5,
             "#f7f7f7"
            ],
            [
             0.6,
             "#e6f5d0"
            ],
            [
             0.7,
             "#b8e186"
            ],
            [
             0.8,
             "#7fbc41"
            ],
            [
             0.9,
             "#4d9221"
            ],
            [
             1,
             "#276419"
            ]
           ],
           "sequential": [
            [
             0,
             "#0d0887"
            ],
            [
             0.1111111111111111,
             "#46039f"
            ],
            [
             0.2222222222222222,
             "#7201a8"
            ],
            [
             0.3333333333333333,
             "#9c179e"
            ],
            [
             0.4444444444444444,
             "#bd3786"
            ],
            [
             0.5555555555555556,
             "#d8576b"
            ],
            [
             0.6666666666666666,
             "#ed7953"
            ],
            [
             0.7777777777777778,
             "#fb9f3a"
            ],
            [
             0.8888888888888888,
             "#fdca26"
            ],
            [
             1,
             "#f0f921"
            ]
           ],
           "sequentialminus": [
            [
             0,
             "#0d0887"
            ],
            [
             0.1111111111111111,
             "#46039f"
            ],
            [
             0.2222222222222222,
             "#7201a8"
            ],
            [
             0.3333333333333333,
             "#9c179e"
            ],
            [
             0.4444444444444444,
             "#bd3786"
            ],
            [
             0.5555555555555556,
             "#d8576b"
            ],
            [
             0.6666666666666666,
             "#ed7953"
            ],
            [
             0.7777777777777778,
             "#fb9f3a"
            ],
            [
             0.8888888888888888,
             "#fdca26"
            ],
            [
             1,
             "#f0f921"
            ]
           ]
          },
          "colorway": [
           "#636efa",
           "#EF553B",
           "#00cc96",
           "#ab63fa",
           "#FFA15A",
           "#19d3f3",
           "#FF6692",
           "#B6E880",
           "#FF97FF",
           "#FECB52"
          ],
          "font": {
           "color": "#2a3f5f"
          },
          "geo": {
           "bgcolor": "white",
           "lakecolor": "white",
           "landcolor": "#E5ECF6",
           "showlakes": true,
           "showland": true,
           "subunitcolor": "white"
          },
          "hoverlabel": {
           "align": "left"
          },
          "hovermode": "closest",
          "mapbox": {
           "style": "light"
          },
          "paper_bgcolor": "white",
          "plot_bgcolor": "#E5ECF6",
          "polar": {
           "angularaxis": {
            "gridcolor": "white",
            "linecolor": "white",
            "ticks": ""
           },
           "bgcolor": "#E5ECF6",
           "radialaxis": {
            "gridcolor": "white",
            "linecolor": "white",
            "ticks": ""
           }
          },
          "scene": {
           "xaxis": {
            "backgroundcolor": "#E5ECF6",
            "gridcolor": "white",
            "gridwidth": 2,
            "linecolor": "white",
            "showbackground": true,
            "ticks": "",
            "zerolinecolor": "white"
           },
           "yaxis": {
            "backgroundcolor": "#E5ECF6",
            "gridcolor": "white",
            "gridwidth": 2,
            "linecolor": "white",
            "showbackground": true,
            "ticks": "",
            "zerolinecolor": "white"
           },
           "zaxis": {
            "backgroundcolor": "#E5ECF6",
            "gridcolor": "white",
            "gridwidth": 2,
            "linecolor": "white",
            "showbackground": true,
            "ticks": "",
            "zerolinecolor": "white"
           }
          },
          "shapedefaults": {
           "line": {
            "color": "#2a3f5f"
           }
          },
          "ternary": {
           "aaxis": {
            "gridcolor": "white",
            "linecolor": "white",
            "ticks": ""
           },
           "baxis": {
            "gridcolor": "white",
            "linecolor": "white",
            "ticks": ""
           },
           "bgcolor": "#E5ECF6",
           "caxis": {
            "gridcolor": "white",
            "linecolor": "white",
            "ticks": ""
           }
          },
          "title": {
           "x": 0.05
          },
          "xaxis": {
           "automargin": true,
           "gridcolor": "white",
           "linecolor": "white",
           "ticks": "",
           "title": {
            "standoff": 15
           },
           "zerolinecolor": "white",
           "zerolinewidth": 2
          },
          "yaxis": {
           "automargin": true,
           "gridcolor": "white",
           "linecolor": "white",
           "ticks": "",
           "title": {
            "standoff": 15
           },
           "zerolinecolor": "white",
           "zerolinewidth": 2
          }
         }
        },
        "width": 800,
        "xaxis": {
         "anchor": "y",
         "domain": [
          0,
          1
         ],
         "title": {
          "text": ""
         }
        },
        "yaxis": {
         "anchor": "x",
         "domain": [
          0,
          1
         ],
         "title": {
          "text": ""
         }
        }
       }
      }
     },
     "metadata": {},
     "output_type": "display_data"
    }
   ],
   "source": [
    "fig = px.bar(df_grouped, color='Crop', y='Metric_Tonnes', x='Year', barmode='group')\n",
    "fig.update_yaxes(title=\"\")\n",
    "fig.update_xaxes(title='')\n",
    "fig.update_layout(width=800, height=600)\n",
    "fig.show()"
   ]
  },
  {
   "cell_type": "markdown",
   "metadata": {},
   "source": [
    "# Diverging Color\n",
    "\n",
    "Diverging color scales are appropriate for continuous data that has a natural midpoint"
   ]
  },
  {
   "cell_type": "code",
   "execution_count": 20,
   "metadata": {},
   "outputs": [
    {
     "data": {
      "application/vnd.plotly.v1+json": {
       "config": {
        "plotlyServerURL": "https://plot.ly"
       },
       "data": [
        {
         "hovertemplate": "Year=%{x}<br>Crop=%{y}<br>Metric_Tonnes=%{marker.color}<extra></extra>",
         "legendgroup": "",
         "marker": {
          "color": {
           "bdata": "AAAAAICY10AAAAAAwIHaQAAAAADAxN5AAAAAAIDM20AAAAAAwGTXQAAAAACAMdxAAAAAAADAY0AAAAAAALB+QAAAAAAA+IFAAAAAAAAIgkAAAAAAANB5QAAAAAAA4HpAAAAAAAAT70AAAAAAAPbtQAAAAACg9exAAAAAAED86UAAAAAA4ArnQAAAAADANOtAAAAAAABwc0AAAAAAAFCLQAAAAAAAcIZAAAAAAAA4gEAAAAAAAGBzQAAAAAAA4HhAAAAAAIAOx0AAAAAAAEPGQAAAAAAAhclAAAAAAABUxkAAAAAAAOe+QAAAAACAd8JAAAAAAICuzkAAAAAAwDLQQAAAAABAN9BAAAAAAACXz0AAAAAAACfHQAAAAACAhM5AAAAAAAAImUAAAAAAAPiWQAAAAAAAOJhAAAAAAABUl0AAAAAAAOyRQAAAAAAADJNAAAAAAACMvEAAAAAAAG66QAAAAAAA0L1AAAAAAACivEAAAAAAAHG1QAAAAAAAgbhAAAAAAADAZUAAAAAAADB+QAAAAAAAIHdAAAAAAABAcEAAAAAAAKBxQAAAAAAA8H5AAAAAAABLxUAAAAAAgK3FQAAAAAAAc8lAAAAAAICJx0AAAAAAAIjFQAAAAAAAkMlAAAAAAACwjEAAAAAAACiJQAAAAAAACJJAAAAAAAAQlUAAAAAAAMCTQAAAAAAA2JVAAAAAAMBQ1kAAAAAAwHzUQAAAAABANtJAAAAAAIB/0kAAAAAAwIvSQAAAAACAmNNAAAAAAACATEAAAAAAACBmQAAAAAAAYGxAAAAAAABQcUAAAAAAAEBtQAAAAAAAQHBAAAAAAFDl8kAAAAAAMLnzQAAAAADAjPRAAAAAACDU8kAAAAAA0G/wQAAAAABwwPRA",
           "dtype": "f8"
          },
          "coloraxis": "coloraxis",
          "size": {
           "bdata": "AAAAAICY10AAAAAAwIHaQAAAAADAxN5AAAAAAIDM20AAAAAAwGTXQAAAAACAMdxAAAAAAADAY0AAAAAAALB+QAAAAAAA+IFAAAAAAAAIgkAAAAAAANB5QAAAAAAA4HpAAAAAAAAT70AAAAAAAPbtQAAAAACg9exAAAAAAED86UAAAAAA4ArnQAAAAADANOtAAAAAAABwc0AAAAAAAFCLQAAAAAAAcIZAAAAAAAA4gEAAAAAAAGBzQAAAAAAA4HhAAAAAAIAOx0AAAAAAAEPGQAAAAAAAhclAAAAAAABUxkAAAAAAAOe+QAAAAACAd8JAAAAAAICuzkAAAAAAwDLQQAAAAABAN9BAAAAAAACXz0AAAAAAACfHQAAAAACAhM5AAAAAAAAImUAAAAAAAPiWQAAAAAAAOJhAAAAAAABUl0AAAAAAAOyRQAAAAAAADJNAAAAAAACMvEAAAAAAAG66QAAAAAAA0L1AAAAAAACivEAAAAAAAHG1QAAAAAAAgbhAAAAAAADAZUAAAAAAADB+QAAAAAAAIHdAAAAAAABAcEAAAAAAAKBxQAAAAAAA8H5AAAAAAABLxUAAAAAAgK3FQAAAAAAAc8lAAAAAAICJx0AAAAAAAIjFQAAAAAAAkMlAAAAAAACwjEAAAAAAACiJQAAAAAAACJJAAAAAAAAQlUAAAAAAAMCTQAAAAAAA2JVAAAAAAMBQ1kAAAAAAwHzUQAAAAABANtJAAAAAAIB/0kAAAAAAwIvSQAAAAACAmNNAAAAAAACATEAAAAAAACBmQAAAAAAAYGxAAAAAAABQcUAAAAAAAEBtQAAAAAAAQHBAAAAAAFDl8kAAAAAAMLnzQAAAAADAjPRAAAAAACDU8kAAAAAA0G/wQAAAAABwwPRA",
           "dtype": "f8"
          },
          "sizemode": "area",
          "sizeref": 212.4975,
          "symbol": "circle"
         },
         "mode": "markers",
         "name": "",
         "orientation": "v",
         "showlegend": false,
         "type": "scatter",
         "x": [
          "2018",
          "2019",
          "2020",
          "2021",
          "2022",
          "2023",
          "2018",
          "2019",
          "2020",
          "2021",
          "2022",
          "2023",
          "2018",
          "2019",
          "2020",
          "2021",
          "2022",
          "2023",
          "2018",
          "2019",
          "2020",
          "2021",
          "2022",
          "2023",
          "2018",
          "2019",
          "2020",
          "2021",
          "2022",
          "2023",
          "2018",
          "2019",
          "2020",
          "2021",
          "2022",
          "2023",
          "2018",
          "2019",
          "2020",
          "2021",
          "2022",
          "2023",
          "2018",
          "2019",
          "2020",
          "2021",
          "2022",
          "2023",
          "2018",
          "2019",
          "2020",
          "2021",
          "2022",
          "2023",
          "2018",
          "2019",
          "2020",
          "2021",
          "2022",
          "2023",
          "2018",
          "2019",
          "2020",
          "2021",
          "2022",
          "2023",
          "2018",
          "2019",
          "2020",
          "2021",
          "2022",
          "2023",
          "2018",
          "2019",
          "2020",
          "2021",
          "2022",
          "2023",
          "2018",
          "2019",
          "2020",
          "2021",
          "2022",
          "2023"
         ],
         "xaxis": "x",
         "y": [
          "Barley",
          "Barley",
          "Barley",
          "Barley",
          "Barley",
          "Barley",
          "Canary seed",
          "Canary seed",
          "Canary seed",
          "Canary seed",
          "Canary seed",
          "Canary seed",
          "Canola",
          "Canola",
          "Canola",
          "Canola",
          "Canola",
          "Canola",
          "Chickpeas",
          "Chickpeas",
          "Chickpeas",
          "Chickpeas",
          "Chickpeas",
          "Chickpeas",
          "Dry peas",
          "Dry peas",
          "Dry peas",
          "Dry peas",
          "Dry peas",
          "Dry peas",
          "Durum wheat",
          "Durum wheat",
          "Durum wheat",
          "Durum wheat",
          "Durum wheat",
          "Durum wheat",
          "Flaxseed",
          "Flaxseed",
          "Flaxseed",
          "Flaxseed",
          "Flaxseed",
          "Flaxseed",
          "Lentils",
          "Lentils",
          "Lentils",
          "Lentils",
          "Lentils",
          "Lentils",
          "Mustard seed",
          "Mustard seed",
          "Mustard seed",
          "Mustard seed",
          "Mustard seed",
          "Mustard seed",
          "Oats",
          "Oats",
          "Oats",
          "Oats",
          "Oats",
          "Oats",
          "Rye",
          "Rye",
          "Rye",
          "Rye",
          "Rye",
          "Rye",
          "Soybeans",
          "Soybeans",
          "Soybeans",
          "Soybeans",
          "Soybeans",
          "Soybeans",
          "Sunflower seed",
          "Sunflower seed",
          "Sunflower seed",
          "Sunflower seed",
          "Sunflower seed",
          "Sunflower seed",
          "Wheat excluding durum",
          "Wheat excluding durum",
          "Wheat excluding durum",
          "Wheat excluding durum",
          "Wheat excluding durum",
          "Wheat excluding durum"
         ],
         "yaxis": "y"
        }
       ],
       "layout": {
        "coloraxis": {
         "colorbar": {
          "title": {
           "text": "Metric Tonnes"
          }
         },
         "colorscale": [
          [
           0,
           "rgb(103,0,31)"
          ],
          [
           0.1,
           "rgb(178,24,43)"
          ],
          [
           0.2,
           "rgb(214,96,77)"
          ],
          [
           0.3,
           "rgb(244,165,130)"
          ],
          [
           0.4,
           "rgb(253,219,199)"
          ],
          [
           0.5,
           "rgb(247,247,247)"
          ],
          [
           0.6,
           "rgb(209,229,240)"
          ],
          [
           0.7,
           "rgb(146,197,222)"
          ],
          [
           0.8,
           "rgb(67,147,195)"
          ],
          [
           0.9,
           "rgb(33,102,172)"
          ],
          [
           1,
           "rgb(5,48,97)"
          ]
         ]
        },
        "height": 600,
        "legend": {
         "itemsizing": "constant",
         "tracegroupgap": 0
        },
        "margin": {
         "t": 60
        },
        "paper_bgcolor": "white",
        "plot_bgcolor": "white",
        "template": {
         "data": {
          "bar": [
           {
            "error_x": {
             "color": "#2a3f5f"
            },
            "error_y": {
             "color": "#2a3f5f"
            },
            "marker": {
             "line": {
              "color": "#E5ECF6",
              "width": 0.5
             },
             "pattern": {
              "fillmode": "overlay",
              "size": 10,
              "solidity": 0.2
             }
            },
            "type": "bar"
           }
          ],
          "barpolar": [
           {
            "marker": {
             "line": {
              "color": "#E5ECF6",
              "width": 0.5
             },
             "pattern": {
              "fillmode": "overlay",
              "size": 10,
              "solidity": 0.2
             }
            },
            "type": "barpolar"
           }
          ],
          "carpet": [
           {
            "aaxis": {
             "endlinecolor": "#2a3f5f",
             "gridcolor": "white",
             "linecolor": "white",
             "minorgridcolor": "white",
             "startlinecolor": "#2a3f5f"
            },
            "baxis": {
             "endlinecolor": "#2a3f5f",
             "gridcolor": "white",
             "linecolor": "white",
             "minorgridcolor": "white",
             "startlinecolor": "#2a3f5f"
            },
            "type": "carpet"
           }
          ],
          "choropleth": [
           {
            "colorbar": {
             "outlinewidth": 0,
             "ticks": ""
            },
            "type": "choropleth"
           }
          ],
          "contour": [
           {
            "colorbar": {
             "outlinewidth": 0,
             "ticks": ""
            },
            "colorscale": [
             [
              0,
              "#0d0887"
             ],
             [
              0.1111111111111111,
              "#46039f"
             ],
             [
              0.2222222222222222,
              "#7201a8"
             ],
             [
              0.3333333333333333,
              "#9c179e"
             ],
             [
              0.4444444444444444,
              "#bd3786"
             ],
             [
              0.5555555555555556,
              "#d8576b"
             ],
             [
              0.6666666666666666,
              "#ed7953"
             ],
             [
              0.7777777777777778,
              "#fb9f3a"
             ],
             [
              0.8888888888888888,
              "#fdca26"
             ],
             [
              1,
              "#f0f921"
             ]
            ],
            "type": "contour"
           }
          ],
          "contourcarpet": [
           {
            "colorbar": {
             "outlinewidth": 0,
             "ticks": ""
            },
            "type": "contourcarpet"
           }
          ],
          "heatmap": [
           {
            "colorbar": {
             "outlinewidth": 0,
             "ticks": ""
            },
            "colorscale": [
             [
              0,
              "#0d0887"
             ],
             [
              0.1111111111111111,
              "#46039f"
             ],
             [
              0.2222222222222222,
              "#7201a8"
             ],
             [
              0.3333333333333333,
              "#9c179e"
             ],
             [
              0.4444444444444444,
              "#bd3786"
             ],
             [
              0.5555555555555556,
              "#d8576b"
             ],
             [
              0.6666666666666666,
              "#ed7953"
             ],
             [
              0.7777777777777778,
              "#fb9f3a"
             ],
             [
              0.8888888888888888,
              "#fdca26"
             ],
             [
              1,
              "#f0f921"
             ]
            ],
            "type": "heatmap"
           }
          ],
          "histogram": [
           {
            "marker": {
             "pattern": {
              "fillmode": "overlay",
              "size": 10,
              "solidity": 0.2
             }
            },
            "type": "histogram"
           }
          ],
          "histogram2d": [
           {
            "colorbar": {
             "outlinewidth": 0,
             "ticks": ""
            },
            "colorscale": [
             [
              0,
              "#0d0887"
             ],
             [
              0.1111111111111111,
              "#46039f"
             ],
             [
              0.2222222222222222,
              "#7201a8"
             ],
             [
              0.3333333333333333,
              "#9c179e"
             ],
             [
              0.4444444444444444,
              "#bd3786"
             ],
             [
              0.5555555555555556,
              "#d8576b"
             ],
             [
              0.6666666666666666,
              "#ed7953"
             ],
             [
              0.7777777777777778,
              "#fb9f3a"
             ],
             [
              0.8888888888888888,
              "#fdca26"
             ],
             [
              1,
              "#f0f921"
             ]
            ],
            "type": "histogram2d"
           }
          ],
          "histogram2dcontour": [
           {
            "colorbar": {
             "outlinewidth": 0,
             "ticks": ""
            },
            "colorscale": [
             [
              0,
              "#0d0887"
             ],
             [
              0.1111111111111111,
              "#46039f"
             ],
             [
              0.2222222222222222,
              "#7201a8"
             ],
             [
              0.3333333333333333,
              "#9c179e"
             ],
             [
              0.4444444444444444,
              "#bd3786"
             ],
             [
              0.5555555555555556,
              "#d8576b"
             ],
             [
              0.6666666666666666,
              "#ed7953"
             ],
             [
              0.7777777777777778,
              "#fb9f3a"
             ],
             [
              0.8888888888888888,
              "#fdca26"
             ],
             [
              1,
              "#f0f921"
             ]
            ],
            "type": "histogram2dcontour"
           }
          ],
          "mesh3d": [
           {
            "colorbar": {
             "outlinewidth": 0,
             "ticks": ""
            },
            "type": "mesh3d"
           }
          ],
          "parcoords": [
           {
            "line": {
             "colorbar": {
              "outlinewidth": 0,
              "ticks": ""
             }
            },
            "type": "parcoords"
           }
          ],
          "pie": [
           {
            "automargin": true,
            "type": "pie"
           }
          ],
          "scatter": [
           {
            "fillpattern": {
             "fillmode": "overlay",
             "size": 10,
             "solidity": 0.2
            },
            "type": "scatter"
           }
          ],
          "scatter3d": [
           {
            "line": {
             "colorbar": {
              "outlinewidth": 0,
              "ticks": ""
             }
            },
            "marker": {
             "colorbar": {
              "outlinewidth": 0,
              "ticks": ""
             }
            },
            "type": "scatter3d"
           }
          ],
          "scattercarpet": [
           {
            "marker": {
             "colorbar": {
              "outlinewidth": 0,
              "ticks": ""
             }
            },
            "type": "scattercarpet"
           }
          ],
          "scattergeo": [
           {
            "marker": {
             "colorbar": {
              "outlinewidth": 0,
              "ticks": ""
             }
            },
            "type": "scattergeo"
           }
          ],
          "scattergl": [
           {
            "marker": {
             "colorbar": {
              "outlinewidth": 0,
              "ticks": ""
             }
            },
            "type": "scattergl"
           }
          ],
          "scattermap": [
           {
            "marker": {
             "colorbar": {
              "outlinewidth": 0,
              "ticks": ""
             }
            },
            "type": "scattermap"
           }
          ],
          "scattermapbox": [
           {
            "marker": {
             "colorbar": {
              "outlinewidth": 0,
              "ticks": ""
             }
            },
            "type": "scattermapbox"
           }
          ],
          "scatterpolar": [
           {
            "marker": {
             "colorbar": {
              "outlinewidth": 0,
              "ticks": ""
             }
            },
            "type": "scatterpolar"
           }
          ],
          "scatterpolargl": [
           {
            "marker": {
             "colorbar": {
              "outlinewidth": 0,
              "ticks": ""
             }
            },
            "type": "scatterpolargl"
           }
          ],
          "scatterternary": [
           {
            "marker": {
             "colorbar": {
              "outlinewidth": 0,
              "ticks": ""
             }
            },
            "type": "scatterternary"
           }
          ],
          "surface": [
           {
            "colorbar": {
             "outlinewidth": 0,
             "ticks": ""
            },
            "colorscale": [
             [
              0,
              "#0d0887"
             ],
             [
              0.1111111111111111,
              "#46039f"
             ],
             [
              0.2222222222222222,
              "#7201a8"
             ],
             [
              0.3333333333333333,
              "#9c179e"
             ],
             [
              0.4444444444444444,
              "#bd3786"
             ],
             [
              0.5555555555555556,
              "#d8576b"
             ],
             [
              0.6666666666666666,
              "#ed7953"
             ],
             [
              0.7777777777777778,
              "#fb9f3a"
             ],
             [
              0.8888888888888888,
              "#fdca26"
             ],
             [
              1,
              "#f0f921"
             ]
            ],
            "type": "surface"
           }
          ],
          "table": [
           {
            "cells": {
             "fill": {
              "color": "#EBF0F8"
             },
             "line": {
              "color": "white"
             }
            },
            "header": {
             "fill": {
              "color": "#C8D4E3"
             },
             "line": {
              "color": "white"
             }
            },
            "type": "table"
           }
          ]
         },
         "layout": {
          "annotationdefaults": {
           "arrowcolor": "#2a3f5f",
           "arrowhead": 0,
           "arrowwidth": 1
          },
          "autotypenumbers": "strict",
          "coloraxis": {
           "colorbar": {
            "outlinewidth": 0,
            "ticks": ""
           }
          },
          "colorscale": {
           "diverging": [
            [
             0,
             "#8e0152"
            ],
            [
             0.1,
             "#c51b7d"
            ],
            [
             0.2,
             "#de77ae"
            ],
            [
             0.3,
             "#f1b6da"
            ],
            [
             0.4,
             "#fde0ef"
            ],
            [
             0.5,
             "#f7f7f7"
            ],
            [
             0.6,
             "#e6f5d0"
            ],
            [
             0.7,
             "#b8e186"
            ],
            [
             0.8,
             "#7fbc41"
            ],
            [
             0.9,
             "#4d9221"
            ],
            [
             1,
             "#276419"
            ]
           ],
           "sequential": [
            [
             0,
             "#0d0887"
            ],
            [
             0.1111111111111111,
             "#46039f"
            ],
            [
             0.2222222222222222,
             "#7201a8"
            ],
            [
             0.3333333333333333,
             "#9c179e"
            ],
            [
             0.4444444444444444,
             "#bd3786"
            ],
            [
             0.5555555555555556,
             "#d8576b"
            ],
            [
             0.6666666666666666,
             "#ed7953"
            ],
            [
             0.7777777777777778,
             "#fb9f3a"
            ],
            [
             0.8888888888888888,
             "#fdca26"
            ],
            [
             1,
             "#f0f921"
            ]
           ],
           "sequentialminus": [
            [
             0,
             "#0d0887"
            ],
            [
             0.1111111111111111,
             "#46039f"
            ],
            [
             0.2222222222222222,
             "#7201a8"
            ],
            [
             0.3333333333333333,
             "#9c179e"
            ],
            [
             0.4444444444444444,
             "#bd3786"
            ],
            [
             0.5555555555555556,
             "#d8576b"
            ],
            [
             0.6666666666666666,
             "#ed7953"
            ],
            [
             0.7777777777777778,
             "#fb9f3a"
            ],
            [
             0.8888888888888888,
             "#fdca26"
            ],
            [
             1,
             "#f0f921"
            ]
           ]
          },
          "colorway": [
           "#636efa",
           "#EF553B",
           "#00cc96",
           "#ab63fa",
           "#FFA15A",
           "#19d3f3",
           "#FF6692",
           "#B6E880",
           "#FF97FF",
           "#FECB52"
          ],
          "font": {
           "color": "#2a3f5f"
          },
          "geo": {
           "bgcolor": "white",
           "lakecolor": "white",
           "landcolor": "#E5ECF6",
           "showlakes": true,
           "showland": true,
           "subunitcolor": "white"
          },
          "hoverlabel": {
           "align": "left"
          },
          "hovermode": "closest",
          "mapbox": {
           "style": "light"
          },
          "paper_bgcolor": "white",
          "plot_bgcolor": "#E5ECF6",
          "polar": {
           "angularaxis": {
            "gridcolor": "white",
            "linecolor": "white",
            "ticks": ""
           },
           "bgcolor": "#E5ECF6",
           "radialaxis": {
            "gridcolor": "white",
            "linecolor": "white",
            "ticks": ""
           }
          },
          "scene": {
           "xaxis": {
            "backgroundcolor": "#E5ECF6",
            "gridcolor": "white",
            "gridwidth": 2,
            "linecolor": "white",
            "showbackground": true,
            "ticks": "",
            "zerolinecolor": "white"
           },
           "yaxis": {
            "backgroundcolor": "#E5ECF6",
            "gridcolor": "white",
            "gridwidth": 2,
            "linecolor": "white",
            "showbackground": true,
            "ticks": "",
            "zerolinecolor": "white"
           },
           "zaxis": {
            "backgroundcolor": "#E5ECF6",
            "gridcolor": "white",
            "gridwidth": 2,
            "linecolor": "white",
            "showbackground": true,
            "ticks": "",
            "zerolinecolor": "white"
           }
          },
          "shapedefaults": {
           "line": {
            "color": "#2a3f5f"
           }
          },
          "ternary": {
           "aaxis": {
            "gridcolor": "white",
            "linecolor": "white",
            "ticks": ""
           },
           "baxis": {
            "gridcolor": "white",
            "linecolor": "white",
            "ticks": ""
           },
           "bgcolor": "#E5ECF6",
           "caxis": {
            "gridcolor": "white",
            "linecolor": "white",
            "ticks": ""
           }
          },
          "title": {
           "x": 0.05
          },
          "xaxis": {
           "automargin": true,
           "gridcolor": "white",
           "linecolor": "white",
           "ticks": "",
           "title": {
            "standoff": 15
           },
           "zerolinecolor": "white",
           "zerolinewidth": 2
          },
          "yaxis": {
           "automargin": true,
           "gridcolor": "white",
           "linecolor": "white",
           "ticks": "",
           "title": {
            "standoff": 15
           },
           "zerolinecolor": "white",
           "zerolinewidth": 2
          }
         }
        },
        "width": 800,
        "xaxis": {
         "anchor": "y",
         "domain": [
          0,
          1
         ],
         "gridcolor": "LightGray",
         "gridwidth": 1,
         "showgrid": true,
         "title": {
          "text": ""
         }
        },
        "yaxis": {
         "anchor": "x",
         "domain": [
          0,
          1
         ],
         "gridcolor": "LightGray",
         "gridwidth": 1,
         "showgrid": true,
         "title": {
          "text": ""
         }
        }
       }
      }
     },
     "metadata": {},
     "output_type": "display_data"
    }
   ],
   "source": [
    "fig = px.scatter(\n",
    "    df_grouped, y='Crop', x='Year', color='Metric_Tonnes', size='Metric_Tonnes',\n",
    "    color_continuous_scale = px.colors.diverging.RdBu,\n",
    ")\n",
    "fig.update_layout(\n",
    "        paper_bgcolor=\"white\",\n",
    "        plot_bgcolor=\"white\",\n",
    "    )\n",
    "fig.update_yaxes(showgrid=True, gridwidth=1, gridcolor='LightGray')\n",
    "fig.update_xaxes(showgrid=True, gridwidth=1, gridcolor='LightGray')\n",
    "fig.update_coloraxes(colorbar=dict(title='Metric Tonnes'))\n",
    "fig.update_yaxes(title=\"\")\n",
    "fig.update_xaxes(title='')\n",
    "fig.update_layout(width=800, height=600)\n",
    "fig.show()"
   ]
  },
  {
   "cell_type": "markdown",
   "metadata": {},
   "source": [
    "- Diverging reversed"
   ]
  },
  {
   "cell_type": "code",
   "execution_count": 17,
   "metadata": {},
   "outputs": [
    {
     "data": {
      "application/vnd.plotly.v1+json": {
       "config": {
        "plotlyServerURL": "https://plot.ly"
       },
       "data": [
        {
         "hovertemplate": "Year=%{x}<br>Crop=%{y}<br>Metric_Tonnes=%{marker.color}<extra></extra>",
         "legendgroup": "",
         "marker": {
          "color": {
           "bdata": "AAAAAICY10AAAAAAwIHaQAAAAADAxN5AAAAAAIDM20AAAAAAwGTXQAAAAACAMdxAAAAAAADAY0AAAAAAALB+QAAAAAAA+IFAAAAAAAAIgkAAAAAAANB5QAAAAAAA4HpAAAAAAAAT70AAAAAAAPbtQAAAAACg9exAAAAAAED86UAAAAAA4ArnQAAAAADANOtAAAAAAABwc0AAAAAAAFCLQAAAAAAAcIZAAAAAAAA4gEAAAAAAAGBzQAAAAAAA4HhAAAAAAIAOx0AAAAAAAEPGQAAAAAAAhclAAAAAAABUxkAAAAAAAOe+QAAAAACAd8JAAAAAAICuzkAAAAAAwDLQQAAAAABAN9BAAAAAAACXz0AAAAAAACfHQAAAAACAhM5AAAAAAAAImUAAAAAAAPiWQAAAAAAAOJhAAAAAAABUl0AAAAAAAOyRQAAAAAAADJNAAAAAAACMvEAAAAAAAG66QAAAAAAA0L1AAAAAAACivEAAAAAAAHG1QAAAAAAAgbhAAAAAAADAZUAAAAAAADB+QAAAAAAAIHdAAAAAAABAcEAAAAAAAKBxQAAAAAAA8H5AAAAAAABLxUAAAAAAgK3FQAAAAAAAc8lAAAAAAICJx0AAAAAAAIjFQAAAAAAAkMlAAAAAAACwjEAAAAAAACiJQAAAAAAACJJAAAAAAAAQlUAAAAAAAMCTQAAAAAAA2JVAAAAAAMBQ1kAAAAAAwHzUQAAAAABANtJAAAAAAIB/0kAAAAAAwIvSQAAAAACAmNNAAAAAAACATEAAAAAAACBmQAAAAAAAYGxAAAAAAABQcUAAAAAAAEBtQAAAAAAAQHBAAAAAAFDl8kAAAAAAMLnzQAAAAADAjPRAAAAAACDU8kAAAAAA0G/wQAAAAABwwPRA",
           "dtype": "f8"
          },
          "coloraxis": "coloraxis",
          "size": {
           "bdata": "AAAAAICY10AAAAAAwIHaQAAAAADAxN5AAAAAAIDM20AAAAAAwGTXQAAAAACAMdxAAAAAAADAY0AAAAAAALB+QAAAAAAA+IFAAAAAAAAIgkAAAAAAANB5QAAAAAAA4HpAAAAAAAAT70AAAAAAAPbtQAAAAACg9exAAAAAAED86UAAAAAA4ArnQAAAAADANOtAAAAAAABwc0AAAAAAAFCLQAAAAAAAcIZAAAAAAAA4gEAAAAAAAGBzQAAAAAAA4HhAAAAAAIAOx0AAAAAAAEPGQAAAAAAAhclAAAAAAABUxkAAAAAAAOe+QAAAAACAd8JAAAAAAICuzkAAAAAAwDLQQAAAAABAN9BAAAAAAACXz0AAAAAAACfHQAAAAACAhM5AAAAAAAAImUAAAAAAAPiWQAAAAAAAOJhAAAAAAABUl0AAAAAAAOyRQAAAAAAADJNAAAAAAACMvEAAAAAAAG66QAAAAAAA0L1AAAAAAACivEAAAAAAAHG1QAAAAAAAgbhAAAAAAADAZUAAAAAAADB+QAAAAAAAIHdAAAAAAABAcEAAAAAAAKBxQAAAAAAA8H5AAAAAAABLxUAAAAAAgK3FQAAAAAAAc8lAAAAAAICJx0AAAAAAAIjFQAAAAAAAkMlAAAAAAACwjEAAAAAAACiJQAAAAAAACJJAAAAAAAAQlUAAAAAAAMCTQAAAAAAA2JVAAAAAAMBQ1kAAAAAAwHzUQAAAAABANtJAAAAAAIB/0kAAAAAAwIvSQAAAAACAmNNAAAAAAACATEAAAAAAACBmQAAAAAAAYGxAAAAAAABQcUAAAAAAAEBtQAAAAAAAQHBAAAAAAFDl8kAAAAAAMLnzQAAAAADAjPRAAAAAACDU8kAAAAAA0G/wQAAAAABwwPRA",
           "dtype": "f8"
          },
          "sizemode": "area",
          "sizeref": 212.4975,
          "symbol": "circle"
         },
         "mode": "markers",
         "name": "",
         "orientation": "v",
         "showlegend": false,
         "type": "scatter",
         "x": [
          "2018",
          "2019",
          "2020",
          "2021",
          "2022",
          "2023",
          "2018",
          "2019",
          "2020",
          "2021",
          "2022",
          "2023",
          "2018",
          "2019",
          "2020",
          "2021",
          "2022",
          "2023",
          "2018",
          "2019",
          "2020",
          "2021",
          "2022",
          "2023",
          "2018",
          "2019",
          "2020",
          "2021",
          "2022",
          "2023",
          "2018",
          "2019",
          "2020",
          "2021",
          "2022",
          "2023",
          "2018",
          "2019",
          "2020",
          "2021",
          "2022",
          "2023",
          "2018",
          "2019",
          "2020",
          "2021",
          "2022",
          "2023",
          "2018",
          "2019",
          "2020",
          "2021",
          "2022",
          "2023",
          "2018",
          "2019",
          "2020",
          "2021",
          "2022",
          "2023",
          "2018",
          "2019",
          "2020",
          "2021",
          "2022",
          "2023",
          "2018",
          "2019",
          "2020",
          "2021",
          "2022",
          "2023",
          "2018",
          "2019",
          "2020",
          "2021",
          "2022",
          "2023",
          "2018",
          "2019",
          "2020",
          "2021",
          "2022",
          "2023"
         ],
         "xaxis": "x",
         "y": [
          "Barley",
          "Barley",
          "Barley",
          "Barley",
          "Barley",
          "Barley",
          "Canary seed",
          "Canary seed",
          "Canary seed",
          "Canary seed",
          "Canary seed",
          "Canary seed",
          "Canola",
          "Canola",
          "Canola",
          "Canola",
          "Canola",
          "Canola",
          "Chickpeas",
          "Chickpeas",
          "Chickpeas",
          "Chickpeas",
          "Chickpeas",
          "Chickpeas",
          "Dry peas",
          "Dry peas",
          "Dry peas",
          "Dry peas",
          "Dry peas",
          "Dry peas",
          "Durum wheat",
          "Durum wheat",
          "Durum wheat",
          "Durum wheat",
          "Durum wheat",
          "Durum wheat",
          "Flaxseed",
          "Flaxseed",
          "Flaxseed",
          "Flaxseed",
          "Flaxseed",
          "Flaxseed",
          "Lentils",
          "Lentils",
          "Lentils",
          "Lentils",
          "Lentils",
          "Lentils",
          "Mustard seed",
          "Mustard seed",
          "Mustard seed",
          "Mustard seed",
          "Mustard seed",
          "Mustard seed",
          "Oats",
          "Oats",
          "Oats",
          "Oats",
          "Oats",
          "Oats",
          "Rye",
          "Rye",
          "Rye",
          "Rye",
          "Rye",
          "Rye",
          "Soybeans",
          "Soybeans",
          "Soybeans",
          "Soybeans",
          "Soybeans",
          "Soybeans",
          "Sunflower seed",
          "Sunflower seed",
          "Sunflower seed",
          "Sunflower seed",
          "Sunflower seed",
          "Sunflower seed",
          "Wheat excluding durum",
          "Wheat excluding durum",
          "Wheat excluding durum",
          "Wheat excluding durum",
          "Wheat excluding durum",
          "Wheat excluding durum"
         ],
         "yaxis": "y"
        }
       ],
       "layout": {
        "coloraxis": {
         "colorbar": {
          "title": {
           "text": "Metric Tonnes"
          }
         },
         "colorscale": [
          [
           0,
           "rgb(5,48,97)"
          ],
          [
           0.1,
           "rgb(33,102,172)"
          ],
          [
           0.2,
           "rgb(67,147,195)"
          ],
          [
           0.3,
           "rgb(146,197,222)"
          ],
          [
           0.4,
           "rgb(209,229,240)"
          ],
          [
           0.5,
           "rgb(247,247,247)"
          ],
          [
           0.6,
           "rgb(253,219,199)"
          ],
          [
           0.7,
           "rgb(244,165,130)"
          ],
          [
           0.8,
           "rgb(214,96,77)"
          ],
          [
           0.9,
           "rgb(178,24,43)"
          ],
          [
           1,
           "rgb(103,0,31)"
          ]
         ]
        },
        "height": 600,
        "legend": {
         "itemsizing": "constant",
         "tracegroupgap": 0
        },
        "margin": {
         "t": 60
        },
        "paper_bgcolor": "white",
        "plot_bgcolor": "white",
        "template": {
         "data": {
          "bar": [
           {
            "error_x": {
             "color": "#2a3f5f"
            },
            "error_y": {
             "color": "#2a3f5f"
            },
            "marker": {
             "line": {
              "color": "#E5ECF6",
              "width": 0.5
             },
             "pattern": {
              "fillmode": "overlay",
              "size": 10,
              "solidity": 0.2
             }
            },
            "type": "bar"
           }
          ],
          "barpolar": [
           {
            "marker": {
             "line": {
              "color": "#E5ECF6",
              "width": 0.5
             },
             "pattern": {
              "fillmode": "overlay",
              "size": 10,
              "solidity": 0.2
             }
            },
            "type": "barpolar"
           }
          ],
          "carpet": [
           {
            "aaxis": {
             "endlinecolor": "#2a3f5f",
             "gridcolor": "white",
             "linecolor": "white",
             "minorgridcolor": "white",
             "startlinecolor": "#2a3f5f"
            },
            "baxis": {
             "endlinecolor": "#2a3f5f",
             "gridcolor": "white",
             "linecolor": "white",
             "minorgridcolor": "white",
             "startlinecolor": "#2a3f5f"
            },
            "type": "carpet"
           }
          ],
          "choropleth": [
           {
            "colorbar": {
             "outlinewidth": 0,
             "ticks": ""
            },
            "type": "choropleth"
           }
          ],
          "contour": [
           {
            "colorbar": {
             "outlinewidth": 0,
             "ticks": ""
            },
            "colorscale": [
             [
              0,
              "#0d0887"
             ],
             [
              0.1111111111111111,
              "#46039f"
             ],
             [
              0.2222222222222222,
              "#7201a8"
             ],
             [
              0.3333333333333333,
              "#9c179e"
             ],
             [
              0.4444444444444444,
              "#bd3786"
             ],
             [
              0.5555555555555556,
              "#d8576b"
             ],
             [
              0.6666666666666666,
              "#ed7953"
             ],
             [
              0.7777777777777778,
              "#fb9f3a"
             ],
             [
              0.8888888888888888,
              "#fdca26"
             ],
             [
              1,
              "#f0f921"
             ]
            ],
            "type": "contour"
           }
          ],
          "contourcarpet": [
           {
            "colorbar": {
             "outlinewidth": 0,
             "ticks": ""
            },
            "type": "contourcarpet"
           }
          ],
          "heatmap": [
           {
            "colorbar": {
             "outlinewidth": 0,
             "ticks": ""
            },
            "colorscale": [
             [
              0,
              "#0d0887"
             ],
             [
              0.1111111111111111,
              "#46039f"
             ],
             [
              0.2222222222222222,
              "#7201a8"
             ],
             [
              0.3333333333333333,
              "#9c179e"
             ],
             [
              0.4444444444444444,
              "#bd3786"
             ],
             [
              0.5555555555555556,
              "#d8576b"
             ],
             [
              0.6666666666666666,
              "#ed7953"
             ],
             [
              0.7777777777777778,
              "#fb9f3a"
             ],
             [
              0.8888888888888888,
              "#fdca26"
             ],
             [
              1,
              "#f0f921"
             ]
            ],
            "type": "heatmap"
           }
          ],
          "histogram": [
           {
            "marker": {
             "pattern": {
              "fillmode": "overlay",
              "size": 10,
              "solidity": 0.2
             }
            },
            "type": "histogram"
           }
          ],
          "histogram2d": [
           {
            "colorbar": {
             "outlinewidth": 0,
             "ticks": ""
            },
            "colorscale": [
             [
              0,
              "#0d0887"
             ],
             [
              0.1111111111111111,
              "#46039f"
             ],
             [
              0.2222222222222222,
              "#7201a8"
             ],
             [
              0.3333333333333333,
              "#9c179e"
             ],
             [
              0.4444444444444444,
              "#bd3786"
             ],
             [
              0.5555555555555556,
              "#d8576b"
             ],
             [
              0.6666666666666666,
              "#ed7953"
             ],
             [
              0.7777777777777778,
              "#fb9f3a"
             ],
             [
              0.8888888888888888,
              "#fdca26"
             ],
             [
              1,
              "#f0f921"
             ]
            ],
            "type": "histogram2d"
           }
          ],
          "histogram2dcontour": [
           {
            "colorbar": {
             "outlinewidth": 0,
             "ticks": ""
            },
            "colorscale": [
             [
              0,
              "#0d0887"
             ],
             [
              0.1111111111111111,
              "#46039f"
             ],
             [
              0.2222222222222222,
              "#7201a8"
             ],
             [
              0.3333333333333333,
              "#9c179e"
             ],
             [
              0.4444444444444444,
              "#bd3786"
             ],
             [
              0.5555555555555556,
              "#d8576b"
             ],
             [
              0.6666666666666666,
              "#ed7953"
             ],
             [
              0.7777777777777778,
              "#fb9f3a"
             ],
             [
              0.8888888888888888,
              "#fdca26"
             ],
             [
              1,
              "#f0f921"
             ]
            ],
            "type": "histogram2dcontour"
           }
          ],
          "mesh3d": [
           {
            "colorbar": {
             "outlinewidth": 0,
             "ticks": ""
            },
            "type": "mesh3d"
           }
          ],
          "parcoords": [
           {
            "line": {
             "colorbar": {
              "outlinewidth": 0,
              "ticks": ""
             }
            },
            "type": "parcoords"
           }
          ],
          "pie": [
           {
            "automargin": true,
            "type": "pie"
           }
          ],
          "scatter": [
           {
            "fillpattern": {
             "fillmode": "overlay",
             "size": 10,
             "solidity": 0.2
            },
            "type": "scatter"
           }
          ],
          "scatter3d": [
           {
            "line": {
             "colorbar": {
              "outlinewidth": 0,
              "ticks": ""
             }
            },
            "marker": {
             "colorbar": {
              "outlinewidth": 0,
              "ticks": ""
             }
            },
            "type": "scatter3d"
           }
          ],
          "scattercarpet": [
           {
            "marker": {
             "colorbar": {
              "outlinewidth": 0,
              "ticks": ""
             }
            },
            "type": "scattercarpet"
           }
          ],
          "scattergeo": [
           {
            "marker": {
             "colorbar": {
              "outlinewidth": 0,
              "ticks": ""
             }
            },
            "type": "scattergeo"
           }
          ],
          "scattergl": [
           {
            "marker": {
             "colorbar": {
              "outlinewidth": 0,
              "ticks": ""
             }
            },
            "type": "scattergl"
           }
          ],
          "scattermap": [
           {
            "marker": {
             "colorbar": {
              "outlinewidth": 0,
              "ticks": ""
             }
            },
            "type": "scattermap"
           }
          ],
          "scattermapbox": [
           {
            "marker": {
             "colorbar": {
              "outlinewidth": 0,
              "ticks": ""
             }
            },
            "type": "scattermapbox"
           }
          ],
          "scatterpolar": [
           {
            "marker": {
             "colorbar": {
              "outlinewidth": 0,
              "ticks": ""
             }
            },
            "type": "scatterpolar"
           }
          ],
          "scatterpolargl": [
           {
            "marker": {
             "colorbar": {
              "outlinewidth": 0,
              "ticks": ""
             }
            },
            "type": "scatterpolargl"
           }
          ],
          "scatterternary": [
           {
            "marker": {
             "colorbar": {
              "outlinewidth": 0,
              "ticks": ""
             }
            },
            "type": "scatterternary"
           }
          ],
          "surface": [
           {
            "colorbar": {
             "outlinewidth": 0,
             "ticks": ""
            },
            "colorscale": [
             [
              0,
              "#0d0887"
             ],
             [
              0.1111111111111111,
              "#46039f"
             ],
             [
              0.2222222222222222,
              "#7201a8"
             ],
             [
              0.3333333333333333,
              "#9c179e"
             ],
             [
              0.4444444444444444,
              "#bd3786"
             ],
             [
              0.5555555555555556,
              "#d8576b"
             ],
             [
              0.6666666666666666,
              "#ed7953"
             ],
             [
              0.7777777777777778,
              "#fb9f3a"
             ],
             [
              0.8888888888888888,
              "#fdca26"
             ],
             [
              1,
              "#f0f921"
             ]
            ],
            "type": "surface"
           }
          ],
          "table": [
           {
            "cells": {
             "fill": {
              "color": "#EBF0F8"
             },
             "line": {
              "color": "white"
             }
            },
            "header": {
             "fill": {
              "color": "#C8D4E3"
             },
             "line": {
              "color": "white"
             }
            },
            "type": "table"
           }
          ]
         },
         "layout": {
          "annotationdefaults": {
           "arrowcolor": "#2a3f5f",
           "arrowhead": 0,
           "arrowwidth": 1
          },
          "autotypenumbers": "strict",
          "coloraxis": {
           "colorbar": {
            "outlinewidth": 0,
            "ticks": ""
           }
          },
          "colorscale": {
           "diverging": [
            [
             0,
             "#8e0152"
            ],
            [
             0.1,
             "#c51b7d"
            ],
            [
             0.2,
             "#de77ae"
            ],
            [
             0.3,
             "#f1b6da"
            ],
            [
             0.4,
             "#fde0ef"
            ],
            [
             0.5,
             "#f7f7f7"
            ],
            [
             0.6,
             "#e6f5d0"
            ],
            [
             0.7,
             "#b8e186"
            ],
            [
             0.8,
             "#7fbc41"
            ],
            [
             0.9,
             "#4d9221"
            ],
            [
             1,
             "#276419"
            ]
           ],
           "sequential": [
            [
             0,
             "#0d0887"
            ],
            [
             0.1111111111111111,
             "#46039f"
            ],
            [
             0.2222222222222222,
             "#7201a8"
            ],
            [
             0.3333333333333333,
             "#9c179e"
            ],
            [
             0.4444444444444444,
             "#bd3786"
            ],
            [
             0.5555555555555556,
             "#d8576b"
            ],
            [
             0.6666666666666666,
             "#ed7953"
            ],
            [
             0.7777777777777778,
             "#fb9f3a"
            ],
            [
             0.8888888888888888,
             "#fdca26"
            ],
            [
             1,
             "#f0f921"
            ]
           ],
           "sequentialminus": [
            [
             0,
             "#0d0887"
            ],
            [
             0.1111111111111111,
             "#46039f"
            ],
            [
             0.2222222222222222,
             "#7201a8"
            ],
            [
             0.3333333333333333,
             "#9c179e"
            ],
            [
             0.4444444444444444,
             "#bd3786"
            ],
            [
             0.5555555555555556,
             "#d8576b"
            ],
            [
             0.6666666666666666,
             "#ed7953"
            ],
            [
             0.7777777777777778,
             "#fb9f3a"
            ],
            [
             0.8888888888888888,
             "#fdca26"
            ],
            [
             1,
             "#f0f921"
            ]
           ]
          },
          "colorway": [
           "#636efa",
           "#EF553B",
           "#00cc96",
           "#ab63fa",
           "#FFA15A",
           "#19d3f3",
           "#FF6692",
           "#B6E880",
           "#FF97FF",
           "#FECB52"
          ],
          "font": {
           "color": "#2a3f5f"
          },
          "geo": {
           "bgcolor": "white",
           "lakecolor": "white",
           "landcolor": "#E5ECF6",
           "showlakes": true,
           "showland": true,
           "subunitcolor": "white"
          },
          "hoverlabel": {
           "align": "left"
          },
          "hovermode": "closest",
          "mapbox": {
           "style": "light"
          },
          "paper_bgcolor": "white",
          "plot_bgcolor": "#E5ECF6",
          "polar": {
           "angularaxis": {
            "gridcolor": "white",
            "linecolor": "white",
            "ticks": ""
           },
           "bgcolor": "#E5ECF6",
           "radialaxis": {
            "gridcolor": "white",
            "linecolor": "white",
            "ticks": ""
           }
          },
          "scene": {
           "xaxis": {
            "backgroundcolor": "#E5ECF6",
            "gridcolor": "white",
            "gridwidth": 2,
            "linecolor": "white",
            "showbackground": true,
            "ticks": "",
            "zerolinecolor": "white"
           },
           "yaxis": {
            "backgroundcolor": "#E5ECF6",
            "gridcolor": "white",
            "gridwidth": 2,
            "linecolor": "white",
            "showbackground": true,
            "ticks": "",
            "zerolinecolor": "white"
           },
           "zaxis": {
            "backgroundcolor": "#E5ECF6",
            "gridcolor": "white",
            "gridwidth": 2,
            "linecolor": "white",
            "showbackground": true,
            "ticks": "",
            "zerolinecolor": "white"
           }
          },
          "shapedefaults": {
           "line": {
            "color": "#2a3f5f"
           }
          },
          "ternary": {
           "aaxis": {
            "gridcolor": "white",
            "linecolor": "white",
            "ticks": ""
           },
           "baxis": {
            "gridcolor": "white",
            "linecolor": "white",
            "ticks": ""
           },
           "bgcolor": "#E5ECF6",
           "caxis": {
            "gridcolor": "white",
            "linecolor": "white",
            "ticks": ""
           }
          },
          "title": {
           "x": 0.05
          },
          "xaxis": {
           "automargin": true,
           "gridcolor": "white",
           "linecolor": "white",
           "ticks": "",
           "title": {
            "standoff": 15
           },
           "zerolinecolor": "white",
           "zerolinewidth": 2
          },
          "yaxis": {
           "automargin": true,
           "gridcolor": "white",
           "linecolor": "white",
           "ticks": "",
           "title": {
            "standoff": 15
           },
           "zerolinecolor": "white",
           "zerolinewidth": 2
          }
         }
        },
        "width": 800,
        "xaxis": {
         "anchor": "y",
         "domain": [
          0,
          1
         ],
         "gridcolor": "LightGray",
         "gridwidth": 1,
         "showgrid": true,
         "title": {
          "text": ""
         }
        },
        "yaxis": {
         "anchor": "x",
         "domain": [
          0,
          1
         ],
         "gridcolor": "LightGray",
         "gridwidth": 1,
         "showgrid": true,
         "title": {
          "text": ""
         }
        }
       }
      }
     },
     "metadata": {},
     "output_type": "display_data"
    }
   ],
   "source": [
    "fig = px.scatter(\n",
    "    df_grouped, y='Crop', x='Year', color='Metric_Tonnes', size='Metric_Tonnes',\n",
    "    color_continuous_scale = px.colors.sequential.RdBu_r,\n",
    ")\n",
    "fig.update_layout(\n",
    "        paper_bgcolor=\"white\",\n",
    "        plot_bgcolor=\"white\",\n",
    "    )\n",
    "fig.update_yaxes(showgrid=True, gridwidth=1, gridcolor='LightGray')\n",
    "fig.update_xaxes(showgrid=True, gridwidth=1, gridcolor='LightGray')\n",
    "fig.update_coloraxes(colorbar=dict(title='Metric Tonnes'))\n",
    "fig.update_yaxes(title=\"\")\n",
    "fig.update_xaxes(title='')\n",
    "fig.update_layout(width=800, height=600)\n",
    "fig.show()"
   ]
  },
  {
   "cell_type": "code",
   "execution_count": 21,
   "metadata": {},
   "outputs": [
    {
     "data": {
      "application/vnd.plotly.v1+json": {
       "config": {
        "plotlyServerURL": "https://plot.ly"
       },
       "data": [
        {
         "hovertemplate": "Year=%{x}<br>Crop=%{y}<br>Metric_Tonnes=%{marker.color}<extra></extra>",
         "legendgroup": "",
         "marker": {
          "color": {
           "bdata": "AAAAAICY10AAAAAAwIHaQAAAAADAxN5AAAAAAIDM20AAAAAAwGTXQAAAAACAMdxAAAAAAADAY0AAAAAAALB+QAAAAAAA+IFAAAAAAAAIgkAAAAAAANB5QAAAAAAA4HpAAAAAAAAT70AAAAAAAPbtQAAAAACg9exAAAAAAED86UAAAAAA4ArnQAAAAADANOtAAAAAAABwc0AAAAAAAFCLQAAAAAAAcIZAAAAAAAA4gEAAAAAAAGBzQAAAAAAA4HhAAAAAAIAOx0AAAAAAAEPGQAAAAAAAhclAAAAAAABUxkAAAAAAAOe+QAAAAACAd8JAAAAAAICuzkAAAAAAwDLQQAAAAABAN9BAAAAAAACXz0AAAAAAACfHQAAAAACAhM5AAAAAAAAImUAAAAAAAPiWQAAAAAAAOJhAAAAAAABUl0AAAAAAAOyRQAAAAAAADJNAAAAAAACMvEAAAAAAAG66QAAAAAAA0L1AAAAAAACivEAAAAAAAHG1QAAAAAAAgbhAAAAAAADAZUAAAAAAADB+QAAAAAAAIHdAAAAAAABAcEAAAAAAAKBxQAAAAAAA8H5AAAAAAABLxUAAAAAAgK3FQAAAAAAAc8lAAAAAAICJx0AAAAAAAIjFQAAAAAAAkMlAAAAAAACwjEAAAAAAACiJQAAAAAAACJJAAAAAAAAQlUAAAAAAAMCTQAAAAAAA2JVAAAAAAMBQ1kAAAAAAwHzUQAAAAABANtJAAAAAAIB/0kAAAAAAwIvSQAAAAACAmNNAAAAAAACATEAAAAAAACBmQAAAAAAAYGxAAAAAAABQcUAAAAAAAEBtQAAAAAAAQHBAAAAAAFDl8kAAAAAAMLnzQAAAAADAjPRAAAAAACDU8kAAAAAA0G/wQAAAAABwwPRA",
           "dtype": "f8"
          },
          "coloraxis": "coloraxis",
          "size": {
           "bdata": "AAAAAICY10AAAAAAwIHaQAAAAADAxN5AAAAAAIDM20AAAAAAwGTXQAAAAACAMdxAAAAAAADAY0AAAAAAALB+QAAAAAAA+IFAAAAAAAAIgkAAAAAAANB5QAAAAAAA4HpAAAAAAAAT70AAAAAAAPbtQAAAAACg9exAAAAAAED86UAAAAAA4ArnQAAAAADANOtAAAAAAABwc0AAAAAAAFCLQAAAAAAAcIZAAAAAAAA4gEAAAAAAAGBzQAAAAAAA4HhAAAAAAIAOx0AAAAAAAEPGQAAAAAAAhclAAAAAAABUxkAAAAAAAOe+QAAAAACAd8JAAAAAAICuzkAAAAAAwDLQQAAAAABAN9BAAAAAAACXz0AAAAAAACfHQAAAAACAhM5AAAAAAAAImUAAAAAAAPiWQAAAAAAAOJhAAAAAAABUl0AAAAAAAOyRQAAAAAAADJNAAAAAAACMvEAAAAAAAG66QAAAAAAA0L1AAAAAAACivEAAAAAAAHG1QAAAAAAAgbhAAAAAAADAZUAAAAAAADB+QAAAAAAAIHdAAAAAAABAcEAAAAAAAKBxQAAAAAAA8H5AAAAAAABLxUAAAAAAgK3FQAAAAAAAc8lAAAAAAICJx0AAAAAAAIjFQAAAAAAAkMlAAAAAAACwjEAAAAAAACiJQAAAAAAACJJAAAAAAAAQlUAAAAAAAMCTQAAAAAAA2JVAAAAAAMBQ1kAAAAAAwHzUQAAAAABANtJAAAAAAIB/0kAAAAAAwIvSQAAAAACAmNNAAAAAAACATEAAAAAAACBmQAAAAAAAYGxAAAAAAABQcUAAAAAAAEBtQAAAAAAAQHBAAAAAAFDl8kAAAAAAMLnzQAAAAADAjPRAAAAAACDU8kAAAAAA0G/wQAAAAABwwPRA",
           "dtype": "f8"
          },
          "sizemode": "area",
          "sizeref": 212.4975,
          "symbol": "circle"
         },
         "mode": "markers",
         "name": "",
         "orientation": "v",
         "showlegend": false,
         "type": "scatter",
         "x": [
          "2018",
          "2019",
          "2020",
          "2021",
          "2022",
          "2023",
          "2018",
          "2019",
          "2020",
          "2021",
          "2022",
          "2023",
          "2018",
          "2019",
          "2020",
          "2021",
          "2022",
          "2023",
          "2018",
          "2019",
          "2020",
          "2021",
          "2022",
          "2023",
          "2018",
          "2019",
          "2020",
          "2021",
          "2022",
          "2023",
          "2018",
          "2019",
          "2020",
          "2021",
          "2022",
          "2023",
          "2018",
          "2019",
          "2020",
          "2021",
          "2022",
          "2023",
          "2018",
          "2019",
          "2020",
          "2021",
          "2022",
          "2023",
          "2018",
          "2019",
          "2020",
          "2021",
          "2022",
          "2023",
          "2018",
          "2019",
          "2020",
          "2021",
          "2022",
          "2023",
          "2018",
          "2019",
          "2020",
          "2021",
          "2022",
          "2023",
          "2018",
          "2019",
          "2020",
          "2021",
          "2022",
          "2023",
          "2018",
          "2019",
          "2020",
          "2021",
          "2022",
          "2023",
          "2018",
          "2019",
          "2020",
          "2021",
          "2022",
          "2023"
         ],
         "xaxis": "x",
         "y": [
          "Barley",
          "Barley",
          "Barley",
          "Barley",
          "Barley",
          "Barley",
          "Canary seed",
          "Canary seed",
          "Canary seed",
          "Canary seed",
          "Canary seed",
          "Canary seed",
          "Canola",
          "Canola",
          "Canola",
          "Canola",
          "Canola",
          "Canola",
          "Chickpeas",
          "Chickpeas",
          "Chickpeas",
          "Chickpeas",
          "Chickpeas",
          "Chickpeas",
          "Dry peas",
          "Dry peas",
          "Dry peas",
          "Dry peas",
          "Dry peas",
          "Dry peas",
          "Durum wheat",
          "Durum wheat",
          "Durum wheat",
          "Durum wheat",
          "Durum wheat",
          "Durum wheat",
          "Flaxseed",
          "Flaxseed",
          "Flaxseed",
          "Flaxseed",
          "Flaxseed",
          "Flaxseed",
          "Lentils",
          "Lentils",
          "Lentils",
          "Lentils",
          "Lentils",
          "Lentils",
          "Mustard seed",
          "Mustard seed",
          "Mustard seed",
          "Mustard seed",
          "Mustard seed",
          "Mustard seed",
          "Oats",
          "Oats",
          "Oats",
          "Oats",
          "Oats",
          "Oats",
          "Rye",
          "Rye",
          "Rye",
          "Rye",
          "Rye",
          "Rye",
          "Soybeans",
          "Soybeans",
          "Soybeans",
          "Soybeans",
          "Soybeans",
          "Soybeans",
          "Sunflower seed",
          "Sunflower seed",
          "Sunflower seed",
          "Sunflower seed",
          "Sunflower seed",
          "Sunflower seed",
          "Wheat excluding durum",
          "Wheat excluding durum",
          "Wheat excluding durum",
          "Wheat excluding durum",
          "Wheat excluding durum",
          "Wheat excluding durum"
         ],
         "yaxis": "y"
        }
       ],
       "layout": {
        "coloraxis": {
         "colorbar": {
          "title": {
           "text": "Metric Tonnes"
          }
         },
         "colorscale": [
          [
           0,
           "rgb(23, 28, 66)"
          ],
          [
           0.09090909090909091,
           "rgb(41, 58, 143)"
          ],
          [
           0.18181818181818182,
           "rgb(11, 102, 189)"
          ],
          [
           0.2727272727272727,
           "rgb(69, 144, 185)"
          ],
          [
           0.36363636363636365,
           "rgb(142, 181, 194)"
          ],
          [
           0.45454545454545453,
           "rgb(210, 216, 219)"
          ],
          [
           0.5454545454545454,
           "rgb(230, 210, 204)"
          ],
          [
           0.6363636363636364,
           "rgb(213, 157, 137)"
          ],
          [
           0.7272727272727273,
           "rgb(196, 101, 72)"
          ],
          [
           0.8181818181818182,
           "rgb(172, 43, 36)"
          ],
          [
           0.9090909090909091,
           "rgb(120, 14, 40)"
          ],
          [
           1,
           "rgb(60, 9, 17)"
          ]
         ]
        },
        "height": 600,
        "legend": {
         "itemsizing": "constant",
         "tracegroupgap": 0
        },
        "margin": {
         "t": 60
        },
        "paper_bgcolor": "white",
        "plot_bgcolor": "white",
        "template": {
         "data": {
          "bar": [
           {
            "error_x": {
             "color": "#2a3f5f"
            },
            "error_y": {
             "color": "#2a3f5f"
            },
            "marker": {
             "line": {
              "color": "#E5ECF6",
              "width": 0.5
             },
             "pattern": {
              "fillmode": "overlay",
              "size": 10,
              "solidity": 0.2
             }
            },
            "type": "bar"
           }
          ],
          "barpolar": [
           {
            "marker": {
             "line": {
              "color": "#E5ECF6",
              "width": 0.5
             },
             "pattern": {
              "fillmode": "overlay",
              "size": 10,
              "solidity": 0.2
             }
            },
            "type": "barpolar"
           }
          ],
          "carpet": [
           {
            "aaxis": {
             "endlinecolor": "#2a3f5f",
             "gridcolor": "white",
             "linecolor": "white",
             "minorgridcolor": "white",
             "startlinecolor": "#2a3f5f"
            },
            "baxis": {
             "endlinecolor": "#2a3f5f",
             "gridcolor": "white",
             "linecolor": "white",
             "minorgridcolor": "white",
             "startlinecolor": "#2a3f5f"
            },
            "type": "carpet"
           }
          ],
          "choropleth": [
           {
            "colorbar": {
             "outlinewidth": 0,
             "ticks": ""
            },
            "type": "choropleth"
           }
          ],
          "contour": [
           {
            "colorbar": {
             "outlinewidth": 0,
             "ticks": ""
            },
            "colorscale": [
             [
              0,
              "#0d0887"
             ],
             [
              0.1111111111111111,
              "#46039f"
             ],
             [
              0.2222222222222222,
              "#7201a8"
             ],
             [
              0.3333333333333333,
              "#9c179e"
             ],
             [
              0.4444444444444444,
              "#bd3786"
             ],
             [
              0.5555555555555556,
              "#d8576b"
             ],
             [
              0.6666666666666666,
              "#ed7953"
             ],
             [
              0.7777777777777778,
              "#fb9f3a"
             ],
             [
              0.8888888888888888,
              "#fdca26"
             ],
             [
              1,
              "#f0f921"
             ]
            ],
            "type": "contour"
           }
          ],
          "contourcarpet": [
           {
            "colorbar": {
             "outlinewidth": 0,
             "ticks": ""
            },
            "type": "contourcarpet"
           }
          ],
          "heatmap": [
           {
            "colorbar": {
             "outlinewidth": 0,
             "ticks": ""
            },
            "colorscale": [
             [
              0,
              "#0d0887"
             ],
             [
              0.1111111111111111,
              "#46039f"
             ],
             [
              0.2222222222222222,
              "#7201a8"
             ],
             [
              0.3333333333333333,
              "#9c179e"
             ],
             [
              0.4444444444444444,
              "#bd3786"
             ],
             [
              0.5555555555555556,
              "#d8576b"
             ],
             [
              0.6666666666666666,
              "#ed7953"
             ],
             [
              0.7777777777777778,
              "#fb9f3a"
             ],
             [
              0.8888888888888888,
              "#fdca26"
             ],
             [
              1,
              "#f0f921"
             ]
            ],
            "type": "heatmap"
           }
          ],
          "histogram": [
           {
            "marker": {
             "pattern": {
              "fillmode": "overlay",
              "size": 10,
              "solidity": 0.2
             }
            },
            "type": "histogram"
           }
          ],
          "histogram2d": [
           {
            "colorbar": {
             "outlinewidth": 0,
             "ticks": ""
            },
            "colorscale": [
             [
              0,
              "#0d0887"
             ],
             [
              0.1111111111111111,
              "#46039f"
             ],
             [
              0.2222222222222222,
              "#7201a8"
             ],
             [
              0.3333333333333333,
              "#9c179e"
             ],
             [
              0.4444444444444444,
              "#bd3786"
             ],
             [
              0.5555555555555556,
              "#d8576b"
             ],
             [
              0.6666666666666666,
              "#ed7953"
             ],
             [
              0.7777777777777778,
              "#fb9f3a"
             ],
             [
              0.8888888888888888,
              "#fdca26"
             ],
             [
              1,
              "#f0f921"
             ]
            ],
            "type": "histogram2d"
           }
          ],
          "histogram2dcontour": [
           {
            "colorbar": {
             "outlinewidth": 0,
             "ticks": ""
            },
            "colorscale": [
             [
              0,
              "#0d0887"
             ],
             [
              0.1111111111111111,
              "#46039f"
             ],
             [
              0.2222222222222222,
              "#7201a8"
             ],
             [
              0.3333333333333333,
              "#9c179e"
             ],
             [
              0.4444444444444444,
              "#bd3786"
             ],
             [
              0.5555555555555556,
              "#d8576b"
             ],
             [
              0.6666666666666666,
              "#ed7953"
             ],
             [
              0.7777777777777778,
              "#fb9f3a"
             ],
             [
              0.8888888888888888,
              "#fdca26"
             ],
             [
              1,
              "#f0f921"
             ]
            ],
            "type": "histogram2dcontour"
           }
          ],
          "mesh3d": [
           {
            "colorbar": {
             "outlinewidth": 0,
             "ticks": ""
            },
            "type": "mesh3d"
           }
          ],
          "parcoords": [
           {
            "line": {
             "colorbar": {
              "outlinewidth": 0,
              "ticks": ""
             }
            },
            "type": "parcoords"
           }
          ],
          "pie": [
           {
            "automargin": true,
            "type": "pie"
           }
          ],
          "scatter": [
           {
            "fillpattern": {
             "fillmode": "overlay",
             "size": 10,
             "solidity": 0.2
            },
            "type": "scatter"
           }
          ],
          "scatter3d": [
           {
            "line": {
             "colorbar": {
              "outlinewidth": 0,
              "ticks": ""
             }
            },
            "marker": {
             "colorbar": {
              "outlinewidth": 0,
              "ticks": ""
             }
            },
            "type": "scatter3d"
           }
          ],
          "scattercarpet": [
           {
            "marker": {
             "colorbar": {
              "outlinewidth": 0,
              "ticks": ""
             }
            },
            "type": "scattercarpet"
           }
          ],
          "scattergeo": [
           {
            "marker": {
             "colorbar": {
              "outlinewidth": 0,
              "ticks": ""
             }
            },
            "type": "scattergeo"
           }
          ],
          "scattergl": [
           {
            "marker": {
             "colorbar": {
              "outlinewidth": 0,
              "ticks": ""
             }
            },
            "type": "scattergl"
           }
          ],
          "scattermap": [
           {
            "marker": {
             "colorbar": {
              "outlinewidth": 0,
              "ticks": ""
             }
            },
            "type": "scattermap"
           }
          ],
          "scattermapbox": [
           {
            "marker": {
             "colorbar": {
              "outlinewidth": 0,
              "ticks": ""
             }
            },
            "type": "scattermapbox"
           }
          ],
          "scatterpolar": [
           {
            "marker": {
             "colorbar": {
              "outlinewidth": 0,
              "ticks": ""
             }
            },
            "type": "scatterpolar"
           }
          ],
          "scatterpolargl": [
           {
            "marker": {
             "colorbar": {
              "outlinewidth": 0,
              "ticks": ""
             }
            },
            "type": "scatterpolargl"
           }
          ],
          "scatterternary": [
           {
            "marker": {
             "colorbar": {
              "outlinewidth": 0,
              "ticks": ""
             }
            },
            "type": "scatterternary"
           }
          ],
          "surface": [
           {
            "colorbar": {
             "outlinewidth": 0,
             "ticks": ""
            },
            "colorscale": [
             [
              0,
              "#0d0887"
             ],
             [
              0.1111111111111111,
              "#46039f"
             ],
             [
              0.2222222222222222,
              "#7201a8"
             ],
             [
              0.3333333333333333,
              "#9c179e"
             ],
             [
              0.4444444444444444,
              "#bd3786"
             ],
             [
              0.5555555555555556,
              "#d8576b"
             ],
             [
              0.6666666666666666,
              "#ed7953"
             ],
             [
              0.7777777777777778,
              "#fb9f3a"
             ],
             [
              0.8888888888888888,
              "#fdca26"
             ],
             [
              1,
              "#f0f921"
             ]
            ],
            "type": "surface"
           }
          ],
          "table": [
           {
            "cells": {
             "fill": {
              "color": "#EBF0F8"
             },
             "line": {
              "color": "white"
             }
            },
            "header": {
             "fill": {
              "color": "#C8D4E3"
             },
             "line": {
              "color": "white"
             }
            },
            "type": "table"
           }
          ]
         },
         "layout": {
          "annotationdefaults": {
           "arrowcolor": "#2a3f5f",
           "arrowhead": 0,
           "arrowwidth": 1
          },
          "autotypenumbers": "strict",
          "coloraxis": {
           "colorbar": {
            "outlinewidth": 0,
            "ticks": ""
           }
          },
          "colorscale": {
           "diverging": [
            [
             0,
             "#8e0152"
            ],
            [
             0.1,
             "#c51b7d"
            ],
            [
             0.2,
             "#de77ae"
            ],
            [
             0.3,
             "#f1b6da"
            ],
            [
             0.4,
             "#fde0ef"
            ],
            [
             0.5,
             "#f7f7f7"
            ],
            [
             0.6,
             "#e6f5d0"
            ],
            [
             0.7,
             "#b8e186"
            ],
            [
             0.8,
             "#7fbc41"
            ],
            [
             0.9,
             "#4d9221"
            ],
            [
             1,
             "#276419"
            ]
           ],
           "sequential": [
            [
             0,
             "#0d0887"
            ],
            [
             0.1111111111111111,
             "#46039f"
            ],
            [
             0.2222222222222222,
             "#7201a8"
            ],
            [
             0.3333333333333333,
             "#9c179e"
            ],
            [
             0.4444444444444444,
             "#bd3786"
            ],
            [
             0.5555555555555556,
             "#d8576b"
            ],
            [
             0.6666666666666666,
             "#ed7953"
            ],
            [
             0.7777777777777778,
             "#fb9f3a"
            ],
            [
             0.8888888888888888,
             "#fdca26"
            ],
            [
             1,
             "#f0f921"
            ]
           ],
           "sequentialminus": [
            [
             0,
             "#0d0887"
            ],
            [
             0.1111111111111111,
             "#46039f"
            ],
            [
             0.2222222222222222,
             "#7201a8"
            ],
            [
             0.3333333333333333,
             "#9c179e"
            ],
            [
             0.4444444444444444,
             "#bd3786"
            ],
            [
             0.5555555555555556,
             "#d8576b"
            ],
            [
             0.6666666666666666,
             "#ed7953"
            ],
            [
             0.7777777777777778,
             "#fb9f3a"
            ],
            [
             0.8888888888888888,
             "#fdca26"
            ],
            [
             1,
             "#f0f921"
            ]
           ]
          },
          "colorway": [
           "#636efa",
           "#EF553B",
           "#00cc96",
           "#ab63fa",
           "#FFA15A",
           "#19d3f3",
           "#FF6692",
           "#B6E880",
           "#FF97FF",
           "#FECB52"
          ],
          "font": {
           "color": "#2a3f5f"
          },
          "geo": {
           "bgcolor": "white",
           "lakecolor": "white",
           "landcolor": "#E5ECF6",
           "showlakes": true,
           "showland": true,
           "subunitcolor": "white"
          },
          "hoverlabel": {
           "align": "left"
          },
          "hovermode": "closest",
          "mapbox": {
           "style": "light"
          },
          "paper_bgcolor": "white",
          "plot_bgcolor": "#E5ECF6",
          "polar": {
           "angularaxis": {
            "gridcolor": "white",
            "linecolor": "white",
            "ticks": ""
           },
           "bgcolor": "#E5ECF6",
           "radialaxis": {
            "gridcolor": "white",
            "linecolor": "white",
            "ticks": ""
           }
          },
          "scene": {
           "xaxis": {
            "backgroundcolor": "#E5ECF6",
            "gridcolor": "white",
            "gridwidth": 2,
            "linecolor": "white",
            "showbackground": true,
            "ticks": "",
            "zerolinecolor": "white"
           },
           "yaxis": {
            "backgroundcolor": "#E5ECF6",
            "gridcolor": "white",
            "gridwidth": 2,
            "linecolor": "white",
            "showbackground": true,
            "ticks": "",
            "zerolinecolor": "white"
           },
           "zaxis": {
            "backgroundcolor": "#E5ECF6",
            "gridcolor": "white",
            "gridwidth": 2,
            "linecolor": "white",
            "showbackground": true,
            "ticks": "",
            "zerolinecolor": "white"
           }
          },
          "shapedefaults": {
           "line": {
            "color": "#2a3f5f"
           }
          },
          "ternary": {
           "aaxis": {
            "gridcolor": "white",
            "linecolor": "white",
            "ticks": ""
           },
           "baxis": {
            "gridcolor": "white",
            "linecolor": "white",
            "ticks": ""
           },
           "bgcolor": "#E5ECF6",
           "caxis": {
            "gridcolor": "white",
            "linecolor": "white",
            "ticks": ""
           }
          },
          "title": {
           "x": 0.05
          },
          "xaxis": {
           "automargin": true,
           "gridcolor": "white",
           "linecolor": "white",
           "ticks": "",
           "title": {
            "standoff": 15
           },
           "zerolinecolor": "white",
           "zerolinewidth": 2
          },
          "yaxis": {
           "automargin": true,
           "gridcolor": "white",
           "linecolor": "white",
           "ticks": "",
           "title": {
            "standoff": 15
           },
           "zerolinecolor": "white",
           "zerolinewidth": 2
          }
         }
        },
        "width": 800,
        "xaxis": {
         "anchor": "y",
         "domain": [
          0,
          1
         ],
         "gridcolor": "LightGray",
         "gridwidth": 1,
         "showgrid": true,
         "title": {
          "text": ""
         }
        },
        "yaxis": {
         "anchor": "x",
         "domain": [
          0,
          1
         ],
         "gridcolor": "LightGray",
         "gridwidth": 1,
         "showgrid": true,
         "title": {
          "text": ""
         }
        }
       }
      }
     },
     "metadata": {},
     "output_type": "display_data"
    }
   ],
   "source": [
    "fig = px.scatter(\n",
    "    df_grouped, y='Crop', x='Year', color='Metric_Tonnes', size='Metric_Tonnes',\n",
    "    color_continuous_scale = px.colors.diverging.balance,\n",
    ")\n",
    "fig.update_layout(\n",
    "        paper_bgcolor=\"white\",\n",
    "        plot_bgcolor=\"white\",\n",
    "    )\n",
    "fig.update_yaxes(showgrid=True, gridwidth=1, gridcolor='LightGray')\n",
    "fig.update_xaxes(showgrid=True, gridwidth=1, gridcolor='LightGray')\n",
    "fig.update_coloraxes(colorbar=dict(title='Metric Tonnes'))\n",
    "fig.update_yaxes(title=\"\")\n",
    "fig.update_xaxes(title='')\n",
    "fig.update_layout(width=800, height=600)\n",
    "fig.show()"
   ]
  },
  {
   "cell_type": "markdown",
   "metadata": {},
   "source": [
    "# Sequential Color\n",
    "\n",
    "Sequential color scales are appropriate for most continuous data"
   ]
  },
  {
   "cell_type": "code",
   "execution_count": 18,
   "metadata": {},
   "outputs": [
    {
     "data": {
      "application/vnd.plotly.v1+json": {
       "config": {
        "plotlyServerURL": "https://plot.ly"
       },
       "data": [
        {
         "hovertemplate": "Year=%{x}<br>Crop=%{y}<br>Metric_Tonnes=%{marker.color}<extra></extra>",
         "legendgroup": "",
         "marker": {
          "color": {
           "bdata": "AAAAAICY10AAAAAAwIHaQAAAAADAxN5AAAAAAIDM20AAAAAAwGTXQAAAAACAMdxAAAAAAADAY0AAAAAAALB+QAAAAAAA+IFAAAAAAAAIgkAAAAAAANB5QAAAAAAA4HpAAAAAAAAT70AAAAAAAPbtQAAAAACg9exAAAAAAED86UAAAAAA4ArnQAAAAADANOtAAAAAAABwc0AAAAAAAFCLQAAAAAAAcIZAAAAAAAA4gEAAAAAAAGBzQAAAAAAA4HhAAAAAAIAOx0AAAAAAAEPGQAAAAAAAhclAAAAAAABUxkAAAAAAAOe+QAAAAACAd8JAAAAAAICuzkAAAAAAwDLQQAAAAABAN9BAAAAAAACXz0AAAAAAACfHQAAAAACAhM5AAAAAAAAImUAAAAAAAPiWQAAAAAAAOJhAAAAAAABUl0AAAAAAAOyRQAAAAAAADJNAAAAAAACMvEAAAAAAAG66QAAAAAAA0L1AAAAAAACivEAAAAAAAHG1QAAAAAAAgbhAAAAAAADAZUAAAAAAADB+QAAAAAAAIHdAAAAAAABAcEAAAAAAAKBxQAAAAAAA8H5AAAAAAABLxUAAAAAAgK3FQAAAAAAAc8lAAAAAAICJx0AAAAAAAIjFQAAAAAAAkMlAAAAAAACwjEAAAAAAACiJQAAAAAAACJJAAAAAAAAQlUAAAAAAAMCTQAAAAAAA2JVAAAAAAMBQ1kAAAAAAwHzUQAAAAABANtJAAAAAAIB/0kAAAAAAwIvSQAAAAACAmNNAAAAAAACATEAAAAAAACBmQAAAAAAAYGxAAAAAAABQcUAAAAAAAEBtQAAAAAAAQHBAAAAAAFDl8kAAAAAAMLnzQAAAAADAjPRAAAAAACDU8kAAAAAA0G/wQAAAAABwwPRA",
           "dtype": "f8"
          },
          "coloraxis": "coloraxis",
          "size": {
           "bdata": "AAAAAICY10AAAAAAwIHaQAAAAADAxN5AAAAAAIDM20AAAAAAwGTXQAAAAACAMdxAAAAAAADAY0AAAAAAALB+QAAAAAAA+IFAAAAAAAAIgkAAAAAAANB5QAAAAAAA4HpAAAAAAAAT70AAAAAAAPbtQAAAAACg9exAAAAAAED86UAAAAAA4ArnQAAAAADANOtAAAAAAABwc0AAAAAAAFCLQAAAAAAAcIZAAAAAAAA4gEAAAAAAAGBzQAAAAAAA4HhAAAAAAIAOx0AAAAAAAEPGQAAAAAAAhclAAAAAAABUxkAAAAAAAOe+QAAAAACAd8JAAAAAAICuzkAAAAAAwDLQQAAAAABAN9BAAAAAAACXz0AAAAAAACfHQAAAAACAhM5AAAAAAAAImUAAAAAAAPiWQAAAAAAAOJhAAAAAAABUl0AAAAAAAOyRQAAAAAAADJNAAAAAAACMvEAAAAAAAG66QAAAAAAA0L1AAAAAAACivEAAAAAAAHG1QAAAAAAAgbhAAAAAAADAZUAAAAAAADB+QAAAAAAAIHdAAAAAAABAcEAAAAAAAKBxQAAAAAAA8H5AAAAAAABLxUAAAAAAgK3FQAAAAAAAc8lAAAAAAICJx0AAAAAAAIjFQAAAAAAAkMlAAAAAAACwjEAAAAAAACiJQAAAAAAACJJAAAAAAAAQlUAAAAAAAMCTQAAAAAAA2JVAAAAAAMBQ1kAAAAAAwHzUQAAAAABANtJAAAAAAIB/0kAAAAAAwIvSQAAAAACAmNNAAAAAAACATEAAAAAAACBmQAAAAAAAYGxAAAAAAABQcUAAAAAAAEBtQAAAAAAAQHBAAAAAAFDl8kAAAAAAMLnzQAAAAADAjPRAAAAAACDU8kAAAAAA0G/wQAAAAABwwPRA",
           "dtype": "f8"
          },
          "sizemode": "area",
          "sizeref": 212.4975,
          "symbol": "circle"
         },
         "mode": "markers",
         "name": "",
         "orientation": "v",
         "showlegend": false,
         "type": "scatter",
         "x": [
          "2018",
          "2019",
          "2020",
          "2021",
          "2022",
          "2023",
          "2018",
          "2019",
          "2020",
          "2021",
          "2022",
          "2023",
          "2018",
          "2019",
          "2020",
          "2021",
          "2022",
          "2023",
          "2018",
          "2019",
          "2020",
          "2021",
          "2022",
          "2023",
          "2018",
          "2019",
          "2020",
          "2021",
          "2022",
          "2023",
          "2018",
          "2019",
          "2020",
          "2021",
          "2022",
          "2023",
          "2018",
          "2019",
          "2020",
          "2021",
          "2022",
          "2023",
          "2018",
          "2019",
          "2020",
          "2021",
          "2022",
          "2023",
          "2018",
          "2019",
          "2020",
          "2021",
          "2022",
          "2023",
          "2018",
          "2019",
          "2020",
          "2021",
          "2022",
          "2023",
          "2018",
          "2019",
          "2020",
          "2021",
          "2022",
          "2023",
          "2018",
          "2019",
          "2020",
          "2021",
          "2022",
          "2023",
          "2018",
          "2019",
          "2020",
          "2021",
          "2022",
          "2023",
          "2018",
          "2019",
          "2020",
          "2021",
          "2022",
          "2023"
         ],
         "xaxis": "x",
         "y": [
          "Barley",
          "Barley",
          "Barley",
          "Barley",
          "Barley",
          "Barley",
          "Canary seed",
          "Canary seed",
          "Canary seed",
          "Canary seed",
          "Canary seed",
          "Canary seed",
          "Canola",
          "Canola",
          "Canola",
          "Canola",
          "Canola",
          "Canola",
          "Chickpeas",
          "Chickpeas",
          "Chickpeas",
          "Chickpeas",
          "Chickpeas",
          "Chickpeas",
          "Dry peas",
          "Dry peas",
          "Dry peas",
          "Dry peas",
          "Dry peas",
          "Dry peas",
          "Durum wheat",
          "Durum wheat",
          "Durum wheat",
          "Durum wheat",
          "Durum wheat",
          "Durum wheat",
          "Flaxseed",
          "Flaxseed",
          "Flaxseed",
          "Flaxseed",
          "Flaxseed",
          "Flaxseed",
          "Lentils",
          "Lentils",
          "Lentils",
          "Lentils",
          "Lentils",
          "Lentils",
          "Mustard seed",
          "Mustard seed",
          "Mustard seed",
          "Mustard seed",
          "Mustard seed",
          "Mustard seed",
          "Oats",
          "Oats",
          "Oats",
          "Oats",
          "Oats",
          "Oats",
          "Rye",
          "Rye",
          "Rye",
          "Rye",
          "Rye",
          "Rye",
          "Soybeans",
          "Soybeans",
          "Soybeans",
          "Soybeans",
          "Soybeans",
          "Soybeans",
          "Sunflower seed",
          "Sunflower seed",
          "Sunflower seed",
          "Sunflower seed",
          "Sunflower seed",
          "Sunflower seed",
          "Wheat excluding durum",
          "Wheat excluding durum",
          "Wheat excluding durum",
          "Wheat excluding durum",
          "Wheat excluding durum",
          "Wheat excluding durum"
         ],
         "yaxis": "y"
        }
       ],
       "layout": {
        "coloraxis": {
         "colorbar": {
          "title": {
           "text": "Metric Tonnes"
          }
         },
         "colorscale": [
          [
           0,
           "rgb(255,245,240)"
          ],
          [
           0.125,
           "rgb(254,224,210)"
          ],
          [
           0.25,
           "rgb(252,187,161)"
          ],
          [
           0.375,
           "rgb(252,146,114)"
          ],
          [
           0.5,
           "rgb(251,106,74)"
          ],
          [
           0.625,
           "rgb(239,59,44)"
          ],
          [
           0.75,
           "rgb(203,24,29)"
          ],
          [
           0.875,
           "rgb(165,15,21)"
          ],
          [
           1,
           "rgb(103,0,13)"
          ]
         ]
        },
        "height": 600,
        "legend": {
         "itemsizing": "constant",
         "tracegroupgap": 0
        },
        "margin": {
         "t": 60
        },
        "paper_bgcolor": "white",
        "plot_bgcolor": "white",
        "template": {
         "data": {
          "bar": [
           {
            "error_x": {
             "color": "#2a3f5f"
            },
            "error_y": {
             "color": "#2a3f5f"
            },
            "marker": {
             "line": {
              "color": "#E5ECF6",
              "width": 0.5
             },
             "pattern": {
              "fillmode": "overlay",
              "size": 10,
              "solidity": 0.2
             }
            },
            "type": "bar"
           }
          ],
          "barpolar": [
           {
            "marker": {
             "line": {
              "color": "#E5ECF6",
              "width": 0.5
             },
             "pattern": {
              "fillmode": "overlay",
              "size": 10,
              "solidity": 0.2
             }
            },
            "type": "barpolar"
           }
          ],
          "carpet": [
           {
            "aaxis": {
             "endlinecolor": "#2a3f5f",
             "gridcolor": "white",
             "linecolor": "white",
             "minorgridcolor": "white",
             "startlinecolor": "#2a3f5f"
            },
            "baxis": {
             "endlinecolor": "#2a3f5f",
             "gridcolor": "white",
             "linecolor": "white",
             "minorgridcolor": "white",
             "startlinecolor": "#2a3f5f"
            },
            "type": "carpet"
           }
          ],
          "choropleth": [
           {
            "colorbar": {
             "outlinewidth": 0,
             "ticks": ""
            },
            "type": "choropleth"
           }
          ],
          "contour": [
           {
            "colorbar": {
             "outlinewidth": 0,
             "ticks": ""
            },
            "colorscale": [
             [
              0,
              "#0d0887"
             ],
             [
              0.1111111111111111,
              "#46039f"
             ],
             [
              0.2222222222222222,
              "#7201a8"
             ],
             [
              0.3333333333333333,
              "#9c179e"
             ],
             [
              0.4444444444444444,
              "#bd3786"
             ],
             [
              0.5555555555555556,
              "#d8576b"
             ],
             [
              0.6666666666666666,
              "#ed7953"
             ],
             [
              0.7777777777777778,
              "#fb9f3a"
             ],
             [
              0.8888888888888888,
              "#fdca26"
             ],
             [
              1,
              "#f0f921"
             ]
            ],
            "type": "contour"
           }
          ],
          "contourcarpet": [
           {
            "colorbar": {
             "outlinewidth": 0,
             "ticks": ""
            },
            "type": "contourcarpet"
           }
          ],
          "heatmap": [
           {
            "colorbar": {
             "outlinewidth": 0,
             "ticks": ""
            },
            "colorscale": [
             [
              0,
              "#0d0887"
             ],
             [
              0.1111111111111111,
              "#46039f"
             ],
             [
              0.2222222222222222,
              "#7201a8"
             ],
             [
              0.3333333333333333,
              "#9c179e"
             ],
             [
              0.4444444444444444,
              "#bd3786"
             ],
             [
              0.5555555555555556,
              "#d8576b"
             ],
             [
              0.6666666666666666,
              "#ed7953"
             ],
             [
              0.7777777777777778,
              "#fb9f3a"
             ],
             [
              0.8888888888888888,
              "#fdca26"
             ],
             [
              1,
              "#f0f921"
             ]
            ],
            "type": "heatmap"
           }
          ],
          "histogram": [
           {
            "marker": {
             "pattern": {
              "fillmode": "overlay",
              "size": 10,
              "solidity": 0.2
             }
            },
            "type": "histogram"
           }
          ],
          "histogram2d": [
           {
            "colorbar": {
             "outlinewidth": 0,
             "ticks": ""
            },
            "colorscale": [
             [
              0,
              "#0d0887"
             ],
             [
              0.1111111111111111,
              "#46039f"
             ],
             [
              0.2222222222222222,
              "#7201a8"
             ],
             [
              0.3333333333333333,
              "#9c179e"
             ],
             [
              0.4444444444444444,
              "#bd3786"
             ],
             [
              0.5555555555555556,
              "#d8576b"
             ],
             [
              0.6666666666666666,
              "#ed7953"
             ],
             [
              0.7777777777777778,
              "#fb9f3a"
             ],
             [
              0.8888888888888888,
              "#fdca26"
             ],
             [
              1,
              "#f0f921"
             ]
            ],
            "type": "histogram2d"
           }
          ],
          "histogram2dcontour": [
           {
            "colorbar": {
             "outlinewidth": 0,
             "ticks": ""
            },
            "colorscale": [
             [
              0,
              "#0d0887"
             ],
             [
              0.1111111111111111,
              "#46039f"
             ],
             [
              0.2222222222222222,
              "#7201a8"
             ],
             [
              0.3333333333333333,
              "#9c179e"
             ],
             [
              0.4444444444444444,
              "#bd3786"
             ],
             [
              0.5555555555555556,
              "#d8576b"
             ],
             [
              0.6666666666666666,
              "#ed7953"
             ],
             [
              0.7777777777777778,
              "#fb9f3a"
             ],
             [
              0.8888888888888888,
              "#fdca26"
             ],
             [
              1,
              "#f0f921"
             ]
            ],
            "type": "histogram2dcontour"
           }
          ],
          "mesh3d": [
           {
            "colorbar": {
             "outlinewidth": 0,
             "ticks": ""
            },
            "type": "mesh3d"
           }
          ],
          "parcoords": [
           {
            "line": {
             "colorbar": {
              "outlinewidth": 0,
              "ticks": ""
             }
            },
            "type": "parcoords"
           }
          ],
          "pie": [
           {
            "automargin": true,
            "type": "pie"
           }
          ],
          "scatter": [
           {
            "fillpattern": {
             "fillmode": "overlay",
             "size": 10,
             "solidity": 0.2
            },
            "type": "scatter"
           }
          ],
          "scatter3d": [
           {
            "line": {
             "colorbar": {
              "outlinewidth": 0,
              "ticks": ""
             }
            },
            "marker": {
             "colorbar": {
              "outlinewidth": 0,
              "ticks": ""
             }
            },
            "type": "scatter3d"
           }
          ],
          "scattercarpet": [
           {
            "marker": {
             "colorbar": {
              "outlinewidth": 0,
              "ticks": ""
             }
            },
            "type": "scattercarpet"
           }
          ],
          "scattergeo": [
           {
            "marker": {
             "colorbar": {
              "outlinewidth": 0,
              "ticks": ""
             }
            },
            "type": "scattergeo"
           }
          ],
          "scattergl": [
           {
            "marker": {
             "colorbar": {
              "outlinewidth": 0,
              "ticks": ""
             }
            },
            "type": "scattergl"
           }
          ],
          "scattermap": [
           {
            "marker": {
             "colorbar": {
              "outlinewidth": 0,
              "ticks": ""
             }
            },
            "type": "scattermap"
           }
          ],
          "scattermapbox": [
           {
            "marker": {
             "colorbar": {
              "outlinewidth": 0,
              "ticks": ""
             }
            },
            "type": "scattermapbox"
           }
          ],
          "scatterpolar": [
           {
            "marker": {
             "colorbar": {
              "outlinewidth": 0,
              "ticks": ""
             }
            },
            "type": "scatterpolar"
           }
          ],
          "scatterpolargl": [
           {
            "marker": {
             "colorbar": {
              "outlinewidth": 0,
              "ticks": ""
             }
            },
            "type": "scatterpolargl"
           }
          ],
          "scatterternary": [
           {
            "marker": {
             "colorbar": {
              "outlinewidth": 0,
              "ticks": ""
             }
            },
            "type": "scatterternary"
           }
          ],
          "surface": [
           {
            "colorbar": {
             "outlinewidth": 0,
             "ticks": ""
            },
            "colorscale": [
             [
              0,
              "#0d0887"
             ],
             [
              0.1111111111111111,
              "#46039f"
             ],
             [
              0.2222222222222222,
              "#7201a8"
             ],
             [
              0.3333333333333333,
              "#9c179e"
             ],
             [
              0.4444444444444444,
              "#bd3786"
             ],
             [
              0.5555555555555556,
              "#d8576b"
             ],
             [
              0.6666666666666666,
              "#ed7953"
             ],
             [
              0.7777777777777778,
              "#fb9f3a"
             ],
             [
              0.8888888888888888,
              "#fdca26"
             ],
             [
              1,
              "#f0f921"
             ]
            ],
            "type": "surface"
           }
          ],
          "table": [
           {
            "cells": {
             "fill": {
              "color": "#EBF0F8"
             },
             "line": {
              "color": "white"
             }
            },
            "header": {
             "fill": {
              "color": "#C8D4E3"
             },
             "line": {
              "color": "white"
             }
            },
            "type": "table"
           }
          ]
         },
         "layout": {
          "annotationdefaults": {
           "arrowcolor": "#2a3f5f",
           "arrowhead": 0,
           "arrowwidth": 1
          },
          "autotypenumbers": "strict",
          "coloraxis": {
           "colorbar": {
            "outlinewidth": 0,
            "ticks": ""
           }
          },
          "colorscale": {
           "diverging": [
            [
             0,
             "#8e0152"
            ],
            [
             0.1,
             "#c51b7d"
            ],
            [
             0.2,
             "#de77ae"
            ],
            [
             0.3,
             "#f1b6da"
            ],
            [
             0.4,
             "#fde0ef"
            ],
            [
             0.5,
             "#f7f7f7"
            ],
            [
             0.6,
             "#e6f5d0"
            ],
            [
             0.7,
             "#b8e186"
            ],
            [
             0.8,
             "#7fbc41"
            ],
            [
             0.9,
             "#4d9221"
            ],
            [
             1,
             "#276419"
            ]
           ],
           "sequential": [
            [
             0,
             "#0d0887"
            ],
            [
             0.1111111111111111,
             "#46039f"
            ],
            [
             0.2222222222222222,
             "#7201a8"
            ],
            [
             0.3333333333333333,
             "#9c179e"
            ],
            [
             0.4444444444444444,
             "#bd3786"
            ],
            [
             0.5555555555555556,
             "#d8576b"
            ],
            [
             0.6666666666666666,
             "#ed7953"
            ],
            [
             0.7777777777777778,
             "#fb9f3a"
            ],
            [
             0.8888888888888888,
             "#fdca26"
            ],
            [
             1,
             "#f0f921"
            ]
           ],
           "sequentialminus": [
            [
             0,
             "#0d0887"
            ],
            [
             0.1111111111111111,
             "#46039f"
            ],
            [
             0.2222222222222222,
             "#7201a8"
            ],
            [
             0.3333333333333333,
             "#9c179e"
            ],
            [
             0.4444444444444444,
             "#bd3786"
            ],
            [
             0.5555555555555556,
             "#d8576b"
            ],
            [
             0.6666666666666666,
             "#ed7953"
            ],
            [
             0.7777777777777778,
             "#fb9f3a"
            ],
            [
             0.8888888888888888,
             "#fdca26"
            ],
            [
             1,
             "#f0f921"
            ]
           ]
          },
          "colorway": [
           "#636efa",
           "#EF553B",
           "#00cc96",
           "#ab63fa",
           "#FFA15A",
           "#19d3f3",
           "#FF6692",
           "#B6E880",
           "#FF97FF",
           "#FECB52"
          ],
          "font": {
           "color": "#2a3f5f"
          },
          "geo": {
           "bgcolor": "white",
           "lakecolor": "white",
           "landcolor": "#E5ECF6",
           "showlakes": true,
           "showland": true,
           "subunitcolor": "white"
          },
          "hoverlabel": {
           "align": "left"
          },
          "hovermode": "closest",
          "mapbox": {
           "style": "light"
          },
          "paper_bgcolor": "white",
          "plot_bgcolor": "#E5ECF6",
          "polar": {
           "angularaxis": {
            "gridcolor": "white",
            "linecolor": "white",
            "ticks": ""
           },
           "bgcolor": "#E5ECF6",
           "radialaxis": {
            "gridcolor": "white",
            "linecolor": "white",
            "ticks": ""
           }
          },
          "scene": {
           "xaxis": {
            "backgroundcolor": "#E5ECF6",
            "gridcolor": "white",
            "gridwidth": 2,
            "linecolor": "white",
            "showbackground": true,
            "ticks": "",
            "zerolinecolor": "white"
           },
           "yaxis": {
            "backgroundcolor": "#E5ECF6",
            "gridcolor": "white",
            "gridwidth": 2,
            "linecolor": "white",
            "showbackground": true,
            "ticks": "",
            "zerolinecolor": "white"
           },
           "zaxis": {
            "backgroundcolor": "#E5ECF6",
            "gridcolor": "white",
            "gridwidth": 2,
            "linecolor": "white",
            "showbackground": true,
            "ticks": "",
            "zerolinecolor": "white"
           }
          },
          "shapedefaults": {
           "line": {
            "color": "#2a3f5f"
           }
          },
          "ternary": {
           "aaxis": {
            "gridcolor": "white",
            "linecolor": "white",
            "ticks": ""
           },
           "baxis": {
            "gridcolor": "white",
            "linecolor": "white",
            "ticks": ""
           },
           "bgcolor": "#E5ECF6",
           "caxis": {
            "gridcolor": "white",
            "linecolor": "white",
            "ticks": ""
           }
          },
          "title": {
           "x": 0.05
          },
          "xaxis": {
           "automargin": true,
           "gridcolor": "white",
           "linecolor": "white",
           "ticks": "",
           "title": {
            "standoff": 15
           },
           "zerolinecolor": "white",
           "zerolinewidth": 2
          },
          "yaxis": {
           "automargin": true,
           "gridcolor": "white",
           "linecolor": "white",
           "ticks": "",
           "title": {
            "standoff": 15
           },
           "zerolinecolor": "white",
           "zerolinewidth": 2
          }
         }
        },
        "width": 800,
        "xaxis": {
         "anchor": "y",
         "domain": [
          0,
          1
         ],
         "gridcolor": "LightGray",
         "gridwidth": 1,
         "showgrid": true,
         "title": {
          "text": ""
         }
        },
        "yaxis": {
         "anchor": "x",
         "domain": [
          0,
          1
         ],
         "gridcolor": "LightGray",
         "gridwidth": 1,
         "showgrid": true,
         "title": {
          "text": ""
         }
        }
       }
      }
     },
     "metadata": {},
     "output_type": "display_data"
    }
   ],
   "source": [
    "fig = px.scatter(\n",
    "    df_grouped, y='Crop', x='Year', color='Metric_Tonnes', size='Metric_Tonnes',\n",
    "    color_continuous_scale = px.colors.sequential.Reds,\n",
    ")\n",
    "fig.update_layout(\n",
    "        paper_bgcolor=\"white\",\n",
    "        plot_bgcolor=\"white\",\n",
    "    )\n",
    "fig.update_yaxes(showgrid=True, gridwidth=1, gridcolor='LightGray')\n",
    "fig.update_xaxes(showgrid=True, gridwidth=1, gridcolor='LightGray')\n",
    "fig.update_coloraxes(colorbar=dict(title='Metric Tonnes'))\n",
    "fig.update_yaxes(title=\"\")\n",
    "fig.update_xaxes(title='')\n",
    "fig.update_layout(width=800, height=600)\n",
    "fig.show()"
   ]
  }
 ],
 "metadata": {
  "kernelspec": {
   "display_name": ".venv",
   "language": "python",
   "name": "python3"
  },
  "language_info": {
   "codemirror_mode": {
    "name": "ipython",
    "version": 3
   },
   "file_extension": ".py",
   "mimetype": "text/x-python",
   "name": "python",
   "nbconvert_exporter": "python",
   "pygments_lexer": "ipython3",
   "version": "3.12.5"
  }
 },
 "nbformat": 4,
 "nbformat_minor": 2
}
