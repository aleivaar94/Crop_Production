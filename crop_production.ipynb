{
 "cells": [
  {
   "cell_type": "code",
   "execution_count": 1,
   "metadata": {},
   "outputs": [],
   "source": [
    "import pandas as pd\n",
    "import plotly.express as px\n",
    "import matplotlib.pyplot as plt\n",
    "\n",
    "pd.set_option('display.max_columns', None)"
   ]
  },
  {
   "cell_type": "code",
   "execution_count": 2,
   "metadata": {},
   "outputs": [
    {
     "data": {
      "text/html": [
       "<div>\n",
       "<style scoped>\n",
       "    .dataframe tbody tr th:only-of-type {\n",
       "        vertical-align: middle;\n",
       "    }\n",
       "\n",
       "    .dataframe tbody tr th {\n",
       "        vertical-align: top;\n",
       "    }\n",
       "\n",
       "    .dataframe thead th {\n",
       "        text-align: right;\n",
       "    }\n",
       "</style>\n",
       "<table border=\"1\" class=\"dataframe\">\n",
       "  <thead>\n",
       "    <tr style=\"text-align: right;\">\n",
       "      <th></th>\n",
       "      <th>Crop</th>\n",
       "      <th>2018</th>\n",
       "      <th>2018</th>\n",
       "      <th>2018</th>\n",
       "      <th>2019</th>\n",
       "      <th>2019</th>\n",
       "      <th>2019</th>\n",
       "      <th>2020</th>\n",
       "      <th>2020</th>\n",
       "      <th>2020</th>\n",
       "      <th>2021</th>\n",
       "      <th>2021</th>\n",
       "      <th>2021</th>\n",
       "      <th>2022</th>\n",
       "      <th>2022</th>\n",
       "      <th>2022</th>\n",
       "      <th>2023</th>\n",
       "      <th>2023</th>\n",
       "      <th>2023</th>\n",
       "    </tr>\n",
       "  </thead>\n",
       "  <tbody>\n",
       "    <tr>\n",
       "      <th>2</th>\n",
       "      <td>Durum wheat</td>\n",
       "      <td>4962.0</td>\n",
       "      <td>4962.0</td>\n",
       "      <td>5785.0</td>\n",
       "      <td>5785.0</td>\n",
       "      <td>5785.0</td>\n",
       "      <td>5017.0</td>\n",
       "      <td>5017.0</td>\n",
       "      <td>5017.0</td>\n",
       "      <td>6571.0</td>\n",
       "      <td>6571.0</td>\n",
       "      <td>6571.0</td>\n",
       "      <td>3032.0</td>\n",
       "      <td>3032.0</td>\n",
       "      <td>3032.0</td>\n",
       "      <td>5790.0</td>\n",
       "      <td>5790.0</td>\n",
       "      <td>5790.0</td>\n",
       "      <td>4045.0</td>\n",
       "    </tr>\n",
       "    <tr>\n",
       "      <th>3</th>\n",
       "      <td>Wheat excluding durum</td>\n",
       "      <td>25415.0</td>\n",
       "      <td>25415.0</td>\n",
       "      <td>26567.0</td>\n",
       "      <td>26567.0</td>\n",
       "      <td>26567.0</td>\n",
       "      <td>27653.0</td>\n",
       "      <td>27653.0</td>\n",
       "      <td>27653.0</td>\n",
       "      <td>28866.0</td>\n",
       "      <td>28866.0</td>\n",
       "      <td>28866.0</td>\n",
       "      <td>19390.0</td>\n",
       "      <td>19390.0</td>\n",
       "      <td>19390.0</td>\n",
       "      <td>28545.0</td>\n",
       "      <td>28545.0</td>\n",
       "      <td>28545.0</td>\n",
       "      <td>27909.0</td>\n",
       "    </tr>\n",
       "    <tr>\n",
       "      <th>4</th>\n",
       "      <td>Oats</td>\n",
       "      <td>3733.0</td>\n",
       "      <td>3733.0</td>\n",
       "      <td>3436.0</td>\n",
       "      <td>3436.0</td>\n",
       "      <td>3436.0</td>\n",
       "      <td>4227.0</td>\n",
       "      <td>4227.0</td>\n",
       "      <td>4227.0</td>\n",
       "      <td>4576.0</td>\n",
       "      <td>4576.0</td>\n",
       "      <td>4576.0</td>\n",
       "      <td>2899.0</td>\n",
       "      <td>2899.0</td>\n",
       "      <td>2899.0</td>\n",
       "      <td>5226.0</td>\n",
       "      <td>5226.0</td>\n",
       "      <td>5226.0</td>\n",
       "      <td>2636.0</td>\n",
       "    </tr>\n",
       "    <tr>\n",
       "      <th>5</th>\n",
       "      <td>Barley</td>\n",
       "      <td>7891.0</td>\n",
       "      <td>7891.0</td>\n",
       "      <td>8380.0</td>\n",
       "      <td>8380.0</td>\n",
       "      <td>8380.0</td>\n",
       "      <td>10383.0</td>\n",
       "      <td>10383.0</td>\n",
       "      <td>10383.0</td>\n",
       "      <td>10741.0</td>\n",
       "      <td>10741.0</td>\n",
       "      <td>10741.0</td>\n",
       "      <td>6984.0</td>\n",
       "      <td>6984.0</td>\n",
       "      <td>6984.0</td>\n",
       "      <td>9987.0</td>\n",
       "      <td>9987.0</td>\n",
       "      <td>9987.0</td>\n",
       "      <td>8896.0</td>\n",
       "    </tr>\n",
       "    <tr>\n",
       "      <th>6</th>\n",
       "      <td>Rye</td>\n",
       "      <td>341.0</td>\n",
       "      <td>341.0</td>\n",
       "      <td>236.0</td>\n",
       "      <td>236.0</td>\n",
       "      <td>236.0</td>\n",
       "      <td>333.0</td>\n",
       "      <td>333.0</td>\n",
       "      <td>333.0</td>\n",
       "      <td>488.0</td>\n",
       "      <td>488.0</td>\n",
       "      <td>488.0</td>\n",
       "      <td>372.0</td>\n",
       "      <td>372.0</td>\n",
       "      <td>372.0</td>\n",
       "      <td>520.0</td>\n",
       "      <td>520.0</td>\n",
       "      <td>520.0</td>\n",
       "      <td>358.0</td>\n",
       "    </tr>\n",
       "  </tbody>\n",
       "</table>\n",
       "</div>"
      ],
      "text/plain": [
       "                           Crop     2018     2018     2018     2019     2019  \\\n",
       "2           Durum wheat           4962.0   4962.0   5785.0   5785.0   5785.0   \n",
       "3  Wheat excluding durum         25415.0  25415.0  26567.0  26567.0  26567.0   \n",
       "4                   Oats          3733.0   3733.0   3436.0   3436.0   3436.0   \n",
       "5                  Barley         7891.0   7891.0   8380.0   8380.0   8380.0   \n",
       "6                      Rye         341.0    341.0    236.0    236.0    236.0   \n",
       "\n",
       "      2019     2020     2020     2020     2021     2021     2021     2022  \\\n",
       "2   5017.0   5017.0   5017.0   6571.0   6571.0   6571.0   3032.0   3032.0   \n",
       "3  27653.0  27653.0  27653.0  28866.0  28866.0  28866.0  19390.0  19390.0   \n",
       "4   4227.0   4227.0   4227.0   4576.0   4576.0   4576.0   2899.0   2899.0   \n",
       "5  10383.0  10383.0  10383.0  10741.0  10741.0  10741.0   6984.0   6984.0   \n",
       "6    333.0    333.0    333.0    488.0    488.0    488.0    372.0    372.0   \n",
       "\n",
       "      2022     2022     2023     2023     2023  \n",
       "2   3032.0   5790.0   5790.0   5790.0   4045.0  \n",
       "3  19390.0  28545.0  28545.0  28545.0  27909.0  \n",
       "4   2899.0   5226.0   5226.0   5226.0   2636.0  \n",
       "5   6984.0   9987.0   9987.0   9987.0   8896.0  \n",
       "6    372.0    520.0    520.0    520.0    358.0  "
      ]
     },
     "execution_count": 2,
     "metadata": {},
     "output_type": "execute_result"
    }
   ],
   "source": [
    "start_row = 10  # starting from row 10\n",
    "number_of_rows = 16  # reading from row 10 to 26\n",
    "\n",
    "df = pd.read_csv('3210001301-eng.csv', skiprows=range(start_row - 1), nrows=number_of_rows)\n",
    "df.drop(['Supply and disposition of grains', 'March 2024'] , axis=1, inplace=True)\n",
    "\n",
    "# replace all commas in the dataframe\n",
    "df = df.apply(lambda x: x.str.replace(',', ''))\n",
    "\n",
    "# Transform all columns with \"20**\" to numeric\n",
    "for col in df.columns:\n",
    "    if '20' in col:\n",
    "        df[col] = pd.to_numeric(df[col], errors='coerce')\n",
    "\n",
    "# Rename the columns\n",
    "df.columns = [name.split(' ')[1] for name in df.columns]\n",
    "\n",
    "# drop the first two rows\n",
    "df = df.iloc[2:]\n",
    "\n",
    "# Replace the name of the first column\n",
    "df.rename(columns={df.columns[0]: 'Crop'}, inplace=True)\n",
    "\n",
    "# Remove digits in the Crop column\n",
    "df['Crop'] = df['Crop'].str.replace('\\d+', '', regex=True)\n",
    "\n",
    "# Round all numeric values\n",
    "df = df.round(0)\n",
    "\n",
    "df.head()"
   ]
  },
  {
   "cell_type": "code",
   "execution_count": 3,
   "metadata": {},
   "outputs": [
    {
     "data": {
      "text/html": [
       "<div>\n",
       "<style scoped>\n",
       "    .dataframe tbody tr th:only-of-type {\n",
       "        vertical-align: middle;\n",
       "    }\n",
       "\n",
       "    .dataframe tbody tr th {\n",
       "        vertical-align: top;\n",
       "    }\n",
       "\n",
       "    .dataframe thead th {\n",
       "        text-align: right;\n",
       "    }\n",
       "</style>\n",
       "<table border=\"1\" class=\"dataframe\">\n",
       "  <thead>\n",
       "    <tr style=\"text-align: right;\">\n",
       "      <th></th>\n",
       "      <th>Crop</th>\n",
       "      <th>Year</th>\n",
       "      <th>Metric_Tonnes</th>\n",
       "    </tr>\n",
       "  </thead>\n",
       "  <tbody>\n",
       "    <tr>\n",
       "      <th>0</th>\n",
       "      <td>Barley</td>\n",
       "      <td>2018</td>\n",
       "      <td>24162.0</td>\n",
       "    </tr>\n",
       "    <tr>\n",
       "      <th>1</th>\n",
       "      <td>Barley</td>\n",
       "      <td>2019</td>\n",
       "      <td>27143.0</td>\n",
       "    </tr>\n",
       "    <tr>\n",
       "      <th>2</th>\n",
       "      <td>Barley</td>\n",
       "      <td>2020</td>\n",
       "      <td>31507.0</td>\n",
       "    </tr>\n",
       "    <tr>\n",
       "      <th>3</th>\n",
       "      <td>Barley</td>\n",
       "      <td>2021</td>\n",
       "      <td>28466.0</td>\n",
       "    </tr>\n",
       "    <tr>\n",
       "      <th>4</th>\n",
       "      <td>Barley</td>\n",
       "      <td>2022</td>\n",
       "      <td>23955.0</td>\n",
       "    </tr>\n",
       "    <tr>\n",
       "      <th>...</th>\n",
       "      <td>...</td>\n",
       "      <td>...</td>\n",
       "      <td>...</td>\n",
       "    </tr>\n",
       "    <tr>\n",
       "      <th>79</th>\n",
       "      <td>Wheat excluding durum</td>\n",
       "      <td>2019</td>\n",
       "      <td>80787.0</td>\n",
       "    </tr>\n",
       "    <tr>\n",
       "      <th>80</th>\n",
       "      <td>Wheat excluding durum</td>\n",
       "      <td>2020</td>\n",
       "      <td>84172.0</td>\n",
       "    </tr>\n",
       "    <tr>\n",
       "      <th>81</th>\n",
       "      <td>Wheat excluding durum</td>\n",
       "      <td>2021</td>\n",
       "      <td>77122.0</td>\n",
       "    </tr>\n",
       "    <tr>\n",
       "      <th>82</th>\n",
       "      <td>Wheat excluding durum</td>\n",
       "      <td>2022</td>\n",
       "      <td>67325.0</td>\n",
       "    </tr>\n",
       "    <tr>\n",
       "      <th>83</th>\n",
       "      <td>Wheat excluding durum</td>\n",
       "      <td>2023</td>\n",
       "      <td>84999.0</td>\n",
       "    </tr>\n",
       "  </tbody>\n",
       "</table>\n",
       "<p>84 rows × 3 columns</p>\n",
       "</div>"
      ],
      "text/plain": [
       "                            Crop  Year  Metric_Tonnes\n",
       "0                   Barley        2018        24162.0\n",
       "1                   Barley        2019        27143.0\n",
       "2                   Barley        2020        31507.0\n",
       "3                   Barley        2021        28466.0\n",
       "4                   Barley        2022        23955.0\n",
       "..                           ...   ...            ...\n",
       "79  Wheat excluding durum         2019        80787.0\n",
       "80  Wheat excluding durum         2020        84172.0\n",
       "81  Wheat excluding durum         2021        77122.0\n",
       "82  Wheat excluding durum         2022        67325.0\n",
       "83  Wheat excluding durum         2023        84999.0\n",
       "\n",
       "[84 rows x 3 columns]"
      ]
     },
     "execution_count": 3,
     "metadata": {},
     "output_type": "execute_result"
    }
   ],
   "source": [
    "# Add crop production data for each year\n",
    "df_melted = df.melt(id_vars='Crop', var_name='Year', value_name='Metric_Tonnes')\n",
    "df_grouped = df_melted.groupby(['Crop', 'Year'], as_index=False).sum()\n",
    "df_grouped"
   ]
  },
  {
   "cell_type": "code",
   "execution_count": 15,
   "metadata": {},
   "outputs": [
    {
     "data": {
      "application/vnd.plotly.v1+json": {
       "config": {
        "plotlyServerURL": "https://plot.ly"
       },
       "data": [
        {
         "alignmentgroup": "True",
         "hovertemplate": "Crop=Barley      <br>Year=%{x}<br>Metric_Tonnes=%{y}<extra></extra>",
         "legendgroup": "Barley      ",
         "marker": {
          "color": "#636efa",
          "pattern": {
           "shape": ""
          }
         },
         "name": "Barley      ",
         "offsetgroup": "Barley      ",
         "orientation": "v",
         "showlegend": true,
         "textposition": "auto",
         "type": "bar",
         "x": [
          "2018",
          "2019",
          "2020",
          "2021",
          "2022",
          "2023"
         ],
         "xaxis": "x",
         "y": [
          24162,
          27143,
          31507,
          28466,
          23955,
          28870
         ],
         "yaxis": "y"
        },
        {
         "alignmentgroup": "True",
         "hovertemplate": "Crop=Canary seed<br>Year=%{x}<br>Metric_Tonnes=%{y}<extra></extra>",
         "legendgroup": "Canary seed",
         "marker": {
          "color": "#EF553B",
          "pattern": {
           "shape": ""
          }
         },
         "name": "Canary seed",
         "offsetgroup": "Canary seed",
         "orientation": "v",
         "showlegend": true,
         "textposition": "auto",
         "type": "bar",
         "x": [
          "2018",
          "2019",
          "2020",
          "2021",
          "2022",
          "2023"
         ],
         "xaxis": "x",
         "y": [
          158,
          491,
          575,
          577,
          413,
          430
         ],
         "yaxis": "y"
        },
        {
         "alignmentgroup": "True",
         "hovertemplate": "Crop=Canola        <br>Year=%{x}<br>Metric_Tonnes=%{y}<extra></extra>",
         "legendgroup": "Canola        ",
         "marker": {
          "color": "#00cc96",
          "pattern": {
           "shape": ""
          }
         },
         "name": "Canola        ",
         "offsetgroup": "Canola        ",
         "orientation": "v",
         "showlegend": true,
         "textposition": "auto",
         "type": "bar",
         "x": [
          "2018",
          "2019",
          "2020",
          "2021",
          "2022",
          "2023"
         ],
         "xaxis": "x",
         "y": [
          63640,
          61360,
          59309,
          53218,
          47191,
          55718
         ],
         "yaxis": "y"
        },
        {
         "alignmentgroup": "True",
         "hovertemplate": "Crop=Chickpeas<br>Year=%{x}<br>Metric_Tonnes=%{y}<extra></extra>",
         "legendgroup": "Chickpeas",
         "marker": {
          "color": "#ab63fa",
          "pattern": {
           "shape": ""
          }
         },
         "name": "Chickpeas",
         "offsetgroup": "Chickpeas",
         "orientation": "v",
         "showlegend": true,
         "textposition": "auto",
         "type": "bar",
         "x": [
          "2018",
          "2019",
          "2020",
          "2021",
          "2022",
          "2023"
         ],
         "xaxis": "x",
         "y": [
          311,
          874,
          718,
          519,
          310,
          398
         ],
         "yaxis": "y"
        },
        {
         "alignmentgroup": "True",
         "hovertemplate": "Crop=Dry peas <br>Year=%{x}<br>Metric_Tonnes=%{y}<extra></extra>",
         "legendgroup": "Dry peas ",
         "marker": {
          "color": "#FFA15A",
          "pattern": {
           "shape": ""
          }
         },
         "name": "Dry peas ",
         "offsetgroup": "Dry peas ",
         "orientation": "v",
         "showlegend": true,
         "textposition": "auto",
         "type": "bar",
         "x": [
          "2018",
          "2019",
          "2020",
          "2021",
          "2022",
          "2023"
         ],
         "xaxis": "x",
         "y": [
          11805,
          11398,
          13066,
          11432,
          7911,
          9455
         ],
         "yaxis": "y"
        },
        {
         "alignmentgroup": "True",
         "hovertemplate": "Crop=Durum wheat        <br>Year=%{x}<br>Metric_Tonnes=%{y}<extra></extra>",
         "legendgroup": "Durum wheat        ",
         "marker": {
          "color": "#19d3f3",
          "pattern": {
           "shape": ""
          }
         },
         "name": "Durum wheat        ",
         "offsetgroup": "Durum wheat        ",
         "orientation": "v",
         "showlegend": true,
         "textposition": "auto",
         "type": "bar",
         "x": [
          "2018",
          "2019",
          "2020",
          "2021",
          "2022",
          "2023"
         ],
         "xaxis": "x",
         "y": [
          15709,
          16587,
          16605,
          16174,
          11854,
          15625
         ],
         "yaxis": "y"
        },
        {
         "alignmentgroup": "True",
         "hovertemplate": "Crop=Flaxseed      <br>Year=%{x}<br>Metric_Tonnes=%{y}<extra></extra>",
         "legendgroup": "Flaxseed      ",
         "marker": {
          "color": "#FF6692",
          "pattern": {
           "shape": ""
          }
         },
         "name": "Flaxseed      ",
         "offsetgroup": "Flaxseed      ",
         "orientation": "v",
         "showlegend": true,
         "textposition": "auto",
         "type": "bar",
         "x": [
          "2018",
          "2019",
          "2020",
          "2021",
          "2022",
          "2023"
         ],
         "xaxis": "x",
         "y": [
          1602,
          1470,
          1550,
          1493,
          1147,
          1219
         ],
         "yaxis": "y"
        },
        {
         "alignmentgroup": "True",
         "hovertemplate": "Crop=Lentils<br>Year=%{x}<br>Metric_Tonnes=%{y}<extra></extra>",
         "legendgroup": "Lentils",
         "marker": {
          "color": "#B6E880",
          "pattern": {
           "shape": ""
          }
         },
         "name": "Lentils",
         "offsetgroup": "Lentils",
         "orientation": "v",
         "showlegend": true,
         "textposition": "auto",
         "type": "bar",
         "x": [
          "2018",
          "2019",
          "2020",
          "2021",
          "2022",
          "2023"
         ],
         "xaxis": "x",
         "y": [
          7308,
          6766,
          7632,
          7330,
          5489,
          6273
         ],
         "yaxis": "y"
        },
        {
         "alignmentgroup": "True",
         "hovertemplate": "Crop=Mustard seed<br>Year=%{x}<br>Metric_Tonnes=%{y}<extra></extra>",
         "legendgroup": "Mustard seed",
         "marker": {
          "color": "#FF97FF",
          "pattern": {
           "shape": ""
          }
         },
         "name": "Mustard seed",
         "offsetgroup": "Mustard seed",
         "orientation": "v",
         "showlegend": true,
         "textposition": "auto",
         "type": "bar",
         "x": [
          "2018",
          "2019",
          "2020",
          "2021",
          "2022",
          "2023"
         ],
         "xaxis": "x",
         "y": [
          174,
          483,
          370,
          260,
          282,
          495
         ],
         "yaxis": "y"
        },
        {
         "alignmentgroup": "True",
         "hovertemplate": "Crop=Oats       <br>Year=%{x}<br>Metric_Tonnes=%{y}<extra></extra>",
         "legendgroup": "Oats       ",
         "marker": {
          "color": "#FECB52",
          "pattern": {
           "shape": ""
          }
         },
         "name": "Oats       ",
         "offsetgroup": "Oats       ",
         "orientation": "v",
         "showlegend": true,
         "textposition": "auto",
         "type": "bar",
         "x": [
          "2018",
          "2019",
          "2020",
          "2021",
          "2022",
          "2023"
         ],
         "xaxis": "x",
         "y": [
          10902,
          11099,
          13030,
          12051,
          11024,
          13088
         ],
         "yaxis": "y"
        },
        {
         "alignmentgroup": "True",
         "hovertemplate": "Crop=Rye     <br>Year=%{x}<br>Metric_Tonnes=%{y}<extra></extra>",
         "legendgroup": "Rye     ",
         "marker": {
          "color": "#636efa",
          "pattern": {
           "shape": ""
          }
         },
         "name": "Rye     ",
         "offsetgroup": "Rye     ",
         "orientation": "v",
         "showlegend": true,
         "textposition": "auto",
         "type": "bar",
         "x": [
          "2018",
          "2019",
          "2020",
          "2021",
          "2022",
          "2023"
         ],
         "xaxis": "x",
         "y": [
          918,
          805,
          1154,
          1348,
          1264,
          1398
         ],
         "yaxis": "y"
        },
        {
         "alignmentgroup": "True",
         "hovertemplate": "Crop=Soybeans   <br>Year=%{x}<br>Metric_Tonnes=%{y}<extra></extra>",
         "legendgroup": "Soybeans   ",
         "marker": {
          "color": "#EF553B",
          "pattern": {
           "shape": ""
          }
         },
         "name": "Soybeans   ",
         "offsetgroup": "Soybeans   ",
         "orientation": "v",
         "showlegend": true,
         "textposition": "auto",
         "type": "bar",
         "x": [
          "2018",
          "2019",
          "2020",
          "2021",
          "2022",
          "2023"
         ],
         "xaxis": "x",
         "y": [
          22851,
          20979,
          18649,
          18942,
          18991,
          20066
         ],
         "yaxis": "y"
        },
        {
         "alignmentgroup": "True",
         "hovertemplate": "Crop=Sunflower seed<br>Year=%{x}<br>Metric_Tonnes=%{y}<extra></extra>",
         "legendgroup": "Sunflower seed",
         "marker": {
          "color": "#00cc96",
          "pattern": {
           "shape": ""
          }
         },
         "name": "Sunflower seed",
         "offsetgroup": "Sunflower seed",
         "orientation": "v",
         "showlegend": true,
         "textposition": "auto",
         "type": "bar",
         "x": [
          "2018",
          "2019",
          "2020",
          "2021",
          "2022",
          "2023"
         ],
         "xaxis": "x",
         "y": [
          57,
          177,
          227,
          277,
          234,
          260
         ],
         "yaxis": "y"
        },
        {
         "alignmentgroup": "True",
         "hovertemplate": "Crop=Wheat excluding durum       <br>Year=%{x}<br>Metric_Tonnes=%{y}<extra></extra>",
         "legendgroup": "Wheat excluding durum       ",
         "marker": {
          "color": "#ab63fa",
          "pattern": {
           "shape": ""
          }
         },
         "name": "Wheat excluding durum       ",
         "offsetgroup": "Wheat excluding durum       ",
         "orientation": "v",
         "showlegend": true,
         "textposition": "auto",
         "type": "bar",
         "x": [
          "2018",
          "2019",
          "2020",
          "2021",
          "2022",
          "2023"
         ],
         "xaxis": "x",
         "y": [
          77397,
          80787,
          84172,
          77122,
          67325,
          84999
         ],
         "yaxis": "y"
        }
       ],
       "layout": {
        "barmode": "group",
        "height": 600,
        "legend": {
         "title": {
          "text": "Crop"
         },
         "tracegroupgap": 0
        },
        "margin": {
         "t": 60
        },
        "template": {
         "data": {
          "bar": [
           {
            "error_x": {
             "color": "#2a3f5f"
            },
            "error_y": {
             "color": "#2a3f5f"
            },
            "marker": {
             "line": {
              "color": "#E5ECF6",
              "width": 0.5
             },
             "pattern": {
              "fillmode": "overlay",
              "size": 10,
              "solidity": 0.2
             }
            },
            "type": "bar"
           }
          ],
          "barpolar": [
           {
            "marker": {
             "line": {
              "color": "#E5ECF6",
              "width": 0.5
             },
             "pattern": {
              "fillmode": "overlay",
              "size": 10,
              "solidity": 0.2
             }
            },
            "type": "barpolar"
           }
          ],
          "carpet": [
           {
            "aaxis": {
             "endlinecolor": "#2a3f5f",
             "gridcolor": "white",
             "linecolor": "white",
             "minorgridcolor": "white",
             "startlinecolor": "#2a3f5f"
            },
            "baxis": {
             "endlinecolor": "#2a3f5f",
             "gridcolor": "white",
             "linecolor": "white",
             "minorgridcolor": "white",
             "startlinecolor": "#2a3f5f"
            },
            "type": "carpet"
           }
          ],
          "choropleth": [
           {
            "colorbar": {
             "outlinewidth": 0,
             "ticks": ""
            },
            "type": "choropleth"
           }
          ],
          "contour": [
           {
            "colorbar": {
             "outlinewidth": 0,
             "ticks": ""
            },
            "colorscale": [
             [
              0,
              "#0d0887"
             ],
             [
              0.1111111111111111,
              "#46039f"
             ],
             [
              0.2222222222222222,
              "#7201a8"
             ],
             [
              0.3333333333333333,
              "#9c179e"
             ],
             [
              0.4444444444444444,
              "#bd3786"
             ],
             [
              0.5555555555555556,
              "#d8576b"
             ],
             [
              0.6666666666666666,
              "#ed7953"
             ],
             [
              0.7777777777777778,
              "#fb9f3a"
             ],
             [
              0.8888888888888888,
              "#fdca26"
             ],
             [
              1,
              "#f0f921"
             ]
            ],
            "type": "contour"
           }
          ],
          "contourcarpet": [
           {
            "colorbar": {
             "outlinewidth": 0,
             "ticks": ""
            },
            "type": "contourcarpet"
           }
          ],
          "heatmap": [
           {
            "colorbar": {
             "outlinewidth": 0,
             "ticks": ""
            },
            "colorscale": [
             [
              0,
              "#0d0887"
             ],
             [
              0.1111111111111111,
              "#46039f"
             ],
             [
              0.2222222222222222,
              "#7201a8"
             ],
             [
              0.3333333333333333,
              "#9c179e"
             ],
             [
              0.4444444444444444,
              "#bd3786"
             ],
             [
              0.5555555555555556,
              "#d8576b"
             ],
             [
              0.6666666666666666,
              "#ed7953"
             ],
             [
              0.7777777777777778,
              "#fb9f3a"
             ],
             [
              0.8888888888888888,
              "#fdca26"
             ],
             [
              1,
              "#f0f921"
             ]
            ],
            "type": "heatmap"
           }
          ],
          "heatmapgl": [
           {
            "colorbar": {
             "outlinewidth": 0,
             "ticks": ""
            },
            "colorscale": [
             [
              0,
              "#0d0887"
             ],
             [
              0.1111111111111111,
              "#46039f"
             ],
             [
              0.2222222222222222,
              "#7201a8"
             ],
             [
              0.3333333333333333,
              "#9c179e"
             ],
             [
              0.4444444444444444,
              "#bd3786"
             ],
             [
              0.5555555555555556,
              "#d8576b"
             ],
             [
              0.6666666666666666,
              "#ed7953"
             ],
             [
              0.7777777777777778,
              "#fb9f3a"
             ],
             [
              0.8888888888888888,
              "#fdca26"
             ],
             [
              1,
              "#f0f921"
             ]
            ],
            "type": "heatmapgl"
           }
          ],
          "histogram": [
           {
            "marker": {
             "pattern": {
              "fillmode": "overlay",
              "size": 10,
              "solidity": 0.2
             }
            },
            "type": "histogram"
           }
          ],
          "histogram2d": [
           {
            "colorbar": {
             "outlinewidth": 0,
             "ticks": ""
            },
            "colorscale": [
             [
              0,
              "#0d0887"
             ],
             [
              0.1111111111111111,
              "#46039f"
             ],
             [
              0.2222222222222222,
              "#7201a8"
             ],
             [
              0.3333333333333333,
              "#9c179e"
             ],
             [
              0.4444444444444444,
              "#bd3786"
             ],
             [
              0.5555555555555556,
              "#d8576b"
             ],
             [
              0.6666666666666666,
              "#ed7953"
             ],
             [
              0.7777777777777778,
              "#fb9f3a"
             ],
             [
              0.8888888888888888,
              "#fdca26"
             ],
             [
              1,
              "#f0f921"
             ]
            ],
            "type": "histogram2d"
           }
          ],
          "histogram2dcontour": [
           {
            "colorbar": {
             "outlinewidth": 0,
             "ticks": ""
            },
            "colorscale": [
             [
              0,
              "#0d0887"
             ],
             [
              0.1111111111111111,
              "#46039f"
             ],
             [
              0.2222222222222222,
              "#7201a8"
             ],
             [
              0.3333333333333333,
              "#9c179e"
             ],
             [
              0.4444444444444444,
              "#bd3786"
             ],
             [
              0.5555555555555556,
              "#d8576b"
             ],
             [
              0.6666666666666666,
              "#ed7953"
             ],
             [
              0.7777777777777778,
              "#fb9f3a"
             ],
             [
              0.8888888888888888,
              "#fdca26"
             ],
             [
              1,
              "#f0f921"
             ]
            ],
            "type": "histogram2dcontour"
           }
          ],
          "mesh3d": [
           {
            "colorbar": {
             "outlinewidth": 0,
             "ticks": ""
            },
            "type": "mesh3d"
           }
          ],
          "parcoords": [
           {
            "line": {
             "colorbar": {
              "outlinewidth": 0,
              "ticks": ""
             }
            },
            "type": "parcoords"
           }
          ],
          "pie": [
           {
            "automargin": true,
            "type": "pie"
           }
          ],
          "scatter": [
           {
            "fillpattern": {
             "fillmode": "overlay",
             "size": 10,
             "solidity": 0.2
            },
            "type": "scatter"
           }
          ],
          "scatter3d": [
           {
            "line": {
             "colorbar": {
              "outlinewidth": 0,
              "ticks": ""
             }
            },
            "marker": {
             "colorbar": {
              "outlinewidth": 0,
              "ticks": ""
             }
            },
            "type": "scatter3d"
           }
          ],
          "scattercarpet": [
           {
            "marker": {
             "colorbar": {
              "outlinewidth": 0,
              "ticks": ""
             }
            },
            "type": "scattercarpet"
           }
          ],
          "scattergeo": [
           {
            "marker": {
             "colorbar": {
              "outlinewidth": 0,
              "ticks": ""
             }
            },
            "type": "scattergeo"
           }
          ],
          "scattergl": [
           {
            "marker": {
             "colorbar": {
              "outlinewidth": 0,
              "ticks": ""
             }
            },
            "type": "scattergl"
           }
          ],
          "scattermapbox": [
           {
            "marker": {
             "colorbar": {
              "outlinewidth": 0,
              "ticks": ""
             }
            },
            "type": "scattermapbox"
           }
          ],
          "scatterpolar": [
           {
            "marker": {
             "colorbar": {
              "outlinewidth": 0,
              "ticks": ""
             }
            },
            "type": "scatterpolar"
           }
          ],
          "scatterpolargl": [
           {
            "marker": {
             "colorbar": {
              "outlinewidth": 0,
              "ticks": ""
             }
            },
            "type": "scatterpolargl"
           }
          ],
          "scatterternary": [
           {
            "marker": {
             "colorbar": {
              "outlinewidth": 0,
              "ticks": ""
             }
            },
            "type": "scatterternary"
           }
          ],
          "surface": [
           {
            "colorbar": {
             "outlinewidth": 0,
             "ticks": ""
            },
            "colorscale": [
             [
              0,
              "#0d0887"
             ],
             [
              0.1111111111111111,
              "#46039f"
             ],
             [
              0.2222222222222222,
              "#7201a8"
             ],
             [
              0.3333333333333333,
              "#9c179e"
             ],
             [
              0.4444444444444444,
              "#bd3786"
             ],
             [
              0.5555555555555556,
              "#d8576b"
             ],
             [
              0.6666666666666666,
              "#ed7953"
             ],
             [
              0.7777777777777778,
              "#fb9f3a"
             ],
             [
              0.8888888888888888,
              "#fdca26"
             ],
             [
              1,
              "#f0f921"
             ]
            ],
            "type": "surface"
           }
          ],
          "table": [
           {
            "cells": {
             "fill": {
              "color": "#EBF0F8"
             },
             "line": {
              "color": "white"
             }
            },
            "header": {
             "fill": {
              "color": "#C8D4E3"
             },
             "line": {
              "color": "white"
             }
            },
            "type": "table"
           }
          ]
         },
         "layout": {
          "annotationdefaults": {
           "arrowcolor": "#2a3f5f",
           "arrowhead": 0,
           "arrowwidth": 1
          },
          "autotypenumbers": "strict",
          "coloraxis": {
           "colorbar": {
            "outlinewidth": 0,
            "ticks": ""
           }
          },
          "colorscale": {
           "diverging": [
            [
             0,
             "#8e0152"
            ],
            [
             0.1,
             "#c51b7d"
            ],
            [
             0.2,
             "#de77ae"
            ],
            [
             0.3,
             "#f1b6da"
            ],
            [
             0.4,
             "#fde0ef"
            ],
            [
             0.5,
             "#f7f7f7"
            ],
            [
             0.6,
             "#e6f5d0"
            ],
            [
             0.7,
             "#b8e186"
            ],
            [
             0.8,
             "#7fbc41"
            ],
            [
             0.9,
             "#4d9221"
            ],
            [
             1,
             "#276419"
            ]
           ],
           "sequential": [
            [
             0,
             "#0d0887"
            ],
            [
             0.1111111111111111,
             "#46039f"
            ],
            [
             0.2222222222222222,
             "#7201a8"
            ],
            [
             0.3333333333333333,
             "#9c179e"
            ],
            [
             0.4444444444444444,
             "#bd3786"
            ],
            [
             0.5555555555555556,
             "#d8576b"
            ],
            [
             0.6666666666666666,
             "#ed7953"
            ],
            [
             0.7777777777777778,
             "#fb9f3a"
            ],
            [
             0.8888888888888888,
             "#fdca26"
            ],
            [
             1,
             "#f0f921"
            ]
           ],
           "sequentialminus": [
            [
             0,
             "#0d0887"
            ],
            [
             0.1111111111111111,
             "#46039f"
            ],
            [
             0.2222222222222222,
             "#7201a8"
            ],
            [
             0.3333333333333333,
             "#9c179e"
            ],
            [
             0.4444444444444444,
             "#bd3786"
            ],
            [
             0.5555555555555556,
             "#d8576b"
            ],
            [
             0.6666666666666666,
             "#ed7953"
            ],
            [
             0.7777777777777778,
             "#fb9f3a"
            ],
            [
             0.8888888888888888,
             "#fdca26"
            ],
            [
             1,
             "#f0f921"
            ]
           ]
          },
          "colorway": [
           "#636efa",
           "#EF553B",
           "#00cc96",
           "#ab63fa",
           "#FFA15A",
           "#19d3f3",
           "#FF6692",
           "#B6E880",
           "#FF97FF",
           "#FECB52"
          ],
          "font": {
           "color": "#2a3f5f"
          },
          "geo": {
           "bgcolor": "white",
           "lakecolor": "white",
           "landcolor": "#E5ECF6",
           "showlakes": true,
           "showland": true,
           "subunitcolor": "white"
          },
          "hoverlabel": {
           "align": "left"
          },
          "hovermode": "closest",
          "mapbox": {
           "style": "light"
          },
          "paper_bgcolor": "white",
          "plot_bgcolor": "#E5ECF6",
          "polar": {
           "angularaxis": {
            "gridcolor": "white",
            "linecolor": "white",
            "ticks": ""
           },
           "bgcolor": "#E5ECF6",
           "radialaxis": {
            "gridcolor": "white",
            "linecolor": "white",
            "ticks": ""
           }
          },
          "scene": {
           "xaxis": {
            "backgroundcolor": "#E5ECF6",
            "gridcolor": "white",
            "gridwidth": 2,
            "linecolor": "white",
            "showbackground": true,
            "ticks": "",
            "zerolinecolor": "white"
           },
           "yaxis": {
            "backgroundcolor": "#E5ECF6",
            "gridcolor": "white",
            "gridwidth": 2,
            "linecolor": "white",
            "showbackground": true,
            "ticks": "",
            "zerolinecolor": "white"
           },
           "zaxis": {
            "backgroundcolor": "#E5ECF6",
            "gridcolor": "white",
            "gridwidth": 2,
            "linecolor": "white",
            "showbackground": true,
            "ticks": "",
            "zerolinecolor": "white"
           }
          },
          "shapedefaults": {
           "line": {
            "color": "#2a3f5f"
           }
          },
          "ternary": {
           "aaxis": {
            "gridcolor": "white",
            "linecolor": "white",
            "ticks": ""
           },
           "baxis": {
            "gridcolor": "white",
            "linecolor": "white",
            "ticks": ""
           },
           "bgcolor": "#E5ECF6",
           "caxis": {
            "gridcolor": "white",
            "linecolor": "white",
            "ticks": ""
           }
          },
          "title": {
           "x": 0.05
          },
          "xaxis": {
           "automargin": true,
           "gridcolor": "white",
           "linecolor": "white",
           "ticks": "",
           "title": {
            "standoff": 15
           },
           "zerolinecolor": "white",
           "zerolinewidth": 2
          },
          "yaxis": {
           "automargin": true,
           "gridcolor": "white",
           "linecolor": "white",
           "ticks": "",
           "title": {
            "standoff": 15
           },
           "zerolinecolor": "white",
           "zerolinewidth": 2
          }
         }
        },
        "width": 800,
        "xaxis": {
         "anchor": "y",
         "domain": [
          0,
          1
         ],
         "title": {
          "text": ""
         }
        },
        "yaxis": {
         "anchor": "x",
         "domain": [
          0,
          1
         ],
         "title": {
          "text": ""
         }
        }
       }
      }
     },
     "metadata": {},
     "output_type": "display_data"
    }
   ],
   "source": [
    "fig = px.bar(df_grouped, color='Crop', y='Metric_Tonnes', x='Year', barmode='group')\n",
    "fig.update_yaxes(title=\"\")\n",
    "fig.update_xaxes(title='')\n",
    "fig.update_layout(width=800, height=600)\n",
    "fig.show()"
   ]
  },
  {
   "cell_type": "code",
   "execution_count": 18,
   "metadata": {},
   "outputs": [
    {
     "data": {
      "application/vnd.plotly.v1+json": {
       "config": {
        "plotlyServerURL": "https://plot.ly"
       },
       "data": [
        {
         "hovertemplate": "Year=%{x}<br>Crop=%{y}<br>Metric_Tonnes=%{marker.color}<extra></extra>",
         "legendgroup": "",
         "marker": {
          "color": [
           24162,
           27143,
           31507,
           28466,
           23955,
           28870,
           158,
           491,
           575,
           577,
           413,
           430,
           63640,
           61360,
           59309,
           53218,
           47191,
           55718,
           311,
           874,
           718,
           519,
           310,
           398,
           11805,
           11398,
           13066,
           11432,
           7911,
           9455,
           15709,
           16587,
           16605,
           16174,
           11854,
           15625,
           1602,
           1470,
           1550,
           1493,
           1147,
           1219,
           7308,
           6766,
           7632,
           7330,
           5489,
           6273,
           174,
           483,
           370,
           260,
           282,
           495,
           10902,
           11099,
           13030,
           12051,
           11024,
           13088,
           918,
           805,
           1154,
           1348,
           1264,
           1398,
           22851,
           20979,
           18649,
           18942,
           18991,
           20066,
           57,
           177,
           227,
           277,
           234,
           260,
           77397,
           80787,
           84172,
           77122,
           67325,
           84999
          ],
          "coloraxis": "coloraxis",
          "size": [
           24162,
           27143,
           31507,
           28466,
           23955,
           28870,
           158,
           491,
           575,
           577,
           413,
           430,
           63640,
           61360,
           59309,
           53218,
           47191,
           55718,
           311,
           874,
           718,
           519,
           310,
           398,
           11805,
           11398,
           13066,
           11432,
           7911,
           9455,
           15709,
           16587,
           16605,
           16174,
           11854,
           15625,
           1602,
           1470,
           1550,
           1493,
           1147,
           1219,
           7308,
           6766,
           7632,
           7330,
           5489,
           6273,
           174,
           483,
           370,
           260,
           282,
           495,
           10902,
           11099,
           13030,
           12051,
           11024,
           13088,
           918,
           805,
           1154,
           1348,
           1264,
           1398,
           22851,
           20979,
           18649,
           18942,
           18991,
           20066,
           57,
           177,
           227,
           277,
           234,
           260,
           77397,
           80787,
           84172,
           77122,
           67325,
           84999
          ],
          "sizemode": "area",
          "sizeref": 212.4975,
          "symbol": "circle"
         },
         "mode": "markers",
         "name": "",
         "orientation": "v",
         "showlegend": false,
         "type": "scatter",
         "x": [
          "2018",
          "2019",
          "2020",
          "2021",
          "2022",
          "2023",
          "2018",
          "2019",
          "2020",
          "2021",
          "2022",
          "2023",
          "2018",
          "2019",
          "2020",
          "2021",
          "2022",
          "2023",
          "2018",
          "2019",
          "2020",
          "2021",
          "2022",
          "2023",
          "2018",
          "2019",
          "2020",
          "2021",
          "2022",
          "2023",
          "2018",
          "2019",
          "2020",
          "2021",
          "2022",
          "2023",
          "2018",
          "2019",
          "2020",
          "2021",
          "2022",
          "2023",
          "2018",
          "2019",
          "2020",
          "2021",
          "2022",
          "2023",
          "2018",
          "2019",
          "2020",
          "2021",
          "2022",
          "2023",
          "2018",
          "2019",
          "2020",
          "2021",
          "2022",
          "2023",
          "2018",
          "2019",
          "2020",
          "2021",
          "2022",
          "2023",
          "2018",
          "2019",
          "2020",
          "2021",
          "2022",
          "2023",
          "2018",
          "2019",
          "2020",
          "2021",
          "2022",
          "2023",
          "2018",
          "2019",
          "2020",
          "2021",
          "2022",
          "2023"
         ],
         "xaxis": "x",
         "y": [
          "Barley      ",
          "Barley      ",
          "Barley      ",
          "Barley      ",
          "Barley      ",
          "Barley      ",
          "Canary seed",
          "Canary seed",
          "Canary seed",
          "Canary seed",
          "Canary seed",
          "Canary seed",
          "Canola        ",
          "Canola        ",
          "Canola        ",
          "Canola        ",
          "Canola        ",
          "Canola        ",
          "Chickpeas",
          "Chickpeas",
          "Chickpeas",
          "Chickpeas",
          "Chickpeas",
          "Chickpeas",
          "Dry peas ",
          "Dry peas ",
          "Dry peas ",
          "Dry peas ",
          "Dry peas ",
          "Dry peas ",
          "Durum wheat        ",
          "Durum wheat        ",
          "Durum wheat        ",
          "Durum wheat        ",
          "Durum wheat        ",
          "Durum wheat        ",
          "Flaxseed      ",
          "Flaxseed      ",
          "Flaxseed      ",
          "Flaxseed      ",
          "Flaxseed      ",
          "Flaxseed      ",
          "Lentils",
          "Lentils",
          "Lentils",
          "Lentils",
          "Lentils",
          "Lentils",
          "Mustard seed",
          "Mustard seed",
          "Mustard seed",
          "Mustard seed",
          "Mustard seed",
          "Mustard seed",
          "Oats       ",
          "Oats       ",
          "Oats       ",
          "Oats       ",
          "Oats       ",
          "Oats       ",
          "Rye     ",
          "Rye     ",
          "Rye     ",
          "Rye     ",
          "Rye     ",
          "Rye     ",
          "Soybeans   ",
          "Soybeans   ",
          "Soybeans   ",
          "Soybeans   ",
          "Soybeans   ",
          "Soybeans   ",
          "Sunflower seed",
          "Sunflower seed",
          "Sunflower seed",
          "Sunflower seed",
          "Sunflower seed",
          "Sunflower seed",
          "Wheat excluding durum       ",
          "Wheat excluding durum       ",
          "Wheat excluding durum       ",
          "Wheat excluding durum       ",
          "Wheat excluding durum       ",
          "Wheat excluding durum       "
         ],
         "yaxis": "y"
        }
       ],
       "layout": {
        "coloraxis": {
         "colorbar": {
          "title": {
           "text": "Metric Tonnes"
          }
         },
         "colorscale": [
          [
           0,
           "rgb(103,0,31)"
          ],
          [
           0.1,
           "rgb(178,24,43)"
          ],
          [
           0.2,
           "rgb(214,96,77)"
          ],
          [
           0.3,
           "rgb(244,165,130)"
          ],
          [
           0.4,
           "rgb(253,219,199)"
          ],
          [
           0.5,
           "rgb(247,247,247)"
          ],
          [
           0.6,
           "rgb(209,229,240)"
          ],
          [
           0.7,
           "rgb(146,197,222)"
          ],
          [
           0.8,
           "rgb(67,147,195)"
          ],
          [
           0.9,
           "rgb(33,102,172)"
          ],
          [
           1,
           "rgb(5,48,97)"
          ]
         ]
        },
        "height": 600,
        "legend": {
         "itemsizing": "constant",
         "tracegroupgap": 0
        },
        "margin": {
         "t": 60
        },
        "paper_bgcolor": "white",
        "plot_bgcolor": "white",
        "template": {
         "data": {
          "bar": [
           {
            "error_x": {
             "color": "#2a3f5f"
            },
            "error_y": {
             "color": "#2a3f5f"
            },
            "marker": {
             "line": {
              "color": "#E5ECF6",
              "width": 0.5
             },
             "pattern": {
              "fillmode": "overlay",
              "size": 10,
              "solidity": 0.2
             }
            },
            "type": "bar"
           }
          ],
          "barpolar": [
           {
            "marker": {
             "line": {
              "color": "#E5ECF6",
              "width": 0.5
             },
             "pattern": {
              "fillmode": "overlay",
              "size": 10,
              "solidity": 0.2
             }
            },
            "type": "barpolar"
           }
          ],
          "carpet": [
           {
            "aaxis": {
             "endlinecolor": "#2a3f5f",
             "gridcolor": "white",
             "linecolor": "white",
             "minorgridcolor": "white",
             "startlinecolor": "#2a3f5f"
            },
            "baxis": {
             "endlinecolor": "#2a3f5f",
             "gridcolor": "white",
             "linecolor": "white",
             "minorgridcolor": "white",
             "startlinecolor": "#2a3f5f"
            },
            "type": "carpet"
           }
          ],
          "choropleth": [
           {
            "colorbar": {
             "outlinewidth": 0,
             "ticks": ""
            },
            "type": "choropleth"
           }
          ],
          "contour": [
           {
            "colorbar": {
             "outlinewidth": 0,
             "ticks": ""
            },
            "colorscale": [
             [
              0,
              "#0d0887"
             ],
             [
              0.1111111111111111,
              "#46039f"
             ],
             [
              0.2222222222222222,
              "#7201a8"
             ],
             [
              0.3333333333333333,
              "#9c179e"
             ],
             [
              0.4444444444444444,
              "#bd3786"
             ],
             [
              0.5555555555555556,
              "#d8576b"
             ],
             [
              0.6666666666666666,
              "#ed7953"
             ],
             [
              0.7777777777777778,
              "#fb9f3a"
             ],
             [
              0.8888888888888888,
              "#fdca26"
             ],
             [
              1,
              "#f0f921"
             ]
            ],
            "type": "contour"
           }
          ],
          "contourcarpet": [
           {
            "colorbar": {
             "outlinewidth": 0,
             "ticks": ""
            },
            "type": "contourcarpet"
           }
          ],
          "heatmap": [
           {
            "colorbar": {
             "outlinewidth": 0,
             "ticks": ""
            },
            "colorscale": [
             [
              0,
              "#0d0887"
             ],
             [
              0.1111111111111111,
              "#46039f"
             ],
             [
              0.2222222222222222,
              "#7201a8"
             ],
             [
              0.3333333333333333,
              "#9c179e"
             ],
             [
              0.4444444444444444,
              "#bd3786"
             ],
             [
              0.5555555555555556,
              "#d8576b"
             ],
             [
              0.6666666666666666,
              "#ed7953"
             ],
             [
              0.7777777777777778,
              "#fb9f3a"
             ],
             [
              0.8888888888888888,
              "#fdca26"
             ],
             [
              1,
              "#f0f921"
             ]
            ],
            "type": "heatmap"
           }
          ],
          "heatmapgl": [
           {
            "colorbar": {
             "outlinewidth": 0,
             "ticks": ""
            },
            "colorscale": [
             [
              0,
              "#0d0887"
             ],
             [
              0.1111111111111111,
              "#46039f"
             ],
             [
              0.2222222222222222,
              "#7201a8"
             ],
             [
              0.3333333333333333,
              "#9c179e"
             ],
             [
              0.4444444444444444,
              "#bd3786"
             ],
             [
              0.5555555555555556,
              "#d8576b"
             ],
             [
              0.6666666666666666,
              "#ed7953"
             ],
             [
              0.7777777777777778,
              "#fb9f3a"
             ],
             [
              0.8888888888888888,
              "#fdca26"
             ],
             [
              1,
              "#f0f921"
             ]
            ],
            "type": "heatmapgl"
           }
          ],
          "histogram": [
           {
            "marker": {
             "pattern": {
              "fillmode": "overlay",
              "size": 10,
              "solidity": 0.2
             }
            },
            "type": "histogram"
           }
          ],
          "histogram2d": [
           {
            "colorbar": {
             "outlinewidth": 0,
             "ticks": ""
            },
            "colorscale": [
             [
              0,
              "#0d0887"
             ],
             [
              0.1111111111111111,
              "#46039f"
             ],
             [
              0.2222222222222222,
              "#7201a8"
             ],
             [
              0.3333333333333333,
              "#9c179e"
             ],
             [
              0.4444444444444444,
              "#bd3786"
             ],
             [
              0.5555555555555556,
              "#d8576b"
             ],
             [
              0.6666666666666666,
              "#ed7953"
             ],
             [
              0.7777777777777778,
              "#fb9f3a"
             ],
             [
              0.8888888888888888,
              "#fdca26"
             ],
             [
              1,
              "#f0f921"
             ]
            ],
            "type": "histogram2d"
           }
          ],
          "histogram2dcontour": [
           {
            "colorbar": {
             "outlinewidth": 0,
             "ticks": ""
            },
            "colorscale": [
             [
              0,
              "#0d0887"
             ],
             [
              0.1111111111111111,
              "#46039f"
             ],
             [
              0.2222222222222222,
              "#7201a8"
             ],
             [
              0.3333333333333333,
              "#9c179e"
             ],
             [
              0.4444444444444444,
              "#bd3786"
             ],
             [
              0.5555555555555556,
              "#d8576b"
             ],
             [
              0.6666666666666666,
              "#ed7953"
             ],
             [
              0.7777777777777778,
              "#fb9f3a"
             ],
             [
              0.8888888888888888,
              "#fdca26"
             ],
             [
              1,
              "#f0f921"
             ]
            ],
            "type": "histogram2dcontour"
           }
          ],
          "mesh3d": [
           {
            "colorbar": {
             "outlinewidth": 0,
             "ticks": ""
            },
            "type": "mesh3d"
           }
          ],
          "parcoords": [
           {
            "line": {
             "colorbar": {
              "outlinewidth": 0,
              "ticks": ""
             }
            },
            "type": "parcoords"
           }
          ],
          "pie": [
           {
            "automargin": true,
            "type": "pie"
           }
          ],
          "scatter": [
           {
            "fillpattern": {
             "fillmode": "overlay",
             "size": 10,
             "solidity": 0.2
            },
            "type": "scatter"
           }
          ],
          "scatter3d": [
           {
            "line": {
             "colorbar": {
              "outlinewidth": 0,
              "ticks": ""
             }
            },
            "marker": {
             "colorbar": {
              "outlinewidth": 0,
              "ticks": ""
             }
            },
            "type": "scatter3d"
           }
          ],
          "scattercarpet": [
           {
            "marker": {
             "colorbar": {
              "outlinewidth": 0,
              "ticks": ""
             }
            },
            "type": "scattercarpet"
           }
          ],
          "scattergeo": [
           {
            "marker": {
             "colorbar": {
              "outlinewidth": 0,
              "ticks": ""
             }
            },
            "type": "scattergeo"
           }
          ],
          "scattergl": [
           {
            "marker": {
             "colorbar": {
              "outlinewidth": 0,
              "ticks": ""
             }
            },
            "type": "scattergl"
           }
          ],
          "scattermapbox": [
           {
            "marker": {
             "colorbar": {
              "outlinewidth": 0,
              "ticks": ""
             }
            },
            "type": "scattermapbox"
           }
          ],
          "scatterpolar": [
           {
            "marker": {
             "colorbar": {
              "outlinewidth": 0,
              "ticks": ""
             }
            },
            "type": "scatterpolar"
           }
          ],
          "scatterpolargl": [
           {
            "marker": {
             "colorbar": {
              "outlinewidth": 0,
              "ticks": ""
             }
            },
            "type": "scatterpolargl"
           }
          ],
          "scatterternary": [
           {
            "marker": {
             "colorbar": {
              "outlinewidth": 0,
              "ticks": ""
             }
            },
            "type": "scatterternary"
           }
          ],
          "surface": [
           {
            "colorbar": {
             "outlinewidth": 0,
             "ticks": ""
            },
            "colorscale": [
             [
              0,
              "#0d0887"
             ],
             [
              0.1111111111111111,
              "#46039f"
             ],
             [
              0.2222222222222222,
              "#7201a8"
             ],
             [
              0.3333333333333333,
              "#9c179e"
             ],
             [
              0.4444444444444444,
              "#bd3786"
             ],
             [
              0.5555555555555556,
              "#d8576b"
             ],
             [
              0.6666666666666666,
              "#ed7953"
             ],
             [
              0.7777777777777778,
              "#fb9f3a"
             ],
             [
              0.8888888888888888,
              "#fdca26"
             ],
             [
              1,
              "#f0f921"
             ]
            ],
            "type": "surface"
           }
          ],
          "table": [
           {
            "cells": {
             "fill": {
              "color": "#EBF0F8"
             },
             "line": {
              "color": "white"
             }
            },
            "header": {
             "fill": {
              "color": "#C8D4E3"
             },
             "line": {
              "color": "white"
             }
            },
            "type": "table"
           }
          ]
         },
         "layout": {
          "annotationdefaults": {
           "arrowcolor": "#2a3f5f",
           "arrowhead": 0,
           "arrowwidth": 1
          },
          "autotypenumbers": "strict",
          "coloraxis": {
           "colorbar": {
            "outlinewidth": 0,
            "ticks": ""
           }
          },
          "colorscale": {
           "diverging": [
            [
             0,
             "#8e0152"
            ],
            [
             0.1,
             "#c51b7d"
            ],
            [
             0.2,
             "#de77ae"
            ],
            [
             0.3,
             "#f1b6da"
            ],
            [
             0.4,
             "#fde0ef"
            ],
            [
             0.5,
             "#f7f7f7"
            ],
            [
             0.6,
             "#e6f5d0"
            ],
            [
             0.7,
             "#b8e186"
            ],
            [
             0.8,
             "#7fbc41"
            ],
            [
             0.9,
             "#4d9221"
            ],
            [
             1,
             "#276419"
            ]
           ],
           "sequential": [
            [
             0,
             "#0d0887"
            ],
            [
             0.1111111111111111,
             "#46039f"
            ],
            [
             0.2222222222222222,
             "#7201a8"
            ],
            [
             0.3333333333333333,
             "#9c179e"
            ],
            [
             0.4444444444444444,
             "#bd3786"
            ],
            [
             0.5555555555555556,
             "#d8576b"
            ],
            [
             0.6666666666666666,
             "#ed7953"
            ],
            [
             0.7777777777777778,
             "#fb9f3a"
            ],
            [
             0.8888888888888888,
             "#fdca26"
            ],
            [
             1,
             "#f0f921"
            ]
           ],
           "sequentialminus": [
            [
             0,
             "#0d0887"
            ],
            [
             0.1111111111111111,
             "#46039f"
            ],
            [
             0.2222222222222222,
             "#7201a8"
            ],
            [
             0.3333333333333333,
             "#9c179e"
            ],
            [
             0.4444444444444444,
             "#bd3786"
            ],
            [
             0.5555555555555556,
             "#d8576b"
            ],
            [
             0.6666666666666666,
             "#ed7953"
            ],
            [
             0.7777777777777778,
             "#fb9f3a"
            ],
            [
             0.8888888888888888,
             "#fdca26"
            ],
            [
             1,
             "#f0f921"
            ]
           ]
          },
          "colorway": [
           "#636efa",
           "#EF553B",
           "#00cc96",
           "#ab63fa",
           "#FFA15A",
           "#19d3f3",
           "#FF6692",
           "#B6E880",
           "#FF97FF",
           "#FECB52"
          ],
          "font": {
           "color": "#2a3f5f"
          },
          "geo": {
           "bgcolor": "white",
           "lakecolor": "white",
           "landcolor": "#E5ECF6",
           "showlakes": true,
           "showland": true,
           "subunitcolor": "white"
          },
          "hoverlabel": {
           "align": "left"
          },
          "hovermode": "closest",
          "mapbox": {
           "style": "light"
          },
          "paper_bgcolor": "white",
          "plot_bgcolor": "#E5ECF6",
          "polar": {
           "angularaxis": {
            "gridcolor": "white",
            "linecolor": "white",
            "ticks": ""
           },
           "bgcolor": "#E5ECF6",
           "radialaxis": {
            "gridcolor": "white",
            "linecolor": "white",
            "ticks": ""
           }
          },
          "scene": {
           "xaxis": {
            "backgroundcolor": "#E5ECF6",
            "gridcolor": "white",
            "gridwidth": 2,
            "linecolor": "white",
            "showbackground": true,
            "ticks": "",
            "zerolinecolor": "white"
           },
           "yaxis": {
            "backgroundcolor": "#E5ECF6",
            "gridcolor": "white",
            "gridwidth": 2,
            "linecolor": "white",
            "showbackground": true,
            "ticks": "",
            "zerolinecolor": "white"
           },
           "zaxis": {
            "backgroundcolor": "#E5ECF6",
            "gridcolor": "white",
            "gridwidth": 2,
            "linecolor": "white",
            "showbackground": true,
            "ticks": "",
            "zerolinecolor": "white"
           }
          },
          "shapedefaults": {
           "line": {
            "color": "#2a3f5f"
           }
          },
          "ternary": {
           "aaxis": {
            "gridcolor": "white",
            "linecolor": "white",
            "ticks": ""
           },
           "baxis": {
            "gridcolor": "white",
            "linecolor": "white",
            "ticks": ""
           },
           "bgcolor": "#E5ECF6",
           "caxis": {
            "gridcolor": "white",
            "linecolor": "white",
            "ticks": ""
           }
          },
          "title": {
           "x": 0.05
          },
          "xaxis": {
           "automargin": true,
           "gridcolor": "white",
           "linecolor": "white",
           "ticks": "",
           "title": {
            "standoff": 15
           },
           "zerolinecolor": "white",
           "zerolinewidth": 2
          },
          "yaxis": {
           "automargin": true,
           "gridcolor": "white",
           "linecolor": "white",
           "ticks": "",
           "title": {
            "standoff": 15
           },
           "zerolinecolor": "white",
           "zerolinewidth": 2
          }
         }
        },
        "width": 800,
        "xaxis": {
         "anchor": "y",
         "domain": [
          0,
          1
         ],
         "gridcolor": "LightGray",
         "gridwidth": 1,
         "showgrid": true,
         "title": {
          "text": ""
         }
        },
        "yaxis": {
         "anchor": "x",
         "domain": [
          0,
          1
         ],
         "gridcolor": "LightGray",
         "gridwidth": 1,
         "showgrid": true,
         "title": {
          "text": ""
         }
        }
       }
      }
     },
     "metadata": {},
     "output_type": "display_data"
    }
   ],
   "source": [
    "fig = px.scatter(\n",
    "    df_grouped, y='Crop', x='Year', color='Metric_Tonnes', size='Metric_Tonnes',\n",
    "    color_continuous_scale = px.colors.sequential.RdBu,\n",
    ")\n",
    "fig.update_layout(\n",
    "        paper_bgcolor=\"white\",\n",
    "        plot_bgcolor=\"white\",\n",
    "    )\n",
    "fig.update_yaxes(showgrid=True, gridwidth=1, gridcolor='LightGray')\n",
    "fig.update_xaxes(showgrid=True, gridwidth=1, gridcolor='LightGray')\n",
    "fig.update_coloraxes(colorbar=dict(title='Metric Tonnes'))\n",
    "fig.update_yaxes(title=\"\")\n",
    "fig.update_xaxes(title='')\n",
    "fig.update_layout(width=800, height=600)\n",
    "fig.show()"
   ]
  },
  {
   "cell_type": "code",
   "execution_count": 6,
   "metadata": {},
   "outputs": [
    {
     "data": {
      "text/html": [
       "<details>\n",
       "<summary>Click to view session information</summary>\n",
       "<pre>\n",
       "-----\n",
       "matplotlib          3.7.1\n",
       "pandas              1.5.3\n",
       "plotly              5.9.0\n",
       "session_info        1.0.0\n",
       "-----\n",
       "</pre>\n",
       "<details>\n",
       "<summary>Click to view modules imported as dependencies</summary>\n",
       "<pre>\n",
       "PIL                 9.4.0\n",
       "anyio               NA\n",
       "asttokens           NA\n",
       "attr                22.1.0\n",
       "babel               2.11.0\n",
       "backcall            0.2.0\n",
       "bottleneck          1.3.5\n",
       "brotli              NA\n",
       "certifi             2020.06.20\n",
       "cffi                1.15.1\n",
       "chardet             4.0.0\n",
       "charset_normalizer  2.0.4\n",
       "cloudpickle         2.2.1\n",
       "colorama            0.4.6\n",
       "comm                0.1.2\n",
       "cycler              0.10.0\n",
       "cython_runtime      NA\n",
       "cytoolz             0.12.0\n",
       "dask                2023.6.0\n",
       "dateutil            2.8.2\n",
       "debugpy             1.6.7\n",
       "decorator           5.1.1\n",
       "defusedxml          0.7.1\n",
       "entrypoints         0.4\n",
       "executing           0.8.3\n",
       "fastjsonschema      NA\n",
       "idna                3.4\n",
       "importlib_metadata  NA\n",
       "ipykernel           6.25.0\n",
       "ipython_genutils    0.2.0\n",
       "ipywidgets          8.0.4\n",
       "jedi                0.18.1\n",
       "jinja2              3.1.2\n",
       "json5               NA\n",
       "jsonpointer         2.1\n",
       "jsonschema          4.17.3\n",
       "jupyter_server      1.23.4\n",
       "jupyterlab_server   2.22.0\n",
       "kaleido             0.2.1\n",
       "kiwisolver          1.4.4\n",
       "markupsafe          2.1.1\n",
       "mkl                 2.4.0\n",
       "mpl_toolkits        NA\n",
       "nbformat            5.7.0\n",
       "numexpr             2.8.4\n",
       "numpy               1.24.3\n",
       "packaging           23.0\n",
       "parso               0.8.3\n",
       "pickleshare         0.7.5\n",
       "pkg_resources       NA\n",
       "platformdirs        2.5.2\n",
       "prometheus_client   NA\n",
       "prompt_toolkit      3.0.36\n",
       "psutil              5.9.0\n",
       "pure_eval           0.2.2\n",
       "pvectorc            NA\n",
       "pyarrow             11.0.0\n",
       "pydev_ipython       NA\n",
       "pydevconsole        NA\n",
       "pydevd              2.9.5\n",
       "pydevd_file_utils   NA\n",
       "pydevd_plugins      NA\n",
       "pydevd_tracing      NA\n",
       "pygments            2.15.1\n",
       "pyparsing           3.0.9\n",
       "pyrsistent          NA\n",
       "pythoncom           NA\n",
       "pytz                2022.7\n",
       "pywin32_system32    NA\n",
       "pywintypes          NA\n",
       "requests            2.31.0\n",
       "rfc3339_validator   0.1.4\n",
       "rfc3986_validator   0.1.1\n",
       "ruamel              NA\n",
       "send2trash          NA\n",
       "setuptools          68.0.0\n",
       "six                 1.16.0\n",
       "sniffio             1.2.0\n",
       "socks               1.7.1\n",
       "sphinxcontrib       NA\n",
       "stack_data          0.2.0\n",
       "tblib               1.7.0\n",
       "tenacity            NA\n",
       "terminado           0.17.1\n",
       "tlz                 0.12.0\n",
       "toolz               0.12.0\n",
       "tornado             6.3.2\n",
       "traitlets           5.7.1\n",
       "typing_extensions   NA\n",
       "urllib3             1.26.16\n",
       "vscode              NA\n",
       "wcwidth             0.2.5\n",
       "websocket           0.58.0\n",
       "win32api            NA\n",
       "win32com            NA\n",
       "win32con            NA\n",
       "win32trace          NA\n",
       "winerror            NA\n",
       "winpty              2.0.10\n",
       "xarray              2023.6.0\n",
       "yaml                6.0\n",
       "zipp                NA\n",
       "zmq                 23.2.0\n",
       "zope                NA\n",
       "zstandard           0.19.0\n",
       "</pre>\n",
       "</details> <!-- seems like this ends pre, so might as well be explicit -->\n",
       "<pre>\n",
       "-----\n",
       "IPython             8.12.3\n",
       "jupyter_client      7.4.9\n",
       "jupyter_core        5.3.0\n",
       "jupyterlab          3.6.3\n",
       "notebook            6.5.4\n",
       "-----\n",
       "Python 3.11.4 | packaged by Anaconda, Inc. | (main, Jul  5 2023, 13:38:37) [MSC v.1916 64 bit (AMD64)]\n",
       "Windows-10-10.0.22631-SP0\n",
       "-----\n",
       "Session information updated at 2024-05-20 16:08\n",
       "</pre>\n",
       "</details>"
      ],
      "text/plain": [
       "<IPython.core.display.HTML object>"
      ]
     },
     "execution_count": 6,
     "metadata": {},
     "output_type": "execute_result"
    }
   ],
   "source": [
    "import session_info\n",
    "session_info.show()"
   ]
  }
 ],
 "metadata": {
  "kernelspec": {
   "display_name": "seo",
   "language": "python",
   "name": "python3"
  },
  "language_info": {
   "codemirror_mode": {
    "name": "ipython",
    "version": 3
   },
   "file_extension": ".py",
   "mimetype": "text/x-python",
   "name": "python",
   "nbconvert_exporter": "python",
   "pygments_lexer": "ipython3",
   "version": "3.11.4"
  }
 },
 "nbformat": 4,
 "nbformat_minor": 2
}
